{
 "cells": [
  {
   "cell_type": "code",
   "execution_count": 1,
   "metadata": {},
   "outputs": [],
   "source": [
    "import os\n",
    "\n",
    "import numpy as np\n",
    "import random\n",
    "from time import time"
   ]
  },
  {
   "cell_type": "code",
   "execution_count": 2,
   "metadata": {},
   "outputs": [],
   "source": [
    "original_path = os.getcwd()\n",
    "\n",
    "# Import Objective function and the shifted global optimum (target and bias)\n",
    "os.chdir('../problem')\n",
    "from ipynb.fs.full.target_bias import target_bias\n",
    "from ipynb.fs.full.objective_function import objective_function\n",
    "from ipynb.fs.full.boundary_loader import boundary_loader\n",
    "os.chdir(original_path)\n",
    "\n",
    "# Import a homemade Genetic Algorithm\n",
    "os.chdir('../algorithm')\n",
    "from ipynb.fs.full.custom_GA import GA\n",
    "os.chdir(original_path)"
   ]
  },
  {
   "cell_type": "code",
   "execution_count": 3,
   "metadata": {},
   "outputs": [
    {
     "name": "stdout",
     "output_type": "stream",
     "text": [
      "Boundary: +/- 5\n"
     ]
    }
   ],
   "source": [
    "\"\"\" \n",
    "Arguments=\n",
    "    -function: a callable function among:\n",
    "        -Sphere\n",
    "        -Schewfel\n",
    "        -Rosenbrock\n",
    "        -Rastrigin\n",
    "        -Griewank\n",
    "        -Ackley\n",
    "\"\"\"\n",
    "\n",
    "function_name = 'Rastrigin'\n",
    "\n",
    "Problem_dimension = 50\n",
    "\n",
    "# Number of run to get the better result\n",
    "Run = 1\n",
    "\n",
    "boundary = boundary_loader(function_name)\n",
    "print('Boundary: +/- {}'.format(boundary))"
   ]
  },
  {
   "cell_type": "code",
   "execution_count": null,
   "metadata": {},
   "outputs": [
    {
     "name": "stdout",
     "output_type": "stream",
     "text": [
      "Current iteration: 0. fitness: 786.107735949143\n",
      "Current iteration: 100. fitness: -67.38214907809834\n",
      "Current iteration: 200. fitness: -68.18176673946937\n",
      "Current iteration: 300. fitness: -68.24105072925153\n",
      "Current iteration: 400. fitness: -68.24105072925153\n",
      "Current iteration: 500. fitness: -68.24105072925153\n",
      "Current iteration: 600. fitness: -68.33261821204496\n",
      "Current iteration: 700. fitness: -68.33261821204496\n",
      "Current iteration: 800. fitness: -68.33261821204496\n",
      "Current iteration: 900. fitness: -68.33261821204496\n",
      "Current iteration: 1000. fitness: -68.34923298857854\n",
      "Current iteration: 1100. fitness: -68.38505008348585\n",
      "Current iteration: 1200. fitness: -68.38505008348585\n",
      "Current iteration: 1300. fitness: -68.38505008348585\n",
      "Current iteration: 1400. fitness: -68.38505008348585\n",
      "Current iteration: 1500. fitness: -68.38505008348585\n",
      "Current iteration: 1600. fitness: -68.38505008348585\n",
      "Current iteration: 1700. fitness: -68.38505008348585\n",
      "Current iteration: 1800. fitness: -68.38505008348585\n",
      "Current iteration: 1900. fitness: -68.38505008348585\n",
      "Current iteration: 2000. fitness: -68.38505008348585\n",
      "Current iteration: 2100. fitness: -68.38505008348585\n",
      "Current iteration: 2200. fitness: -68.38505008348585\n",
      "Current iteration: 2300. fitness: -68.39536830536798\n",
      "Current iteration: 2400. fitness: -68.39536830536798\n",
      "Current iteration: 2500. fitness: -68.39536830536798\n",
      "Current iteration: 2600. fitness: -68.39536830536798\n"
     ]
    }
   ],
   "source": [
    "fitness_log_best = 99999\n",
    "\n",
    "cr = 0.4\n",
    "mr = 0.05\n",
    "\n",
    "\n",
    "for i in range(1):\n",
    "    t1 = time()\n",
    "    fitness_log, best_candidate= GA(function = function_name\n",
    "                                                ,pop_size = 100\n",
    "                                               ,dimension = Problem_dimension\n",
    "                                               ,lower_bound = -5.12\n",
    "                                               ,upper_bound = 5.12\n",
    "                                               ,iteration = 10000\n",
    "                                               ,stop_rule = -999999999\n",
    "                                               ,num_parents = 5\n",
    "                                               ,maximization = False\n",
    "                                               ,offspring_size = 100\n",
    "                                               ,crossover_rate = cr\n",
    "                                               ,crossover_type = 'SNP'\n",
    "                                               ,mutation_intensity = 1\n",
    "                                               ,mutation_rate = mr\n",
    "                                               ,mutation_type = 'gaussian'\n",
    "                                               ,mutation_decrease_time = 10\n",
    "                                               ,mutation_decrease_intensity = 0.25\n",
    "                                               ,mutation_jump = 50\n",
    "                                              )\n",
    "    t2 = time()\n",
    "\n",
    "   # if np.min(fitness_log) < fitness_log_best:\n",
    "    #    fitness_log_best = np.min(fitness_log)\n",
    "     #   overall_best_candidate = best_candidate\n",
    "      #  computation_time = t2 - t1\n",
    "    computation_time = t2 - t1"
   ]
  },
  {
   "cell_type": "code",
   "execution_count": null,
   "metadata": {},
   "outputs": [],
   "source": [
    "type(fitness_log)\n",
    "print(computation_time)"
   ]
  }
 ],
 "metadata": {
  "kernelspec": {
   "display_name": "Python 3",
   "language": "python",
   "name": "python3"
  },
  "language_info": {
   "codemirror_mode": {
    "name": "ipython",
    "version": 3
   },
   "file_extension": ".py",
   "mimetype": "text/x-python",
   "name": "python",
   "nbconvert_exporter": "python",
   "pygments_lexer": "ipython3",
   "version": "3.7.4"
  }
 },
 "nbformat": 4,
 "nbformat_minor": 4
}
