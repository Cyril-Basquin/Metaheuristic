{
 "cells": [
  {
   "cell_type": "raw",
   "metadata": {},
   "source": [
    "pip install inspyred"
   ]
  },
  {
   "cell_type": "raw",
   "metadata": {},
   "source": [
    "pip install pygmo"
   ]
  },
  {
   "cell_type": "raw",
   "metadata": {},
   "source": [
    "pip install jmetapy"
   ]
  },
  {
   "cell_type": "markdown",
   "metadata": {},
   "source": [
    "# Inspyred"
   ]
  },
  {
   "cell_type": "code",
   "execution_count": 1,
   "metadata": {},
   "outputs": [],
   "source": [
    "from random import Random\n",
    "from time import time\n",
    "import inspyred\n",
    "\n",
    "prng = None\n",
    "\n",
    "if prng is None:\n",
    "    prng = Random()\n",
    "    prng.seed(time()) \n",
    "\n",
    "problem = inspyred.benchmarks.Rastrigin(50)\n",
    "\n",
    "ea = inspyred.ec.GA(prng)\n",
    "ea.terminator = inspyred.ec.terminators.evaluation_termination\n",
    "\n",
    "t1 = time()\n",
    "final_pop = ea.evolve(generator=problem.generator,\n",
    "                      evaluator=problem.evaluator,\n",
    "                      pop_size=100,\n",
    "                      maximize=problem.maximize,\n",
    "                      bounder=problem.bounder,\n",
    "                      max_evaluations=100*10000,\n",
    "                      crossover_rate= 0.9 ,\n",
    "                      mutation_rate = 0.02,\n",
    "                      num_elites=1)\n",
    "\n",
    "t2 = time()\n",
    "time_inspyred = t2-t1\n",
    "\n",
    "final_pop.sort(reverse=True)\n",
    "best_inspyred = final_pop[0]\n"
   ]
  },
  {
   "cell_type": "markdown",
   "metadata": {},
   "source": [
    "# pygmo"
   ]
  },
  {
   "cell_type": "raw",
   "metadata": {},
   "source": [
    "from time import time\n",
    "import pygmo as pg\n",
    "\n",
    "prob = pg.problem(pg.rastrigin(dim = 50)) \n",
    "pop = pg.population(prob, size = 100)\n",
    "\n",
    "algo = pg.algorithm(pg.sga(gen= 10000,\n",
    "                          m = 0.02,\n",
    "                          cr = 0.9,))\n",
    "\n",
    "algo.set_verbosity(50)\n",
    "    \n",
    "t1 = time()\n",
    "pop = algo.evolve(pop)\n",
    "t2 = time()\n",
    "\n",
    "time_pygmo = t2-t1\n",
    "\n",
    "# Getting the best individual in the population\n",
    "best_fitness_pygmo = pop.get_f()[pop.best_idx()]\n"
   ]
  },
  {
   "cell_type": "markdown",
   "metadata": {},
   "source": [
    "# JmetalPy"
   ]
  },
  {
   "cell_type": "code",
   "execution_count": 3,
   "metadata": {},
   "outputs": [
    {
     "name": "stdout",
     "output_type": "stream",
     "text": [
      "Fitness: 0.00850797192192232\n"
     ]
    }
   ],
   "source": [
    "import math\n",
    "\n",
    "from jmetal.algorithm.singleobjective.genetic_algorithm import GeneticAlgorithm\n",
    "from jmetal.operator import BestSolutionSelection, SimpleRandomMutation, SBXCrossover \n",
    "from jmetal.operator import PolynomialMutation, DifferentialEvolutionCrossover\n",
    "from jmetal.core.problem import FloatProblem, FloatSolution\n",
    "from jmetal.util.termination_criterion import StoppingByEvaluations\n",
    "\n",
    "from jmetal.problem.singleobjective.unconstrained import Rastrigin\n",
    "\n",
    "problem = Rastrigin(50)\n",
    "\n",
    "algorithm = GeneticAlgorithm(\n",
    "    problem=problem,\n",
    "    population_size=100,\n",
    "    offspring_population_size=100,\n",
    "    mutation=PolynomialMutation(probability = 0.01, distribution_index = 1.0), \n",
    "    crossover=SBXCrossover(probability = 0.85, distribution_index = 1.0), # DIM 500 Schwefel Anthony\n",
    "    selection=BestSolutionSelection(),\n",
    "    termination_criterion=StoppingByEvaluations(100*10000)\n",
    ")\n",
    "\n",
    "t1 = time()\n",
    "algorithm.run()\n",
    "result_jmetal = algorithm.get_result()\n",
    "t2 = time()\n",
    "\n",
    "time_jmetal = t2-t1\n",
    "\n",
    "print('Fitness: {}'.format(result_jmetal.objectives[0]))\n"
   ]
  },
  {
   "cell_type": "code",
   "execution_count": 8,
   "metadata": {},
   "outputs": [
    {
     "name": "stdout",
     "output_type": "stream",
     "text": [
      "Inspyred computational time: 93.12399554252625\n",
      "JmetalPy computational time: 606.3621666431427 \n",
      "\n",
      "Inspyred best fitness: 462.97819305460314\n",
      "JmetalPy best fitness: 0.00850797192192232 \n",
      "\n"
     ]
    }
   ],
   "source": [
    "print('Inspyred computational time: {}'.format(time_inspyred))\n",
    "#print('Pygmo  computational   time: {} \\n'.format(time_pygmo))\n",
    "print('JmetalPy computational time: {} \\n'.format(time_jmetal))\n",
    "\n",
    "\n",
    "print('Inspyred best fitness: {}'.format(best_inspyred.fitness))\n",
    "#print('Pygmo best fitness: {} \\n'.format(best_fitness_pygmo))\n",
    "print('JmetalPy best fitness: {} \\n'.format(result_jmetal.objectives[0]))"
   ]
  }
 ],
 "metadata": {
  "kernelspec": {
   "display_name": "Python 3",
   "language": "python",
   "name": "python3"
  },
  "language_info": {
   "codemirror_mode": {
    "name": "ipython",
    "version": 3
   },
   "file_extension": ".py",
   "mimetype": "text/x-python",
   "name": "python",
   "nbconvert_exporter": "python",
   "pygments_lexer": "ipython3",
   "version": "3.7.4"
  }
 },
 "nbformat": 4,
 "nbformat_minor": 4
}
