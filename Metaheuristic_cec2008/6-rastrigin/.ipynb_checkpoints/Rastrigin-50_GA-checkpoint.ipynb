{
 "cells": [
  {
   "cell_type": "code",
   "execution_count": 1,
   "metadata": {},
   "outputs": [],
   "source": [
    "import os\n",
    "\n",
    "import numpy as np\n",
    "import random\n",
    "from time import time"
   ]
  },
  {
   "cell_type": "code",
   "execution_count": 2,
   "metadata": {},
   "outputs": [
    {
     "ename": "FileNotFoundError",
     "evalue": "[WinError 2] The system cannot find the file specified: '../data'",
     "output_type": "error",
     "traceback": [
      "\u001b[1;31m---------------------------------------------------------------------------\u001b[0m",
      "\u001b[1;31mFileNotFoundError\u001b[0m                         Traceback (most recent call last)",
      "\u001b[1;32m<ipython-input-2-050268be1537>\u001b[0m in \u001b[0;36m<module>\u001b[1;34m\u001b[0m\n\u001b[0;32m      2\u001b[0m \u001b[1;33m\u001b[0m\u001b[0m\n\u001b[0;32m      3\u001b[0m \u001b[1;31m# Import Objective function and the shifted global optimum (target and bias)\u001b[0m\u001b[1;33m\u001b[0m\u001b[1;33m\u001b[0m\u001b[1;33m\u001b[0m\u001b[0m\n\u001b[1;32m----> 4\u001b[1;33m \u001b[0mos\u001b[0m\u001b[1;33m.\u001b[0m\u001b[0mchdir\u001b[0m\u001b[1;33m(\u001b[0m\u001b[1;34m'../data'\u001b[0m\u001b[1;33m)\u001b[0m\u001b[1;33m\u001b[0m\u001b[1;33m\u001b[0m\u001b[0m\n\u001b[0m\u001b[0;32m      5\u001b[0m \u001b[1;32mfrom\u001b[0m \u001b[0mipynb\u001b[0m\u001b[1;33m.\u001b[0m\u001b[0mfs\u001b[0m\u001b[1;33m.\u001b[0m\u001b[0mfull\u001b[0m\u001b[1;33m.\u001b[0m\u001b[0mtarget_bias\u001b[0m \u001b[1;32mimport\u001b[0m \u001b[0mtarget_bias\u001b[0m\u001b[1;33m\u001b[0m\u001b[1;33m\u001b[0m\u001b[0m\n\u001b[0;32m      6\u001b[0m \u001b[1;32mfrom\u001b[0m \u001b[0mipynb\u001b[0m\u001b[1;33m.\u001b[0m\u001b[0mfs\u001b[0m\u001b[1;33m.\u001b[0m\u001b[0mfull\u001b[0m\u001b[1;33m.\u001b[0m\u001b[0mobjective_function\u001b[0m \u001b[1;32mimport\u001b[0m \u001b[0mobjective_function\u001b[0m\u001b[1;33m\u001b[0m\u001b[1;33m\u001b[0m\u001b[0m\n",
      "\u001b[1;31mFileNotFoundError\u001b[0m: [WinError 2] The system cannot find the file specified: '../data'"
     ]
    }
   ],
   "source": [
    "original_path = os.getcwd()\n",
    "\n",
    "# Import Objective function and the shifted global optimum (target and bias)\n",
    "os.chdir('../problem')\n",
    "from ipynb.fs.full.target_bias import target_bias\n",
    "from ipynb.fs.full.objective_function import objective_function\n",
    "from ipynb.fs.full.boundary_loader import boundary_loader\n",
    "os.chdir(original_path)\n",
    "\n",
    "# Import a homemade Genetic Algorithm\n",
    "os.chdir('../algorithm')\n",
    "from ipynb.fs.full.custom_GA import GA\n",
    "os.chdir(original_path)"
   ]
  },
  {
   "cell_type": "code",
   "execution_count": null,
   "metadata": {},
   "outputs": [],
   "source": [
    "\"\"\" \n",
    "Arguments=\n",
    "    -function: a callable function among:\n",
    "        -Sphere\n",
    "        -Schewfel\n",
    "        -Rosenbrock\n",
    "        -Rastrigin\n",
    "        -Griewank\n",
    "        -Ackley\n",
    "\"\"\"\n",
    "\n",
    "function_name = 'Rastrigin'\n",
    "\n",
    "Problem_dimension = 50\n",
    "\n",
    "# Number of run to get the better result\n",
    "Run = 1\n",
    "\n",
    "boundary = boundary_loader(function_name)\n",
    "print('Boundary: +/- {}'.format(boundary))"
   ]
  },
  {
   "cell_type": "code",
   "execution_count": null,
   "metadata": {},
   "outputs": [],
   "source": [
    "fitness_log_best = 99999\n",
    "\n",
    "cr = 0.4\n",
    "mr = 0.05\n",
    "\n",
    "\n",
    "for i in range(1):\n",
    "    t1 = time()\n",
    "    fitness_log, best_candidate= GA(function = function_name\n",
    "                                                ,pop_size = 100\n",
    "                                               ,dimension = Problem_dimension\n",
    "                                               ,lower_bound = -5.12\n",
    "                                               ,upper_bound = 5.12\n",
    "                                               ,iteration = 10000\n",
    "                                               ,stop_rule = -999999999\n",
    "                                               ,num_parents = 5\n",
    "                                               ,maximization = False\n",
    "                                               ,offspring_size = 100\n",
    "                                               ,crossover_rate = cr\n",
    "                                               ,crossover_type = 'SNP'\n",
    "                                               ,mutation_intensity = 1\n",
    "                                               ,mutation_rate = mr\n",
    "                                               ,mutation_type = 'gaussian'\n",
    "                                               ,mutation_decrease_time = 10\n",
    "                                               ,mutation_decrease_intensity = 0.25\n",
    "                                               ,mutation_jump = 50\n",
    "                                              )\n",
    "    t2 = time()\n",
    "\n",
    "   # if np.min(fitness_log) < fitness_log_best:\n",
    "    #    fitness_log_best = np.min(fitness_log)\n",
    "     #   overall_best_candidate = best_candidate\n",
    "      #  computation_time = t2 - t1\n",
    "    computation_time = t2 - t1"
   ]
  },
  {
   "cell_type": "code",
   "execution_count": null,
   "metadata": {},
   "outputs": [],
   "source": [
    "type(fitness_log)\n",
    "print(computation_time)"
   ]
  }
 ],
 "metadata": {
  "kernelspec": {
   "display_name": "Python 3",
   "language": "python",
   "name": "python3"
  },
  "language_info": {
   "codemirror_mode": {
    "name": "ipython",
    "version": 3
   },
   "file_extension": ".py",
   "mimetype": "text/x-python",
   "name": "python",
   "nbconvert_exporter": "python",
   "pygments_lexer": "ipython3",
   "version": "3.7.4"
  }
 },
 "nbformat": 4,
 "nbformat_minor": 4
}
