{
 "cells": [
  {
   "cell_type": "markdown",
   "metadata": {},
   "source": [
    "# Tutorial\n",
    "This chapter presents three examples to which inspyred can be applied.\n",
    "\n",
    "## The Rastrigin Function\n",
    "The Rastrigin function is a well-known benchmark in the optimization literature. It is defined as follows:\n",
    "\n",
    "Minimize\n",
    "\n",
    "\\[10n + \\sum_{i=1}^n\\left((x_i - 1)^2 - 10\\cos(2\\pi(x_i - 1))\\right)\\]\n",
    "for \\(x_i \\in [-5.12, 5.12]\\).\n",
    "\n",
    "Since this problem is defined on a set of continuous-valued variables, using an evolution strategy as our optimizer seems appropriate. However, as always, we’ll need to first create the generator and the evaluator for the candidate solutions. First, the generator..."
   ]
  },
  {
   "cell_type": "code",
   "execution_count": 2,
   "metadata": {},
   "outputs": [],
   "source": [
    "from random import Random\n",
    "from time import time\n",
    "from math import cos\n",
    "from math import pi\n",
    "from inspyred import ec\n",
    "from inspyred.ec import terminators\n",
    "\n",
    "import os"
   ]
  },
  {
   "cell_type": "code",
   "execution_count": 5,
   "metadata": {},
   "outputs": [
    {
     "ename": "NameError",
     "evalue": "name 'rand' is not defined",
     "output_type": "error",
     "traceback": [
      "\u001b[1;31m---------------------------------------------------------------------------\u001b[0m",
      "\u001b[1;31mNameError\u001b[0m                                 Traceback (most recent call last)",
      "\u001b[1;32m<ipython-input-5-007ebf5653d1>\u001b[0m in \u001b[0;36m<module>\u001b[1;34m\u001b[0m\n\u001b[0;32m      3\u001b[0m     \u001b[1;32mreturn\u001b[0m \u001b[1;33m[\u001b[0m\u001b[0mrandom\u001b[0m\u001b[1;33m.\u001b[0m\u001b[0muniform\u001b[0m\u001b[1;33m(\u001b[0m\u001b[1;33m-\u001b[0m\u001b[1;36m5.12\u001b[0m\u001b[1;33m,\u001b[0m \u001b[1;36m5.12\u001b[0m\u001b[1;33m)\u001b[0m \u001b[1;32mfor\u001b[0m \u001b[0mi\u001b[0m \u001b[1;32min\u001b[0m \u001b[0mrange\u001b[0m\u001b[1;33m(\u001b[0m\u001b[0msize\u001b[0m\u001b[1;33m)\u001b[0m\u001b[1;33m]\u001b[0m\u001b[1;33m\u001b[0m\u001b[1;33m\u001b[0m\u001b[0m\n\u001b[0;32m      4\u001b[0m \u001b[1;33m\u001b[0m\u001b[0m\n\u001b[1;32m----> 5\u001b[1;33m \u001b[0mc\u001b[0m \u001b[1;33m=\u001b[0m \u001b[0mgenerate_rastrigin\u001b[0m\u001b[1;33m(\u001b[0m\u001b[0mrand\u001b[0m\u001b[1;33m.\u001b[0m\u001b[0mseed\u001b[0m\u001b[1;33m(\u001b[0m\u001b[0mint\u001b[0m\u001b[1;33m(\u001b[0m\u001b[0mtime\u001b[0m\u001b[1;33m(\u001b[0m\u001b[1;33m)\u001b[0m\u001b[1;33m)\u001b[0m\u001b[1;33m)\u001b[0m\u001b[1;33m)\u001b[0m\u001b[1;33m\u001b[0m\u001b[1;33m\u001b[0m\u001b[0m\n\u001b[0m",
      "\u001b[1;31mNameError\u001b[0m: name 'rand' is not defined"
     ]
    }
   ],
   "source": [
    "def generate_rastrigin(random, args):\n",
    "    size = args.get('num_inputs', 10)\n",
    "    return [random.uniform(-5.12, 5.12) for i in range(size)]\n",
    "\n",
    "c = generate_rastrigin(rand.seed(int(time())))"
   ]
  },
  {
   "cell_type": "markdown",
   "metadata": {},
   "source": [
    "## The Evaluator\n",
    "\n",
    "This function takes an iterable object containing the candidates along with the keyword arguments. The function should perform the evaluation of each of the candidates and return an iterable object containing each fitness value in the same order as the candidates [1]. The Rastrigin problem is one of minimization, so we’ll need to tell the evolution strategy that we are minimizing (by using maximize=False in the call to evolve)."
   ]
  },
  {
   "cell_type": "code",
   "execution_count": 12,
   "metadata": {},
   "outputs": [],
   "source": [
    "def evaluate_rastrigin(candidates, args):\n",
    "    fitness = []\n",
    "    for cs in candidates:\n",
    "        fit = 10 * len(cs) + sum([((x - 1)**2 - 10 * cos(2 * pi * (x - 1))) for x in cs])\n",
    "        fitness.append(fit)\n",
    "    return fitness"
   ]
  },
  {
   "cell_type": "code",
   "execution_count": 3,
   "metadata": {},
   "outputs": [],
   "source": [
    "original_path = os.getcwd()\n",
    "\n",
    "# Import Objective function and the shifted global optimum (target and bias)\n",
    "os.chdir('../data')\n",
    "from ipynb.fs.full.target_bias import target_bias\n",
    "from ipynb.fs.full.objective_function import objective_function\n",
    "from ipynb.fs.full.boundary_loader import boundary_loader\n",
    "os.chdir(original_path)"
   ]
  },
  {
   "cell_type": "markdown",
   "metadata": {},
   "source": [
    "## The Evolutionary Computation\n",
    "Now that we have decided upon our generator and evaluator, we can create the EC. In this case since our problem is real-coded, we’ll choose a evolution strategy (ES) [2]. The default for an ES is to select the entire population, use each to produce a child via Gaussian mutation, and then use “plus” replacement."
   ]
  },
  {
   "cell_type": "code",
   "execution_count": 13,
   "metadata": {},
   "outputs": [
    {
     "name": "stdout",
     "output_type": "stream",
     "text": [
      "[1.994956660048253, 1.000001192542103, 1.0000027812148664, 1.0000016428642806, 2.344799953404756e-05, 2.747801461259053e-05, 2.1266757535492278e-05, 2.911228601381274e-05] : 0.9949590602209994\n"
     ]
    }
   ],
   "source": [
    "rand = Random()\n",
    "rand.seed(int(time()))\n",
    "es = ec.ES(rand)\n",
    "es.terminator = terminators.evaluation_termination\n",
    "final_pop = es.evolve(generator=generate_rastrigin,\n",
    "                      evaluator=evaluate_rastrigin,\n",
    "                      pop_size=100,\n",
    "                      maximize=False,\n",
    "                      bounder=ec.Bounder(-5.12, 5.12),\n",
    "                      max_evaluations=20000,\n",
    "                      mutation_rate=0.25,\n",
    "                      num_inputs=4)\n",
    "# Sort and print the best individual, who will be at index 0.\n",
    "final_pop.sort(reverse=True)\n",
    "print(final_pop[0])"
   ]
  },
  {
   "cell_type": "code",
   "execution_count": 15,
   "metadata": {},
   "outputs": [
    {
     "name": "stdout",
     "output_type": "stream",
     "text": [
      "[0.07737664744013006, -1.0940325609956663, -0.9856696816382637, 0.014363535675549599, -1.1181432129873725, 0.046470637137101534, 2.0889188935444256, 1.1394077799433422, 1.0773692988957881, 2.0316259127158904] : 30.283979646778178\n"
     ]
    }
   ],
   "source": [
    "\n",
    "rand = Random()\n",
    "rand.seed(int(time()))\n",
    "ga = ec.GA(rand)\n",
    "#ga.observer = plot_best_fitness\n",
    "ga.terminator = terminators.evaluation_termination\n",
    "final_pop = ga.evolve(generator=generate_rastrigin,\n",
    "                      evaluator=evaluate_rastrigin,\n",
    "                      \n",
    "                      crossover_rate = 0.9,\n",
    "                      mutation_rate = 0.02,\n",
    "                      num_elites=1,\n",
    "                      num_bits=10,\n",
    "                      pop_size=100,\n",
    "                      maximize=False,\n",
    "                      bounder=ec.Bounder(-5.12, 5.12),\n",
    "                      max_evaluations=20000)\n",
    "\n",
    "# Sort and print the best individual, who will be at index 0.\n",
    "final_pop.sort(reverse=True)\n",
    "print(final_pop[0])"
   ]
  }
 ],
 "metadata": {
  "kernelspec": {
   "display_name": "Python 3",
   "language": "python",
   "name": "python3"
  },
  "language_info": {
   "codemirror_mode": {
    "name": "ipython",
    "version": 3
   },
   "file_extension": ".py",
   "mimetype": "text/x-python",
   "name": "python",
   "nbconvert_exporter": "python",
   "pygments_lexer": "ipython3",
   "version": "3.7.4"
  }
 },
 "nbformat": 4,
 "nbformat_minor": 4
}
