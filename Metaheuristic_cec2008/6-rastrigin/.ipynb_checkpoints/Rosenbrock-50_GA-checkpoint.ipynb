{
 "cells": [
  {
   "cell_type": "code",
   "execution_count": 1,
   "metadata": {},
   "outputs": [],
   "source": [
    "import os\n",
    "\n",
    "import numpy as np\n",
    "import random\n",
    "from time import time"
   ]
  },
  {
   "cell_type": "code",
   "execution_count": 3,
   "metadata": {},
   "outputs": [],
   "source": [
    "original_path = os.getcwd()\n",
    "\n",
    "# Import Objective function and the shifted global optimum (target and bias)\n",
    "os.chdir('../data')\n",
    "from ipynb.fs.full.target_bias import target_bias\n",
    "from ipynb.fs.full.objective_function import objective_function\n",
    "from ipynb.fs.full.boundary_loader import boundary_loader\n",
    "os.chdir(original_path)\n",
    "\n",
    "# Import a homemade Genetic Algorithm\n",
    "os.chdir('../algorithm')\n",
    "from ipynb.fs.full.custom_GA import GA\n",
    "os.chdir(original_path)"
   ]
  },
  {
   "cell_type": "code",
   "execution_count": 7,
   "metadata": {},
   "outputs": [
    {
     "name": "stdout",
     "output_type": "stream",
     "text": [
      "Boundary: +/- 5\n"
     ]
    }
   ],
   "source": [
    "\"\"\" \n",
    "Arguments=\n",
    "    -function: a callable function among:\n",
    "        -Sphere\n",
    "        -Schewfel\n",
    "        -Rosenbrock\n",
    "        -Rastrigin\n",
    "        -Griewank\n",
    "        -Ackley\n",
    "\"\"\"\n",
    "\n",
    "function_name = 'Rastrigin'\n",
    "\n",
    "Problem_dimension = 50\n",
    "\n",
    "# Number of run to get the better result\n",
    "Run = 1\n",
    "\n",
    "boundary = boundary_loader(function_name)\n",
    "print('Boundary: +/- {}'.format(boundary))"
   ]
  },
  {
   "cell_type": "code",
   "execution_count": 5,
   "metadata": {},
   "outputs": [],
   "source": [
    "fitness_log_best = 99999\n",
    "\n",
    "cr = 0.4\n",
    "mr = 0.8\n",
    "candidate = np.empty([6,6])\n",
    "\n",
    "for i in range(Run):\n",
    "    t1 = time()\n",
    "    fitness_log, best_candidate= GA(function = function_name\n",
    "                                                ,pop_size = 100\n",
    "                                               ,dimension = Problem_dimension\n",
    "                                               ,lower_bound = -boundary\n",
    "                                               ,upper_bound = boundary\n",
    "                                               ,iteration = 250\n",
    "                                               ,stop_rule = 0.001\n",
    "                                               ,num_parents = 5\n",
    "                                               ,maximization = False\n",
    "                                               ,offspring_size = 100\n",
    "                                               ,crossover_rate = cr\n",
    "                                               ,crossover_type = 'SNP'\n",
    "                                               ,mutation_intensity = 1\n",
    "                                               ,mutation_rate = mr\n",
    "                                               ,mutation_type = 'gaussian'\n",
    "                                               ,mutation_decrease_time = 10\n",
    "                                               ,mutation_decrease_intensity = 0.25\n",
    "                                               ,mutation_jump = 50\n",
    "                                              )\n",
    "    t2 = time()\n",
    "\n",
    "   # if np.min(fitness_log) < fitness_log_best:\n",
    "    #    fitness_log_best = np.min(fitness_log)\n",
    "     #   overall_best_candidate = best_candidate\n",
    "      #  computation_time = t2 - t1\n",
    "    computation_time = t2 - t1"
   ]
  },
  {
   "cell_type": "code",
   "execution_count": 6,
   "metadata": {},
   "outputs": [
    {
     "name": "stdout",
     "output_type": "stream",
     "text": [
      "[8.27508796e+02 6.78501375e+02 5.55325009e+02 4.14906954e+02\n",
      " 3.74334638e+02 2.96058770e+02 2.53468014e+02 2.36385002e+02\n",
      " 2.20238672e+02 2.10326049e+02 1.97948263e+02 1.87544332e+02\n",
      " 1.82158193e+02 1.73472052e+02 1.60960424e+02 1.54357785e+02\n",
      " 1.46504731e+02 1.38663976e+02 1.30086641e+02 1.21108882e+02\n",
      " 1.11402568e+02 1.01883777e+02 9.41383001e+01 8.58837291e+01\n",
      " 7.70758144e+01 6.72921850e+01 5.85321435e+01 4.89329682e+01\n",
      " 4.11363766e+01 3.10958560e+01 2.43311152e+01 1.85279053e+01\n",
      " 8.79128726e+00 4.55270912e+00 7.88316355e-02 5.79616414e-03\n",
      " 5.79616414e-03 3.82914538e-03 3.20068812e-03 3.20068812e-03\n",
      " 3.20068812e-03 3.20068812e-03 3.20068812e-03 3.25335095e-04]\n",
      "2.142998218536377\n"
     ]
    }
   ],
   "source": [
    "print(fitness_log)\n",
    "print(computation_time)"
   ]
  }
 ],
 "metadata": {
  "kernelspec": {
   "display_name": "Python 3",
   "language": "python",
   "name": "python3"
  },
  "language_info": {
   "codemirror_mode": {
    "name": "ipython",
    "version": 3
   },
   "file_extension": ".py",
   "mimetype": "text/x-python",
   "name": "python",
   "nbconvert_exporter": "python",
   "pygments_lexer": "ipython3",
   "version": "3.7.4"
  }
 },
 "nbformat": 4,
 "nbformat_minor": 4
}
