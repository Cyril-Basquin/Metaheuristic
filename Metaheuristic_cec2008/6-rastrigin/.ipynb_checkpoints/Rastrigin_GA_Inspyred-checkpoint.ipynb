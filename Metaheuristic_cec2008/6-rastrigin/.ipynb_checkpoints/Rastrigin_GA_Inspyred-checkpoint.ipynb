{
 "cells": [
  {
   "cell_type": "markdown",
   "metadata": {},
   "source": [
    "# Rastrigin GA"
   ]
  },
  {
   "cell_type": "code",
   "execution_count": 1,
   "metadata": {},
   "outputs": [],
   "source": [
    "def plot_best_fitness(population, num_generations, num_evaluations, args):    \n",
    "    \"\"\"   \n",
    "    .. Arguments:\n",
    "       population -- the population of Individuals\n",
    "       num_generations -- the number of elapsed generations\n",
    "       num_evaluations -- the number of candidate solution evaluations\n",
    "       args -- a dictionary of keyword arguments\n",
    "    \n",
    "    \"\"\"\n",
    "    import matplotlib.pyplot as plt\n",
    "    import numpy\n",
    "    \n",
    "    stats = inspyred.ec.analysis.fitness_statistics(population)\n",
    "    best_fitness = stats['best']\n",
    "    \n",
    "    data = []\n",
    "    if num_generations == 0:\n",
    "        plt.ion()\n",
    "        data = [[num_evaluations], [best_fitness]]\n",
    "        lines = []\n",
    "        for i in range(1):\n",
    "            line, = plt.plot(data[0], data[i+1], color='green', label='best')\n",
    "            lines.append(line)\n",
    "        # Add the legend when the first data is added.\n",
    "        plt.legend(loc='upper right')\n",
    "        args['plot_data'] = data\n",
    "        args['plot_lines'] = lines\n",
    "        plt.xlabel('Evaluations')\n",
    "        plt.ylabel('Fitness')\n",
    "    else:\n",
    "        data = args['plot_data']\n",
    "        data[0].append(num_evaluations)\n",
    "        data[1].append(best_fitness)\n",
    "        lines = args['plot_lines']\n",
    "        for i, line in enumerate(lines):\n",
    "            line.set_xdata(numpy.array(data[0]))\n",
    "            line.set_ydata(numpy.array(data[i+1]))\n",
    "        args['plot_data'] = data\n",
    "        args['plot_lines'] = lines\n",
    "    ymin = min([min(d) for d in data[1:]])\n",
    "    ymax = max([max(d) for d in data[1:]])\n",
    "    yrange = ymax - ymin\n",
    "    plt.xlim((0, num_evaluations))\n",
    "    plt.ylim((ymin - 0.1*yrange, ymax + 0.1*yrange))\n",
    "    plt.draw()"
   ]
  },
  {
   "cell_type": "code",
   "execution_count": 3,
   "metadata": {},
   "outputs": [
    {
     "name": "stderr",
     "output_type": "stream",
     "text": [
      "c:\\programdata\\miniconda3\\lib\\site-packages\\ipykernel_launcher.py:44: UserWarning: Attempting to set identical bottom == top == 0.3112998112737273 results in singular transformations; automatically expanding.\n"
     ]
    },
    {
     "name": "stdout",
     "output_type": "stream",
     "text": [
      "[1.5712136349112624, -4.666414305764759, -0.7376063527799905, -0.40275804123474757, -2.6454872753021066, 0.9643827442974962, 1.5130772018178469, 0.36338781513228025, -4.707359650995161, -0.39377089436120016] : 0.025425271035032893\n"
     ]
    },
    {
     "data": {
      "image/png": "[encoded data removed]",
      "text/plain": [
       "<Figure size 432x288 with 1 Axes>"
      ]
     },
     "metadata": {
      "needs_background": "light"
     },
     "output_type": "display_data"
    }
   ],
   "source": [
    "import random\n",
    "import time\n",
    "import inspyred\n",
    "from math import cos, pi\n",
    "\n",
    "\n",
    "import numpy as np\n",
    "import os\n",
    "original_path = os.getcwd()\n",
    "\n",
    "# Import Objective function and the shifted global optimum (target and bias)\n",
    "os.chdir('../data')\n",
    "from ipynb.fs.full.target_bias import target_bias\n",
    "from ipynb.fs.full.objective_function import objective_function\n",
    "from ipynb.fs.full.boundary_loader import boundary_loader\n",
    "os.chdir(original_path)\n",
    "\n",
    "\n",
    "\n",
    "rand = random.Random()\n",
    "rand.seed(int(time.time()))\n",
    "\n",
    "\n",
    "# problem = inspyred.benchmarks.Rastrigin(50)\n",
    "def generate_rastrigin(random, args):\n",
    "    size = args.get('num_inputs', 10)\n",
    "    return [random.uniform(-5, 5) for i in range(size)]\n",
    "\n",
    "def evaluate_rastrigin(candidates, args):\n",
    "    candidates = np.asarray(candidates)\n",
    "    return objective_function(candidates, function = 'Rastrigin', dimension = candidates.shape[1]).tolist()\n",
    "    \n",
    "\n",
    "ga = inspyred.ec.GA(rand)\n",
    "ga.observer = plot_best_fitness\n",
    "ga.terminator = inspyred.ec.terminators.evaluation_termination\n",
    "\n",
    "t1 = time()\n",
    "\n",
    "final_pop = ga.evolve(evaluator=evaluate_rastrigin,\n",
    "                      generator=generate_rastrigin,\n",
    "                      \n",
    "                      crossover_rate = 0.9,\n",
    "                      mutation_rate = 0.02,\n",
    "                      \n",
    "                      max_evaluations=25000,\n",
    "                      num_elites=1,\n",
    "                      pop_size=100,\n",
    "                      num_bits=10,\n",
    "                      maximize= False)\n",
    "\n",
    "t2 = time()\n",
    "print('time: ')\n",
    "\n",
    "final_pop.sort(reverse=True)\n",
    "print(final_pop[0])"
   ]
  },
  {
   "cell_type": "code",
   "execution_count": null,
   "metadata": {
    "scrolled": true
   },
   "outputs": [],
   "source": [
    "print(dir(problem))\n",
    "print('\\n')\n",
    "print('Dimension of the problem: {}'.format(problem.dimensions))\n",
    "print('Bounds of the problem: {}'.format(problem.bounder))\n",
    "print('Evaluator: {}'.format(problem.evaluator))\n",
    "print('Generator: {}'.format(problem.generator))\n",
    "print('Global optimum: {}'.format(problem.global_optimum))\n",
    "print('Maximize: {}'.format(problem.maximize))\n",
    "print('Objectives: {}'.format(problem.objectives))"
   ]
  },
  {
   "cell_type": "code",
   "execution_count": null,
   "metadata": {},
   "outputs": [],
   "source": [
    "test = (final_pop[0].candidate)\n",
    "len(test)"
   ]
  }
 ],
 "metadata": {
  "kernelspec": {
   "display_name": "Python 3",
   "language": "python",
   "name": "python3"
  },
  "language_info": {
   "codemirror_mode": {
    "name": "ipython",
    "version": 3
   },
   "file_extension": ".py",
   "mimetype": "text/x-python",
   "name": "python",
   "nbconvert_exporter": "python",
   "pygments_lexer": "ipython3",
   "version": "3.7.4"
  }
 },
 "nbformat": 4,
 "nbformat_minor": 4
}
