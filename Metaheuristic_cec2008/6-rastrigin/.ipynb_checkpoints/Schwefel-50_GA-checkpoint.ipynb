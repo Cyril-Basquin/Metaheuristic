{
 "cells": [
  {
   "cell_type": "code",
   "execution_count": 1,
   "metadata": {},
   "outputs": [],
   "source": [
    "import os\n",
    "\n",
    "import numpy as np\n",
    "import random\n",
    "from time import time"
   ]
  },
  {
   "cell_type": "code",
   "execution_count": 2,
   "metadata": {},
   "outputs": [],
   "source": [
    "original_path = os.getcwd()\n",
    "\n",
    "# Import Objective function and the shifted global optimum (target and bias)\n",
    "os.chdir('../data')\n",
    "from ipynb.fs.full.target_bias import target_bias\n",
    "from ipynb.fs.full.objective_function import objective_function\n",
    "from ipynb.fs.full.boundary_loader import boundary_loader\n",
    "os.chdir(original_path)\n",
    "\n",
    "# Import a homemade Genetic Algorithm\n",
    "os.chdir('../algorithm')\n",
    "from ipynb.fs.full.custom_GA import GA\n",
    "os.chdir(original_path)"
   ]
  },
  {
   "cell_type": "code",
   "execution_count": 10,
   "metadata": {},
   "outputs": [
    {
     "name": "stdout",
     "output_type": "stream",
     "text": [
      "Boundary: +/- 100\n"
     ]
    }
   ],
   "source": [
    "function_name = 'Schwefel'\n",
    "\n",
    "Problem_dimension = 50\n",
    "\n",
    "# Number of run to get the better result\n",
    "Run = 1\n",
    "\n",
    "boundary = boundary_loader(function_name)\n",
    "print('Boundary: +/- {}'.format(boundary))"
   ]
  },
  {
   "cell_type": "code",
   "execution_count": 69,
   "metadata": {},
   "outputs": [],
   "source": [
    "fitness_log_best = 99999\n",
    "\n",
    "cr = 0.5\n",
    "mr = 0.01\n",
    "\n",
    "for i in range(Run):\n",
    "    t1 = time()\n",
    "    fitness_log, best_candidate= GA(function = function_name\n",
    "                                                ,pop_size = 100\n",
    "                                               ,dimension = Problem_dimension\n",
    "                                               ,lower_bound = -boundary\n",
    "                                               ,upper_bound = boundary\n",
    "                                               ,iteration = 250\n",
    "                                               ,stop_rule = 0.001\n",
    "                                               ,num_parents = 10\n",
    "                                               ,maximization = False\n",
    "                                               ,offspring_size = 100\n",
    "                                               ,crossover_rate = cr\n",
    "                                               ,crossover_type = 'SNP'\n",
    "                                               ,mutation_intensity = 10\n",
    "                                               ,mutation_rate = mr\n",
    "                                               ,mutation_type = 'gaussian'\n",
    "                                               ,mutation_decrease_time = 10\n",
    "                                               ,mutation_decrease_intensity = 0.25\n",
    "                                               ,mutation_jump = 50\n",
    "                                              )\n",
    "    t2 = time()\n",
    "\n",
    "   # if np.min(fitness_log) < fitness_log_best:\n",
    "    #    fitness_log_best = np.min(fitness_log)\n",
    "     #   overall_best_candidate = best_candidate\n",
    "      #  computation_time = t2 - t1\n",
    "    computation_time = t2 - t1"
   ]
  },
  {
   "cell_type": "code",
   "execution_count": 50,
   "metadata": {},
   "outputs": [
    {
     "data": {
      "text/plain": [
       "-8.433903045038626"
      ]
     },
     "execution_count": 50,
     "metadata": {},
     "output_type": "execute_result"
    }
   ],
   "source": [
    "np.random.normal(0, 10)"
   ]
  },
  {
   "cell_type": "code",
   "execution_count": 71,
   "metadata": {},
   "outputs": [
    {
     "name": "stdout",
     "output_type": "stream",
     "text": [
      "[2.55138655e+02 2.55116343e+02 1.67988552e+02 7.13489700e+01\n",
      " 1.82374108e+00 1.81658850e+00 1.80707055e+00 1.78181340e+00\n",
      " 1.76420904e+00 1.74359159e+00 1.72253396e+00 1.70838645e+00\n",
      " 1.69306048e+00 1.67235661e+00 1.65693613e+00 1.63895351e+00\n",
      " 1.61867655e+00 1.59564540e+00 1.58364648e+00 1.56677096e+00\n",
      " 1.54670289e+00 1.52857533e+00 1.50493049e+00 1.49745568e+00\n",
      " 1.47726194e+00 1.45312343e+00 1.44341639e+00 1.42411618e+00\n",
      " 1.41224023e+00 1.40116385e+00 1.37769595e+00 1.35781196e+00\n",
      " 1.33114104e+00 1.30826215e+00 1.29027879e+00 1.27027617e+00\n",
      " 1.25250313e+00 1.23344692e+00 1.22508238e+00 1.20500246e+00\n",
      " 1.18913613e+00 1.16264629e+00 1.15250170e+00 1.12384500e+00\n",
      " 1.10315669e+00 1.08380237e+00 1.06412750e+00 1.05239043e+00\n",
      " 1.03605454e+00 1.01711416e+00 9.97558290e-01 9.78672200e-01\n",
      " 9.63027150e-01 9.41105962e-01 9.25289189e-01 9.05523050e-01\n",
      " 8.84723267e-01 8.58314300e-01 8.45789496e-01 8.31717436e-01\n",
      " 8.08277455e-01 7.87352013e-01 7.72259549e-01 7.55468346e-01\n",
      " 7.36696437e-01 7.21773760e-01 6.98395095e-01 6.73092078e-01\n",
      " 6.61163297e-01 6.32223377e-01 6.17098486e-01 6.00344781e-01\n",
      " 5.88738867e-01 5.73878053e-01 5.57163422e-01 5.36880586e-01\n",
      " 4.97680232e-01 4.77983773e-01 4.62285681e-01 4.36761286e-01\n",
      " 4.24742763e-01 4.02900719e-01 3.72739140e-01 3.64468273e-01\n",
      " 3.52221476e-01 3.25244354e-01 3.14021473e-01 2.90055028e-01\n",
      " 2.77259945e-01 2.66662556e-01 2.45794109e-01 2.15006229e-01\n",
      " 1.99291971e-01 1.86929023e-01 1.74958222e-01 1.57853413e-01\n",
      " 1.34175742e-01 1.16076184e-01 9.86820399e-02 8.83357432e-02\n",
      " 6.60162823e-02 5.10571588e-02 3.33444396e-02 4.96131905e-03\n",
      " 9.53531972e-05]\n",
      "4.743998289108276\n"
     ]
    }
   ],
   "source": [
    "print(fitness_log)\n",
    "print(computation_time)"
   ]
  },
  {
   "cell_type": "code",
   "execution_count": 70,
   "metadata": {},
   "outputs": [
    {
     "data": {
      "text/plain": [
       "array([109.38785317,  50.84459811, 190.44455201, 293.40754029,\n",
       "       -12.33818146, 218.88488629,  84.48058044, 250.63318112,\n",
       "       282.15140174, 233.10094022, 270.05362121,  61.42086245,\n",
       "       -45.11557191,   5.77216537, 362.74613674,  93.8017315 ,\n",
       "       214.3789028 ,  72.57585522, 260.2305845 , 163.10103189,\n",
       "       174.03987399, 137.12927663, 149.30655453, 205.55058969,\n",
       "       110.24488078, 194.03101615,  40.69351747, 229.47027594,\n",
       "       114.30163641, 159.64721647, 217.61782432, 211.36205246,\n",
       "       246.99506814, 256.80340761, 346.34221029, 174.11273046,\n",
       "       307.14308185,  94.59341393, 218.31904639, 129.56738318,\n",
       "         6.81579358, 264.71183461,  55.12145615, 183.58780495,\n",
       "        33.73417385,  91.73443807,  68.22508807, 152.96218645,\n",
       "        81.9242865 , 308.25800284])"
      ]
     },
     "execution_count": 70,
     "metadata": {},
     "output_type": "execute_result"
    }
   ],
   "source": [
    "best_candidate"
   ]
  },
  {
   "cell_type": "code",
   "execution_count": 61,
   "metadata": {},
   "outputs": [],
   "source": [
    "target_ = target_bias('Schwefel')"
   ]
  },
  {
   "cell_type": "code",
   "execution_count": 68,
   "metadata": {},
   "outputs": [
    {
     "data": {
      "text/plain": [
       "[-26.887898840676314,\n",
       " -4.909030414547971,\n",
       " -56.826025406333336,\n",
       " -95.04366960537229,\n",
       " -4.339775680348041,\n",
       " -50.29706885357989,\n",
       " -2.752898865611627,\n",
       " -84.8561534103189,\n",
       " -74.53372729919738,\n",
       " -60.38027439113483,\n",
       " -61.20629045964165,\n",
       " -53.79117548050144,\n",
       " -4.573086918505325,\n",
       " -28.685217420081315,\n",
       " -87.25376790696147,\n",
       " -56.48486645998763,\n",
       " -50.78741553148352,\n",
       " -42.89537331532026,\n",
       " -78.49578055483582,\n",
       " -76.62817566304761,\n",
       " -47.80620518920786,\n",
       " -78.91999864750984,\n",
       " -65.532600715783,\n",
       " -55.2895873423426,\n",
       " -6.897855799616124,\n",
       " -31.464035736006807,\n",
       " -22.127974601406706,\n",
       " -71.86248279523393,\n",
       " -55.597405683680556,\n",
       " -47.0139499329606,\n",
       " -75.02727077890935,\n",
       " -72.12981267789226,\n",
       " -50.368718132053644,\n",
       " -62.994486643337716,\n",
       " -96.77179228911167,\n",
       " -81.60507136467962,\n",
       " -96.62765605938594,\n",
       " -53.33609970833741,\n",
       " -60.05551454754577,\n",
       " -63.20197214064893,\n",
       " -5.809143248129018,\n",
       " -72.12204781983193,\n",
       " -21.86907841772795,\n",
       " -48.631384842141514,\n",
       " -2.334503674599091,\n",
       " -82.18599214490175,\n",
       " -13.864164634798115,\n",
       " -68.0746550886225,\n",
       " -37.04968423399959,\n",
       " -83.46476402179442]"
      ]
     },
     "execution_count": 68,
     "metadata": {},
     "output_type": "execute_result"
    }
   ],
   "source": [
    "target_[0][:50]"
   ]
  }
 ],
 "metadata": {
  "kernelspec": {
   "display_name": "Python 3",
   "language": "python",
   "name": "python3"
  },
  "language_info": {
   "codemirror_mode": {
    "name": "ipython",
    "version": 3
   },
   "file_extension": ".py",
   "mimetype": "text/x-python",
   "name": "python",
   "nbconvert_exporter": "python",
   "pygments_lexer": "ipython3",
   "version": "3.7.4"
  }
 },
 "nbformat": 4,
 "nbformat_minor": 4
}
