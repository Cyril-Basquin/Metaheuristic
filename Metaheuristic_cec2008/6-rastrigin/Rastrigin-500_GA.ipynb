{
 "cells": [
  {
   "cell_type": "code",
   "execution_count": 1,
   "metadata": {},
   "outputs": [],
   "source": [
    "import os\n",
    "\n",
    "import numpy as np\n",
    "import random\n",
    "from time import time"
   ]
  },
  {
   "cell_type": "code",
   "execution_count": 2,
   "metadata": {},
   "outputs": [],
   "source": [
    "original_path = os.getcwd()\n",
    "\n",
    "# Import Objective function and the shifted global optimum (target and bias)\n",
    "os.chdir('../problem')\n",
    "from ipynb.fs.full.target_bias import target_bias\n",
    "from ipynb.fs.full.objective_function import objective_function\n",
    "from ipynb.fs.full.boundary_loader import boundary_loader\n",
    "os.chdir(original_path)\n",
    "\n",
    "# Import a homemade Genetic Algorithm\n",
    "os.chdir('../algorithm')\n",
    "from ipynb.fs.full.custom_GA import GA\n",
    "os.chdir(original_path)"
   ]
  },
  {
   "cell_type": "code",
   "execution_count": 3,
   "metadata": {},
   "outputs": [],
   "source": [
    "function_name = 'Rastrigin'\n",
    "\n",
    "Problem_dimension = 500\n",
    "\n",
    "# Number of run to get the better result\n",
    "Run = 1\n",
    "\n",
    "boundary = boundary_loader(function_name)"
   ]
  },
  {
   "cell_type": "code",
   "execution_count": 4,
   "metadata": {},
   "outputs": [
    {
     "name": "stdout",
     "output_type": "stream",
     "text": [
      "Current iteration: 0. fitness: 11676.593406051908\n"
     ]
    }
   ],
   "source": [
    "fitness_log_best = 99999\n",
    "\n",
    "cr = 0.4\n",
    "mr = 0.8\n",
    "candidate = np.empty([6,6])\n",
    "\n",
    "for i in range(Run):\n",
    "    t1 = time()\n",
    "    fitness_log, best_candidate= GA(function = function_name\n",
    "                                                ,pop_size = 100\n",
    "                                               ,dimension = Problem_dimension\n",
    "                                               ,lower_bound = -boundary\n",
    "                                               ,upper_bound = boundary\n",
    "                                               ,iteration = 100\n",
    "                                               ,stop_rule = 0.001\n",
    "                                               ,num_parents = 5\n",
    "                                               ,maximization = False\n",
    "                                               ,offspring_size = 100\n",
    "                                               ,crossover_rate = cr\n",
    "                                               ,crossover_type = 'SNP'\n",
    "                                               ,mutation_intensity = 1\n",
    "                                               ,mutation_rate = mr\n",
    "                                               ,mutation_type = 'gaussian'\n",
    "                                               ,mutation_decrease_time = 10\n",
    "                                               ,mutation_decrease_intensity = 0.25\n",
    "                                               ,mutation_jump = 50\n",
    "                                              )\n",
    "    t2 = time()\n",
    "\n",
    "   # if np.min(fitness_log) < fitness_log_best:\n",
    "    #    fitness_log_best = np.min(fitness_log)\n",
    "     #   overall_best_candidate = best_candidate\n",
    "      #  computation_time = t2 - t1\n",
    "    computation_time = t2 - t1"
   ]
  },
  {
   "cell_type": "code",
   "execution_count": 5,
   "metadata": {},
   "outputs": [
    {
     "name": "stdout",
     "output_type": "stream",
     "text": [
      "69.22165179252625\n"
     ]
    }
   ],
   "source": [
    "print(computation_time)"
   ]
  }
 ],
 "metadata": {
  "kernelspec": {
   "display_name": "Python 3",
   "language": "python",
   "name": "python3"
  },
  "language_info": {
   "codemirror_mode": {
    "name": "ipython",
    "version": 3
   },
   "file_extension": ".py",
   "mimetype": "text/x-python",
   "name": "python",
   "nbconvert_exporter": "python",
   "pygments_lexer": "ipython3",
   "version": "3.7.4"
  }
 },
 "nbformat": 4,
 "nbformat_minor": 4
}
