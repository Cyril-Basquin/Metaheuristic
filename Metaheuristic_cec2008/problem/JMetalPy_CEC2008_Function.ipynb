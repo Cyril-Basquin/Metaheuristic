{
 "cells": [
  {
   "cell_type": "markdown",
   "metadata": {},
   "source": [
    "# Function to optimize"
   ]
  },
  {
   "cell_type": "code",
   "execution_count": 8,
   "metadata": {},
   "outputs": [],
   "source": [
    "try:\n",
    "    from jmetal.core.problem import FloatProblem, FloatSolution\n",
    "except ImportError as e:\n",
    "    print(\"# jmetalpy is not install, deal with it. Trying 'pip install jmetalpy' might be a good move\")\n",
    "    pass"
   ]
  },
  {
   "cell_type": "code",
   "execution_count": 7,
   "metadata": {},
   "outputs": [
    {
     "name": "stdout",
     "output_type": "stream",
     "text": [
      "Collecting jmetalpy\n",
      "  Downloading https://files.pythonhosted.org/packages/5e/92/731b647afa389619c0e6ae340f196e14d75f7307b3e867e7db7f91c85d18/jmetalpy-1.5.5.tar.gz (110kB)\n",
      "Requirement already satisfied: tqdm in c:\\programdata\\miniconda3\\lib\\site-packages (from jmetalpy) (4.36.1)\n",
      "Requirement already satisfied: numpy>=1.16.0 in c:\\programdata\\miniconda3\\lib\\site-packages (from jmetalpy) (1.18.1)\n",
      "Requirement already satisfied: pandas>=0.24.2 in c:\\programdata\\miniconda3\\lib\\site-packages (from jmetalpy) (1.0.1)\n",
      "Collecting plotly>=3.3.0\n",
      "  Downloading https://files.pythonhosted.org/packages/d7/78/eb6cbe96c8379c54819592bb228c58ed7386fcc60a55eca7db99432fdf14/plotly-4.7.1-py2.py3-none-any.whl (11.5MB)\n",
      "Requirement already satisfied: matplotlib>=3.0.2 in c:\\programdata\\miniconda3\\lib\\site-packages (from jmetalpy) (3.1.3)\n",
      "Requirement already satisfied: scipy>=1.3.0 in c:\\programdata\\miniconda3\\lib\\site-packages (from jmetalpy) (1.4.1)\n",
      "Collecting statsmodels>=0.9.0\n",
      "  Downloading https://files.pythonhosted.org/packages/86/3c/d118973b8d85eeba14b3a306a5a06f920dd92878fa57c264dbe70b83a197/statsmodels-0.11.1-cp37-none-win_amd64.whl (8.2MB)\n",
      "Requirement already satisfied: python-dateutil>=2.6.1 in c:\\programdata\\miniconda3\\lib\\site-packages (from pandas>=0.24.2->jmetalpy) (2.8.1)\n",
      "Requirement already satisfied: pytz>=2017.2 in c:\\programdata\\miniconda3\\lib\\site-packages (from pandas>=0.24.2->jmetalpy) (2019.3)\n",
      "Processing c:\\users\\breto\\appdata\\local\\pip\\cache\\wheels\\d7\\a9\\33\\acc7b709e2a35caa7d4cae442f6fe6fbf2c43f80823d46460c\\retrying-1.3.3-cp37-none-any.whl\n",
      "Requirement already satisfied: six in c:\\programdata\\miniconda3\\lib\\site-packages (from plotly>=3.3.0->jmetalpy) (1.12.0)\n",
      "Requirement already satisfied: cycler>=0.10 in c:\\programdata\\miniconda3\\lib\\site-packages (from matplotlib>=3.0.2->jmetalpy) (0.10.0)\n",
      "Requirement already satisfied: kiwisolver>=1.0.1 in c:\\programdata\\miniconda3\\lib\\site-packages (from matplotlib>=3.0.2->jmetalpy) (1.1.0)\n",
      "Requirement already satisfied: pyparsing!=2.0.4,!=2.1.2,!=2.1.6,>=2.0.1 in c:\\programdata\\miniconda3\\lib\\site-packages (from matplotlib>=3.0.2->jmetalpy) (2.4.6)\n",
      "Collecting patsy>=0.5\n",
      "  Downloading https://files.pythonhosted.org/packages/ea/0c/5f61f1a3d4385d6bf83b83ea495068857ff8dfb89e74824c6e9eb63286d8/patsy-0.5.1-py2.py3-none-any.whl (231kB)\n",
      "Requirement already satisfied: setuptools in c:\\programdata\\miniconda3\\lib\\site-packages (from kiwisolver>=1.0.1->matplotlib>=3.0.2->jmetalpy) (41.4.0)\n",
      "Building wheels for collected packages: jmetalpy\n",
      "  Building wheel for jmetalpy (setup.py): started\n",
      "  Building wheel for jmetalpy (setup.py): finished with status 'done'\n",
      "  Created wheel for jmetalpy: filename=jmetalpy-1.5.5-cp37-none-any.whl size=196222 sha256=db086eeb305d9231246f9f0180b4134565a7d9a457b26ad000af341eb67679aa\n",
      "  Stored in directory: C:\\Users\\breto\\AppData\\Local\\pip\\Cache\\wheels\\d0\\ae\\f5\\6493b2f72d1311cf8f97e283039fb225f4743879bd04345a9e\n",
      "Successfully built jmetalpy\n",
      "Installing collected packages: retrying, plotly, patsy, statsmodels, jmetalpy\n",
      "Successfully installed jmetalpy-1.5.5 patsy-0.5.1 plotly-4.7.1 retrying-1.3.3 statsmodels-0.11.1\n",
      "Note: you may need to restart the kernel to use updated packages.\n"
     ]
    }
   ],
   "source": [
    "#pip install jmetalpy"
   ]
  },
  {
   "cell_type": "markdown",
   "metadata": {},
   "source": [
    "# F1 : Shifted Sphere Function"
   ]
  },
  {
   "cell_type": "code",
   "execution_count": 9,
   "metadata": {},
   "outputs": [],
   "source": [
    "class MySphere(FloatProblem):\n",
    "    def __init__(self, number_of_variables: int = 10, low_bound: int = -100, up_bound: int = 100, shift: int = -450):\n",
    "        super(MySphere, self).__init__()\n",
    "        self.number_of_objectives = 1\n",
    "        self.number_of_variables = number_of_variables\n",
    "        self.number_of_constraints = 0\n",
    "        \n",
    "        self.low_bound = low_bound\n",
    "        self.up_bound = up_bound\n",
    "        \n",
    "        self.shift = shift\n",
    "        \n",
    "        self.obj_directions = [self.MINIMIZE]\n",
    "        self.obj_labels = ['f(x)']\n",
    "\n",
    "        self.lower_bound = [low_bound for _ in range(number_of_variables)]\n",
    "        self.upper_bound = [up_bound for _ in range(number_of_variables)]\n",
    "\n",
    "        FloatSolution.lower_bound = self.lower_bound\n",
    "        FloatSolution.upper_bound = self.upper_bound\n",
    "\n",
    "    def evaluate(self, solution: FloatSolution) -> FloatSolution:\n",
    "        result = 0\n",
    "        x = solution.variables\n",
    "        for i in range(solution.number_of_variables - 1):\n",
    "            result += x[i]**2\n",
    "        result = result + shift\n",
    "        solution.objectives[0] = result\n",
    "        return solution\n",
    "\n",
    "    def get_name(self) -> str:\n",
    "        return 'MySphere'"
   ]
  },
  {
   "cell_type": "markdown",
   "metadata": {},
   "source": [
    "# F2 : Schwefel's Problem"
   ]
  },
  {
   "cell_type": "code",
   "execution_count": 10,
   "metadata": {},
   "outputs": [],
   "source": [
    "class MySchwefel(FloatProblem):\n",
    "    def __init__(self, number_of_variables: int = 10, low_bound: int = -100, up_bound: int = 100, shift: int = -450):\n",
    "        super(MySchwefel, self).__init__()\n",
    "        self.number_of_objectives = 1\n",
    "        self.number_of_variables = number_of_variables\n",
    "        self.number_of_constraints = 0\n",
    "        \n",
    "        self.low_bound = low_bound\n",
    "        self.up_bound = up_bound\n",
    "        \n",
    "        self.shift = shift\n",
    "\n",
    "        self.obj_directions = [self.MINIMIZE]\n",
    "        self.obj_labels = ['f(x)']\n",
    "\n",
    "        self.lower_bound = [low_bound for _ in range(number_of_variables)]\n",
    "        self.upper_bound = [up_bound for _ in range(number_of_variables)]\n",
    "\n",
    "        FloatSolution.lower_bound = self.lower_bound\n",
    "        FloatSolution.upper_bound = self.upper_bound\n",
    "\n",
    "    def evaluate(self, solution: FloatSolution) -> FloatSolution:\n",
    "        result = 0\n",
    "        x = solution.variables\n",
    "        for i in range(solution.number_of_variables - 1):\n",
    "            if i+1 > result:\n",
    "                result =  i + 1\n",
    "        result = result + shift\n",
    "        solution.objectives[0] = result\n",
    "        return solution\n",
    "\n",
    "    def get_name(self) -> str:\n",
    "        return 'MySchwefel'"
   ]
  },
  {
   "cell_type": "markdown",
   "metadata": {},
   "source": [
    "# F3 Shifted Rosenbrock's function"
   ]
  },
  {
   "cell_type": "code",
   "execution_count": 11,
   "metadata": {},
   "outputs": [],
   "source": [
    "class MyRosenbrock(FloatProblem):\n",
    "    def __init__(self, number_of_variables: int = 10, low_bound: int = -100, up_bound: int = 100, shift: int = 390):\n",
    "        super(MyRosenbrock, self).__init__()\n",
    "        self.number_of_objectives = 1\n",
    "        self.number_of_variables = number_of_variables\n",
    "        self.number_of_constraints = 0\n",
    "        \n",
    "        self.low_bound = low_bound\n",
    "        self.up_bound = up_bound\n",
    "        \n",
    "        self.shift = shift\n",
    "\n",
    "        self.obj_directions = [self.MINIMIZE]\n",
    "        self.obj_labels = ['f(x)']\n",
    "\n",
    "        self.lower_bound = [low_bound for _ in range(number_of_variables)]\n",
    "        self.upper_bound = [up_bound for _ in range(number_of_variables)]\n",
    "\n",
    "        FloatSolution.lower_bound = self.lower_bound\n",
    "        FloatSolution.upper_bound = self.upper_bound\n",
    "\n",
    "    def evaluate(self, solution: FloatSolution) -> FloatSolution:\n",
    "        result = 0\n",
    "        x = solution.variables\n",
    "        for i in range(solution.number_of_variables - 1):\n",
    "            result += 100 * (x[i] ** 2 - x[i + 1]) ** 2 + (x[i] - 1) ** 2\n",
    "        result = result + shift\n",
    "        solution.objectives[0] = result\n",
    "        return solution\n",
    "\n",
    "    def get_name(self) -> str:\n",
    "        return 'MyRosenbrock'"
   ]
  },
  {
   "cell_type": "markdown",
   "metadata": {},
   "source": [
    "# F4 Shifted Rastrigin's Function"
   ]
  },
  {
   "cell_type": "code",
   "execution_count": 12,
   "metadata": {},
   "outputs": [],
   "source": [
    "class MyRastringin(FloatProblem):\n",
    "    def __init__(self, number_of_variables: int = 10, low_bound: int = -100, up_bound: int = 100, shift: int = -330):\n",
    "        super(MyRastringin, self).__init__()\n",
    "        self.number_of_objectives = 1\n",
    "        self.number_of_variables = number_of_variables\n",
    "        self.number_of_constraints = 0\n",
    "        \n",
    "        self.low_bound = low_bound\n",
    "        self.up_bound = up_bound\n",
    "        \n",
    "        self.shift = shift\n",
    "\n",
    "        self.obj_directions = [self.MINIMIZE]\n",
    "        self.obj_labels = ['f(x)']\n",
    "\n",
    "        self.lower_bound = [low_bound for _ in range(number_of_variables)]\n",
    "        self.upper_bound = [up_bound for _ in range(number_of_variables)]\n",
    "\n",
    "        FloatSolution.lower_bound = self.lower_bound\n",
    "        FloatSolution.upper_bound = self.upper_bound\n",
    "\n",
    "    def evaluate(self, solution: FloatSolution) -> FloatSolution:\n",
    "        result = 0\n",
    "        x = solution.variables\n",
    "        for i in range(solution.number_of_variables - 1):\n",
    "            result += x[i] ** 2 - 10*math.cos(2*math.pi*x[i]) + 10\n",
    "        result = result + shift\n",
    "        solution.objectives[0] = result\n",
    "        return solution\n",
    "\n",
    "    def get_name(self) -> str:\n",
    "        return 'MyRastringin'"
   ]
  },
  {
   "cell_type": "markdown",
   "metadata": {},
   "source": [
    "# F5 Shifted Griewank's Function"
   ]
  },
  {
   "cell_type": "code",
   "execution_count": 13,
   "metadata": {},
   "outputs": [],
   "source": [
    "class MyGriewank(FloatProblem):\n",
    "    def __init__(self, number_of_variables: int = 10, low_bound: int = -100, up_bound: int = 100, shift: int = -180):\n",
    "        super(MyGriewank, self).__init__()\n",
    "        self.number_of_objectives = 1\n",
    "        self.number_of_variables = number_of_variables\n",
    "        self.number_of_constraints = 0\n",
    "        \n",
    "        self.low_bound = low_bound\n",
    "        self.up_bound = up_bound\n",
    "        \n",
    "        self.shift = shift\n",
    "\n",
    "        self.obj_directions = [self.MINIMIZE]\n",
    "        self.obj_labels = ['f(x)']\n",
    "\n",
    "        self.lower_bound = [low_bound for _ in range(number_of_variables)]\n",
    "        self.upper_bound = [up_bound for _ in range(number_of_variables)]\n",
    "\n",
    "        FloatSolution.lower_bound = self.lower_bound\n",
    "        FloatSolution.upper_bound = self.upper_bound\n",
    "\n",
    "    def evaluate(self, solution: FloatSolution) -> FloatSolution:\n",
    "        result = 0\n",
    "        Addition = 0\n",
    "        Produit = 1\n",
    "        x = solution.variables\n",
    "        for i in range(solution.number_of_variables - 1):\n",
    "            Addition += (x[i] ** 2)/4000 \n",
    "            Produit *= math.cos(x[i]/((i+1)**0.5)) \n",
    "        result = Addition - Produit + 1 + shift\n",
    "        solution.objectives[0] = result\n",
    "        return solution\n",
    "\n",
    "    def get_name(self) -> str:\n",
    "        return 'MyGriewank'"
   ]
  },
  {
   "cell_type": "markdown",
   "metadata": {},
   "source": [
    "# F6 : Shifted Ackley's Function"
   ]
  },
  {
   "cell_type": "code",
   "execution_count": 17,
   "metadata": {},
   "outputs": [],
   "source": [
    "class MyAckley(FloatProblem):\n",
    "    def __init__(self, number_of_variables: int = 10, low_bound: int = -100, up_bound: int = 100, shift: int = -140):\n",
    "        super(MyAckley, self).__init__()\n",
    "        self.number_of_objectives = 1\n",
    "        self.number_of_variables = number_of_variables\n",
    "        self.number_of_constraints = 0\n",
    "        \n",
    "        self.low_bound = low_bound\n",
    "        self.up_bound = up_bound\n",
    "        \n",
    "        self.shift = shift\n",
    "\n",
    "        self.obj_directions = [self.MINIMIZE]\n",
    "        self.obj_labels = ['f(x)']\n",
    "\n",
    "        self.lower_bound = [low_bound for _ in range(number_of_variables)]\n",
    "        self.upper_bound = [up_bound for _ in range(number_of_variables)]\n",
    "\n",
    "        FloatSolution.lower_bound = self.lower_bound\n",
    "        FloatSolution.upper_bound = self.upper_bound\n",
    "\n",
    "    def evaluate(self, solution: FloatSolution) -> FloatSolution:\n",
    "        result = 0\n",
    "        Addition_1 = 0\n",
    "        Addition_2 = 0\n",
    "        x = solution.variables\n",
    "        for i in range(solution.number_of_variables - 1):\n",
    "            Addition_1 += x[i]**2\n",
    "            Addition_2 += math.cos(2*math.pi*x[i])\n",
    "        result = -20*math.exp(-0.2*(1/(i+1)*Addition_1)**0.5)-math.exp(1/(i+1)*Addition_2)+ 20 + math.exp + shift\n",
    "        solution.objectives[0] = result\n",
    "        return solution\n",
    "\n",
    "    def get_name(self) -> str:\n",
    "        return 'MyAckley'"
   ]
  }
 ],
 "metadata": {
  "kernelspec": {
   "display_name": "Python 3",
   "language": "python",
   "name": "python3"
  },
  "language_info": {
   "codemirror_mode": {
    "name": "ipython",
    "version": 3
   },
   "file_extension": ".py",
   "mimetype": "text/x-python",
   "name": "python",
   "nbconvert_exporter": "python",
   "pygments_lexer": "ipython3",
   "version": "3.7.4"
  }
 },
 "nbformat": 4,
 "nbformat_minor": 4
}
