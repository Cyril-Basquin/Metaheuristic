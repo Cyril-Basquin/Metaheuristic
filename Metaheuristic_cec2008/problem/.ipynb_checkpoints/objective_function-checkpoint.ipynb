{
 "cells": [
  {
   "cell_type": "code",
   "execution_count": 4,
   "metadata": {},
   "outputs": [],
   "source": [
    "def objective_function(pop, function = 'Sphere', dimension = 2):\n",
    "    from ipynb.fs.full.target_bias import target_bias\n",
    "    import numpy as np\n",
    "    \"\"\" \n",
    "    Requirement: Notebook 'target_bias.ipynb' have to be in the same folder that this notebook\n",
    "    \n",
    "    Arguments=\n",
    "        -pop: an np array of size n (population) and m (dimension)\n",
    "        -function: a callable function among:\n",
    "            -Sphere\n",
    "            -Schwefel\n",
    "            -Rosenbrock\n",
    "            -Rastrigin\n",
    "            -Griewank\n",
    "            -Ackley => not implemented yet\n",
    "    \"\"\"\n",
    "    \n",
    "    target, bias = target_bias(function)\n",
    "    target = target[:dimension]\n",
    "    \n",
    "    if function == 'Sphere':\n",
    "        z = pop - target\n",
    "        result = abs(np.sum(z, axis = 1) + bias)\n",
    "        \n",
    "    elif function == \"Schwefel\":\n",
    "        z = abs(pop - target)\n",
    "        result = np.max(z, axis = 1) + bias\n",
    "        \n",
    "    elif function == 'Rosenbrock':\n",
    "        z = pop - target\n",
    "        f = 100*(np.delete(z,-1, axis = 1)**2-np.delete(z,0, axis = 1))**2+(np.delete(z,-1, axis = 1))**2\n",
    "        result = abs(np.sum(f, axis = 1) + bias)\n",
    "           \n",
    "    elif function == 'Rastrigin':\n",
    "        z = pop-target\n",
    "        f = z**2-10*np.cos(2*np.pi*z) + 10\n",
    "        result =  np.sum(f, axis = 1) + bias\n",
    "        \n",
    "    elif function == 'Griewank':\n",
    "        z = pop-target\n",
    "        i = np.arange(1, pop.shape[1]+1,1)\n",
    "        Addition = np.sum((z ** 2)/4000, axis = 1)\n",
    "        Product = np.prod(np.cos(z/(i**0.5)))\n",
    "        result = abs(Addition - Product + 1 + bias)\n",
    "    \n",
    "    else:\n",
    "        print('Function Name not recognize')\n",
    "        \n",
    "    return result"
   ]
  }
 ],
 "metadata": {
  "kernelspec": {
   "display_name": "Python 3",
   "language": "python",
   "name": "python3"
  },
  "language_info": {
   "codemirror_mode": {
    "name": "ipython",
    "version": 3
   },
   "file_extension": ".py",
   "mimetype": "text/x-python",
   "name": "python",
   "nbconvert_exporter": "python",
   "pygments_lexer": "ipython3",
   "version": "3.7.4"
  }
 },
 "nbformat": 4,
 "nbformat_minor": 4
}
