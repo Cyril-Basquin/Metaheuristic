{
 "cells": [
  {
   "cell_type": "code",
   "execution_count": 15,
   "metadata": {},
   "outputs": [],
   "source": [
    "def objective_function(pop, function = 'Sphere', dimension = 2):\n",
    "    from ipynb.fs.full.target_bias import function_target_bias\n",
    "    \"\"\" \n",
    "    Requirement: Notebook 'target_bias.ipynb' have to be in the same folder that this notebook\n",
    "    \n",
    "    Arguments=\n",
    "        -pop: an np array of size n (population) and m (dimension)\n",
    "        -function: a callable function among:\n",
    "            -Sphere\n",
    "            -Schwefel\n",
    "            -Rosenbrock\n",
    "            -Rastrigin\n",
    "            -Griewank\n",
    "            -Ackley\n",
    "    \"\"\"\n",
    "    \n",
    "    target, bias = function_target_bias(function)\n",
    "    target = target[:dimension]\n",
    "    \n",
    "    if function == 'Sphere':\n",
    "        z = pop-target\n",
    "        result = abs(np.sum(f, axis = 1) + bias)\n",
    "        \n",
    "    elif function == 'Schwefel':\n",
    "        z = abs(pop-target)\n",
    "        \n",
    "        \n",
    "    elif function == 'Rosenbrock':\n",
    "        z = pop-target\n",
    "        f = 100*(np.delete(z,-1)**2-np.delete(z,0))**2+(np.delete(z,-1))**2\n",
    "        result = abs(np.sum(f, axis = 1) + bias)\n",
    "           \n",
    "    elif function == 'Rastrigin':\n",
    "        z = pop-target\n",
    "        f = z**2-10*np.cos(2*np.pi*z) + 10\n",
    "        result =  abs(np.sum(f, axis = 1) + bias)\n",
    "        \n",
    "    elif function == 'Griewank':\n",
    "        z = pop-target\n",
    "        result, addition = 0\n",
    "        produit = 1\n",
    "\n",
    "        for i in range(z.shape[1]):\n",
    "            Addition += (z[i] ** 2)/4000 \n",
    "            Produit *= np.cos(z[i]/((i+1)**0.5)) \n",
    "        result = abs(Addition - Produit + 1 + bias)\n",
    "    \n",
    "    else:\n",
    "        print('Function Name not recognize')\n",
    "        \n",
    "    return result"
   ]
  },
  {
   "cell_type": "markdown",
   "metadata": {},
   "source": [
    "# TO delete after test"
   ]
  },
  {
   "cell_type": "code",
   "execution_count": 8,
   "metadata": {},
   "outputs": [],
   "source": [
    "import numpy as np\n",
    "import random"
   ]
  },
  {
   "cell_type": "code",
   "execution_count": 9,
   "metadata": {},
   "outputs": [],
   "source": [
    "def initialize_pop(pop_size, dimension, low_bound, up_bound):\n",
    "    \"\"\" Function that initialize a population with random (uniform distribution) data between bounds\"\"\"\n",
    "    pop = np.empty([pop_size, dimension])\n",
    "    for j in range(pop_size):\n",
    "        for i in range(dimension):\n",
    "            pop[j][i]= random.uniform(low_bound, up_bound)\n",
    "    return pop"
   ]
  },
  {
   "cell_type": "code",
   "execution_count": 10,
   "metadata": {},
   "outputs": [],
   "source": [
    "pop = initialize_pop(100, 50, -5, 5)"
   ]
  },
  {
   "cell_type": "code",
   "execution_count": 11,
   "metadata": {},
   "outputs": [
    {
     "name": "stdout",
     "output_type": "stream",
     "text": [
      "(100, 50)\n"
     ]
    }
   ],
   "source": [
    "print(pop.shape)"
   ]
  },
  {
   "cell_type": "code",
   "execution_count": 16,
   "metadata": {},
   "outputs": [],
   "source": [
    "fitness = objective_function(pop, 'Rastrigin', 50)"
   ]
  },
  {
   "cell_type": "code",
   "execution_count": 17,
   "metadata": {},
   "outputs": [
    {
     "name": "stdout",
     "output_type": "stream",
     "text": [
      "[1187.64744502 1215.27779685 1351.63817909 1125.26346815 1413.74044403\n",
      " 1161.55638916 1062.60494731 1085.16402446  873.48499421 1093.11003052\n",
      " 1084.10747092  943.79999037 1121.55937224 1352.65872803 1109.76080897\n",
      " 1337.22354917 1043.53198962 1340.21786002 1232.28218911  855.37223913\n",
      " 1188.7781592   935.34460374 1103.1248269  1205.3971133  1109.67325537\n",
      "  979.77502437 1164.49732965 1278.74086575 1034.72246257 1169.02478323\n",
      " 1292.85740623 1198.91942725 1336.07472341 1592.13323282 1000.59089941\n",
      " 1258.36334916  869.65357537 1026.08434995 1194.65768866 1076.5563842\n",
      " 1334.32428254  829.56244241 1147.32890459 1212.37566295 1256.26791801\n",
      " 1149.12823202 1488.82490062 1331.44387706 1273.65035888  928.74241043\n",
      " 1226.65027491  963.17486903  934.32869492 1377.25105664 1159.55273476\n",
      " 1459.00533003  984.10037101 1450.44318961 1057.58442037  961.90005071\n",
      " 1033.12538884 1004.3922933  1229.64521087 1203.63233948 1156.12062102\n",
      " 1124.13127254 1402.44731743 1284.09571712 1285.75986133 1421.30802062\n",
      " 1062.24429599 1372.5283778  1043.96571837 1261.83816801 1379.77304211\n",
      " 1009.08544507  826.09849562 1329.27849037 1179.62779088 1008.41754013\n",
      " 1121.42816304 1250.72716232 1060.7147003  1255.19477013 1024.44949202\n",
      " 1261.26556149 1025.11475027 1257.88284539 1162.28654346 1138.03041021\n",
      " 1255.64339093 1195.57264782 1053.56726629 1040.89758635 1445.01002798\n",
      " 1242.72014841 1096.68249007 1105.64880339 1238.03666448  930.89841187]\n"
     ]
    }
   ],
   "source": [
    "print(fitness)"
   ]
  }
 ],
 "metadata": {
  "kernelspec": {
   "display_name": "Python 3",
   "language": "python",
   "name": "python3"
  },
  "language_info": {
   "codemirror_mode": {
    "name": "ipython",
    "version": 3
   },
   "file_extension": ".py",
   "mimetype": "text/x-python",
   "name": "python",
   "nbconvert_exporter": "python",
   "pygments_lexer": "ipython3",
   "version": "3.7.4"
  }
 },
 "nbformat": 4,
 "nbformat_minor": 4
}
