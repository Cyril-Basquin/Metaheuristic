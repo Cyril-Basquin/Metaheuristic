{
 "cells": [
  {
   "cell_type": "code",
   "execution_count": 4,
   "metadata": {},
   "outputs": [],
   "source": [
    "def boundary_loader(function =''):\n",
    "    \n",
    "    if function == 'Sphere':\n",
    "        boundary = 100\n",
    "        \n",
    "    elif function == \"Schwefel\":\n",
    "        boundary = 100\n",
    "        \n",
    "    elif function == 'Rosenbrock':\n",
    "        boundary = 100\n",
    "           \n",
    "    elif function == 'Rastrigin':\n",
    "        boundary = 5\n",
    "        \n",
    "    elif function == 'Griewank':\n",
    "        boundary = 600\n",
    "        \n",
    "    else:\n",
    "        print('Function Name not recognize')\n",
    "    \n",
    "    return boundary"
   ]
  }
 ],
 "metadata": {
  "kernelspec": {
   "display_name": "Python 3",
   "language": "python",
   "name": "python3"
  },
  "language_info": {
   "codemirror_mode": {
    "name": "ipython",
    "version": 3
   },
   "file_extension": ".py",
   "mimetype": "text/x-python",
   "name": "python",
   "nbconvert_exporter": "python",
   "pygments_lexer": "ipython3",
   "version": "3.7.4"
  }
 },
 "nbformat": 4,
 "nbformat_minor": 4
}
