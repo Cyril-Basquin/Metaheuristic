{
 "cells": [
  {
   "cell_type": "code",
   "execution_count": 1,
   "metadata": {
    "colab": {},
    "colab_type": "code",
    "id": "K8b26SHeFGHn"
   },
   "outputs": [],
   "source": [
    "#pip install inspyred"
   ]
  },
  {
   "cell_type": "code",
   "execution_count": 2,
   "metadata": {
    "colab": {},
    "colab_type": "code",
    "id": "RGk7kWORFILV"
   },
   "outputs": [],
   "source": [
    "#pip install jmetalpy"
   ]
  },
  {
   "cell_type": "code",
   "execution_count": 3,
   "metadata": {
    "colab": {},
    "colab_type": "code",
    "id": "9uMNGFQLFJ-o"
   },
   "outputs": [],
   "source": [
    "#pip install pygmo"
   ]
  },
  {
   "cell_type": "code",
   "execution_count": 4,
   "metadata": {
    "colab": {},
    "colab_type": "code",
    "id": "X_GtaRS6QEFu"
   },
   "outputs": [],
   "source": [
    "# Define function to test 'Rastrigin' or 'Rosenbrock'\n",
    "\n",
    "function_name = 'Rastrigin'\n",
    "dimension = 500"
   ]
  },
  {
   "cell_type": "markdown",
   "metadata": {
    "colab_type": "text",
    "id": "Y2qbuXQFQeqv"
   },
   "source": [
    "# Inspyred"
   ]
  },
  {
   "cell_type": "code",
   "execution_count": 5,
   "metadata": {
    "colab": {},
    "colab_type": "code",
    "id": "ciT4rSAyFL3h"
   },
   "outputs": [],
   "source": [
    "from random import Random\n",
    "from time import time\n",
    "import inspyred\n",
    "\n",
    "prng = None\n",
    "\n",
    "if prng is None:\n",
    "    prng = Random()\n",
    "    prng.seed(time()) \n",
    "\n",
    "if function_name == 'Rastrigin':\n",
    "  problem = inspyred.benchmarks.Rastrigin(dimension)\n",
    "else:\n",
    "  problem = inspyred.benchmarks.Rosenbrock(dimension)\n",
    "\n",
    "ea = inspyred.ec.GA(prng)\n",
    "ea.terminator = inspyred.ec.terminators.evaluation_termination\n",
    "\n",
    "t1 = time()\n",
    "final_pop = ea.evolve(generator=problem.generator,\n",
    "                      evaluator=problem.evaluator,\n",
    "                      pop_size=100,\n",
    "                      maximize=problem.maximize,\n",
    "                      bounder=problem.bounder,\n",
    "                      max_evaluations=100*10000,\n",
    "                      crossover_rate= 0.9 ,\n",
    "                      mutation_rate = 0.02,\n",
    "                      num_elites=1)\n",
    "\n",
    "t2 = time()\n",
    "time_inspyred = t2-t1\n",
    "\n",
    "final_pop.sort(reverse=True)\n",
    "best_inspyred = final_pop[0]"
   ]
  },
  {
   "cell_type": "markdown",
   "metadata": {
    "colab_type": "text",
    "id": "1Yniey2AQY0s"
   },
   "source": [
    "# PYGMO"
   ]
  },
  {
   "cell_type": "raw",
   "metadata": {
    "colab": {},
    "colab_type": "code",
    "id": "LsJ0T5XbFPSh"
   },
   "source": [
    "from time import time\n",
    "import pygmo as pg\n",
    "\n",
    "\n",
    "if function_name == 'Rastrigin':\n",
    "  prob = pg.problem(pg.rastrigin(dim = dimension)) \n",
    "else:\n",
    "  prob = pg.problem(pg.rosenbrock(dim = dimension)) \n",
    "\n",
    "\n",
    "pop = pg.population(prob, size = 100)\n",
    "\n",
    "algo = pg.algorithm(pg.sga(gen= 10000,\n",
    "                          m = 0.02,\n",
    "                          cr = 0.9,))\n",
    "\n",
    "algo.set_verbosity(50)\n",
    "    \n",
    "t1 = time()\n",
    "pop = algo.evolve(pop)\n",
    "t2 = time()\n",
    "\n",
    "time_pygmo = t2-t1\n",
    "\n",
    "# Getting the best individual in the population\n",
    "best_fitness_pygmo = pop.get_f()[pop.best_idx()]\n"
   ]
  },
  {
   "cell_type": "code",
   "execution_count": 6,
   "metadata": {
    "colab": {},
    "colab_type": "code",
    "id": "-DsJaF5HFUBR"
   },
   "outputs": [],
   "source": [
    "import math\n",
    "\n",
    "from jmetal.algorithm.singleobjective.genetic_algorithm import GeneticAlgorithm\n",
    "from jmetal.operator import BestSolutionSelection, SimpleRandomMutation, SBXCrossover \n",
    "from jmetal.operator import PolynomialMutation, DifferentialEvolutionCrossover\n",
    "from jmetal.core.problem import FloatProblem, FloatSolution\n",
    "from jmetal.util.termination_criterion import StoppingByEvaluations\n",
    "\n",
    "from jmetal.problem.singleobjective.unconstrained import Rastrigin\n",
    "\n",
    "if function_name == 'Rastrigin':\n",
    "  problem = Rastrigin(dimension)\n",
    "else:\n",
    "  problem = Rosenbrock(dimension)\n",
    "\n",
    "algorithm = GeneticAlgorithm(\n",
    "    problem=problem,\n",
    "    population_size=100,\n",
    "    offspring_population_size=100,\n",
    "    mutation=PolynomialMutation(probability = 0.01, distribution_index = 1.0), \n",
    "    crossover=SBXCrossover(probability = 0.85, distribution_index = 1.0), # DIM 500 Schwefel Anthony\n",
    "    selection=BestSolutionSelection(),\n",
    "    termination_criterion=StoppingByEvaluations(100*10000)\n",
    ")\n",
    "\n",
    "t1 = time()\n",
    "algorithm.run()\n",
    "result_jmetal = algorithm.get_result()\n",
    "t2 = time()\n",
    "\n",
    "time_jmetal = t2-t1\n",
    "\n"
   ]
  },
  {
   "cell_type": "code",
   "execution_count": 7,
   "metadata": {
    "colab": {
     "base_uri": "https://localhost:8080/",
     "height": 119
    },
    "colab_type": "code",
    "executionInfo": {
     "elapsed": 65,
     "status": "ok",
     "timestamp": 1590173849927,
     "user": {
      "displayName": "Cyril bou",
      "photoUrl": "https://lh3.googleusercontent.com/a-/AOh14GiKmzLZqsr8fa3uQRzNo_XJBl6rI_cgF8ex8yHK=s64",
      "userId": "17501990160558324052"
     },
     "user_tz": -120
    },
    "id": "i2mQCagYFZTt",
    "outputId": "b9a3143b-cbe4-4719-e51f-277a82371110"
   },
   "outputs": [
    {
     "name": "stdout",
     "output_type": "stream",
     "text": [
      "Inspyred computational time: 843.609986782074\n",
      "JmetalPy computational time: 1950.8905501365662\n",
      "Inspyred best fitness: 7181.025474471143\n",
      "Jmetalpy best fitness: 240.95649957131977\n"
     ]
    }
   ],
   "source": [
    "print('Inspyred computational time: {}'.format(time_inspyred))\n",
    "#print('Pygmo  computational   time: {}'.format(time_pygmo))\n",
    "print('JmetalPy computational time: {}'.format(time_jmetal))\n",
    "\n",
    "\n",
    "print('Inspyred best fitness: {}'.format(best_inspyred.fitness))\n",
    "#print('Pygmo best fitness: {}'.format(best_fitness_pygmo))\n",
    "print('Jmetalpy best fitness: {}'.format(result_jmetal.objectives[0]))"
   ]
  },
  {
   "cell_type": "markdown",
   "metadata": {
    "colab_type": "text",
    "id": "KRyPEJslamu7"
   },
   "source": [
    "## Rastrigin dimension 50\n",
    "Pop size = 100, Generation = 10 000  \n",
    ".  \n",
    "  \n",
    "Inspyred computational time: 59.285563230514526  \n",
    "Pygmo  computational   time: 3.0396602153778076  \n",
    "JmetalPy computational time: 432.4131290912628  \n",
    "    \n",
    "Inspyred best fitness: 422.0758530193983  \n",
    "Pygmo best fitness: [0.00216588]  \n",
    "Jmetalpy best fitness: 0.005016779113088177  \n"
   ]
  },
  {
   "cell_type": "markdown",
   "metadata": {
    "colab_type": "text",
    "id": "oW168AYgw1lA"
   },
   "source": [
    "## Rastrigin dimension 500 run on google Colab\n",
    "Pop size = 100, Generation = 10 000  \n",
    ".  \n",
    "  \n",
    "\n",
    "Inspyred computational time: 507.88108086586  \n",
    "Pygmo  computational   time: 26.509809017181396  \n",
    "JmetalPy computational time: 1461.9848663806915  \n",
    "\n",
    "Inspyred best fitness: 7317.720673138793  \n",
    "Pygmo best fitness: [1936.76834384]  \n",
    "Jmetalpy best fitness: 264.7526989653254  "
   ]
  },
  {
   "cell_type": "markdown",
   "metadata": {
    "colab_type": "text",
    "id": "CabjZkrHYYWH"
   },
   "source": [
    "## Rastrigin dimension 500 run on my PC\n",
    "pop_size = 100, Generation = 10 000\n",
    "\n",
    "Inspyred computational time: 843.609986782074  \n",
    "JmetalPy computational time: 1950.8905501365662  \n",
    "\n",
    "Inspyred best fitness: 7181.025474471143  \n",
    "Jmetalpy best fitness: 240.95649957131977  "
   ]
  },
  {
   "cell_type": "markdown",
   "metadata": {
    "colab_type": "text",
    "id": "28tBgnYeTNp7"
   },
   "source": [
    "Inspyred Simulated annealing"
   ]
  },
  {
   "cell_type": "code",
   "execution_count": 8,
   "metadata": {
    "colab": {
     "base_uri": "https://localhost:8080/",
     "height": 54
    },
    "colab_type": "code",
    "executionInfo": {
     "elapsed": 42,
     "status": "ok",
     "timestamp": 1590173849928,
     "user": {
      "displayName": "Cyril bou",
      "photoUrl": "https://lh3.googleusercontent.com/a-/AOh14GiKmzLZqsr8fa3uQRzNo_XJBl6rI_cgF8ex8yHK=s64",
      "userId": "17501990160558324052"
     },
     "user_tz": -120
    },
    "id": "8sqpGZdOIZtv",
    "outputId": "dca058a9-ddc7-4b94-c169-aca2cb5e6c3e"
   },
   "outputs": [
    {
     "data": {
      "text/plain": [
       "\"from random import Random\\nfrom time import time\\nimport inspyred\\n\\nprng = None\\n\\nif prng is None:\\n    prng = Random()\\n    prng.seed(time()) \\n\\nif function_name == 'Rastrigin':\\n  problem = inspyred.benchmarks.Rastrigin(dimension)\\nelse:\\n  problem = inspyred.benchmarks.Rosenbrock(dimension)\\n\\nea = inspyred.ec.SA(prng)\\nea.terminator = inspyred.ec.terminators.evaluation_termination\\n\\nt1 = time()\\nfinal_pop = ea.evolve(evaluator=problem.evaluator, \\n                      generator=problem.generator, \\n                      maximize=problem.maximize,\\n                      bounder=problem.bounder,\\n                      temperature = , \\n                      cooling_rate = , \\n                      mutation_rate = , \\n                      gaussian_mean = ,\\n                      gaussian_stdev = ,\\n                      max_evaluations=30000)\\n\\n\\nt2 = time()\\ntime_inspyred = t2-t1\\n\\nfinal_pop.sort(reverse=True)\\nbest_inspyred = final_pop[0]\""
      ]
     },
     "execution_count": 8,
     "metadata": {},
     "output_type": "execute_result"
    }
   ],
   "source": [
    "\"\"\"from random import Random\n",
    "from time import time\n",
    "import inspyred\n",
    "\n",
    "prng = None\n",
    "\n",
    "if prng is None:\n",
    "    prng = Random()\n",
    "    prng.seed(time()) \n",
    "\n",
    "if function_name == 'Rastrigin':\n",
    "  problem = inspyred.benchmarks.Rastrigin(dimension)\n",
    "else:\n",
    "  problem = inspyred.benchmarks.Rosenbrock(dimension)\n",
    "\n",
    "ea = inspyred.ec.SA(prng)\n",
    "ea.terminator = inspyred.ec.terminators.evaluation_termination\n",
    "\n",
    "t1 = time()\n",
    "final_pop = ea.evolve(evaluator=problem.evaluator, \n",
    "                      generator=problem.generator, \n",
    "                      maximize=problem.maximize,\n",
    "                      bounder=problem.bounder,\n",
    "                      temperature = , \n",
    "                      cooling_rate = , \n",
    "                      mutation_rate = , \n",
    "                      gaussian_mean = ,\n",
    "                      gaussian_stdev = ,\n",
    "                      max_evaluations=30000)\n",
    "\n",
    "\n",
    "t2 = time()\n",
    "time_inspyred = t2-t1\n",
    "\n",
    "final_pop.sort(reverse=True)\n",
    "best_inspyred = final_pop[0]\"\"\""
   ]
  },
  {
   "cell_type": "markdown",
   "metadata": {
    "colab_type": "text",
    "id": "mTPKN2KdWQni"
   },
   "source": [
    "JmetalPy simulated annealing"
   ]
  },
  {
   "cell_type": "code",
   "execution_count": 9,
   "metadata": {
    "colab": {
     "base_uri": "https://localhost:8080/",
     "height": 54
    },
    "colab_type": "code",
    "executionInfo": {
     "elapsed": 28,
     "status": "ok",
     "timestamp": 1590173849929,
     "user": {
      "displayName": "Cyril bou",
      "photoUrl": "https://lh3.googleusercontent.com/a-/AOh14GiKmzLZqsr8fa3uQRzNo_XJBl6rI_cgF8ex8yHK=s64",
      "userId": "17501990160558324052"
     },
     "user_tz": -120
    },
    "id": "d389d-6-UYin",
    "outputId": "2dbee81d-6384-43ed-ecb6-8da74951053a"
   },
   "outputs": [
    {
     "data": {
      "text/plain": [
       "\"from jmetal.algorithm.singleobjective.genetic_algorithm import SimulatedAnnealing\\n\\n\\n\\nif function_name == 'Rastrigin':\\n  problem = Rastrigin(dimension)\\nelse:\\n  problem = Rosenbrock(dimension)\\n\\nalgorithm = SimulatedAnnealing(\\n    problem=problem,\\n    population_size=100,\\n    mutation = ,\\n    temperature = ,\\n    minimum_temperature = ,\\n    alpha = 0.95 ,\\n    selection=BestSolutionSelection(),\\n    termination_criterion=StoppingByEvaluations(100*10000)\\n)\\n\\nt1 = time()\\nalgorithm.run()\\nresult_jmetal = algorithm.get_result()\\nt2 = time()\\n\\ntime_jmetal = t2-t1\""
      ]
     },
     "execution_count": 9,
     "metadata": {},
     "output_type": "execute_result"
    }
   ],
   "source": [
    "\"\"\"from jmetal.algorithm.singleobjective.genetic_algorithm import SimulatedAnnealing\n",
    "\n",
    "\n",
    "\n",
    "if function_name == 'Rastrigin':\n",
    "  problem = Rastrigin(dimension)\n",
    "else:\n",
    "  problem = Rosenbrock(dimension)\n",
    "\n",
    "algorithm = SimulatedAnnealing(\n",
    "    problem=problem,\n",
    "    population_size=100,\n",
    "    mutation = ,\n",
    "    temperature = ,\n",
    "    minimum_temperature = ,\n",
    "    alpha = 0.95 ,\n",
    "    selection=BestSolutionSelection(),\n",
    "    termination_criterion=StoppingByEvaluations(100*10000)\n",
    ")\n",
    "\n",
    "t1 = time()\n",
    "algorithm.run()\n",
    "result_jmetal = algorithm.get_result()\n",
    "t2 = time()\n",
    "\n",
    "time_jmetal = t2-t1\"\"\""
   ]
  }
 ],
 "metadata": {
  "colab": {
   "authorship_tag": "ABX9TyMWDvuL0GpPNz+JzwRcaRIg",
   "collapsed_sections": [],
   "name": "inspyred_pygmo_jmetalpy_comparison.ipynb",
   "provenance": []
  },
  "kernelspec": {
   "display_name": "Python 3",
   "language": "python",
   "name": "python3"
  },
  "language_info": {
   "codemirror_mode": {
    "name": "ipython",
    "version": 3
   },
   "file_extension": ".py",
   "mimetype": "text/x-python",
   "name": "python",
   "nbconvert_exporter": "python",
   "pygments_lexer": "ipython3",
   "version": "3.7.4"
  }
 },
 "nbformat": 4,
 "nbformat_minor": 1
}
