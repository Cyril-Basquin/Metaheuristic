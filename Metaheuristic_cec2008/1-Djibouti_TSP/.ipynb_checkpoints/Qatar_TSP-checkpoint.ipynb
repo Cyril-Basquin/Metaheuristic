{
 "cells": [
  {
   "cell_type": "code",
   "execution_count": 51,
   "metadata": {},
   "outputs": [],
   "source": [
    "cities=[11003.611100\t,\t42102.500000\t,\n",
    "11108.611100\t,\t42373.888900\t,\n",
    "11133.333300\t,\t42885.833300\t,\n",
    "11155.833300\t,\t42712.500000\t,\n",
    "11183.333300\t,\t42933.333300\t,\n",
    "11297.500000\t,\t42853.333300\t,\n",
    "11310.277800\t,\t42929.444400\t,\n",
    "11416.666700\t,\t42983.333300\t,\n",
    "11423.888900\t,\t43000.277800\t,\n",
    "11438.333300\t,\t42057.222200\t,\n",
    "11461.111100\t,\t43252.777800\t,\n",
    "11485.555600\t,\t43187.222200\t,\n",
    "11503.055600\t,\t42855.277800\t,\n",
    "11511.388900\t,\t42106.388900\t,\n",
    "11522.222200\t,\t42841.944400\t,\n",
    "11569.444400\t,\t43136.666700\t,\n",
    "11583.333300\t,\t43150.000000\t,\n",
    "11595.000000\t,\t43148.055600\t,\n",
    "11600.000000\t,\t43150.000000\t,\n",
    "11690.555600\t,\t42686.666700\t,\n",
    "11715.833300\t,\t41836.111100\t,\n",
    "11751.111100\t,\t42814.444400\t,\n",
    "11770.277800\t,\t42651.944400\t,\n",
    "11785.277800\t,\t42884.444400\t,\n",
    "11822.777800\t,\t42673.611100\t,\n",
    "11846.944400\t,\t42660.555600\t,\n",
    "11963.055600\t,\t43290.555600\t,\n",
    "11973.055600\t,\t43026.111100\t,\n",
    "12058.333300\t,\t42195.555600\t,\n",
    "12149.444400\t,\t42477.500000\t,\n",
    "12286.944400\t,\t43355.555600\t,\n",
    "12300.000000\t,\t42433.333300\t,\n",
    "12355.833300\t,\t43156.388900\t,\n",
    "12363.333300\t,\t43189.166700\t,\n",
    "12372.777800\t,\t42711.388900\t,\n",
    "12386.666700\t,\t43334.722200\t,\n",
    "12421.666700\t,\t42895.555600\t,\n",
    "12645.000000\t,\t42973.333300\n",
    "]"
   ]
  },
  {
   "cell_type": "code",
   "execution_count": 54,
   "metadata": {},
   "outputs": [],
   "source": [
    "coordinates = np.reshape(cities, (int(len(cities)/2), 2))"
   ]
  },
  {
   "cell_type": "code",
   "execution_count": 60,
   "metadata": {},
   "outputs": [],
   "source": [
    "from math import sqrt\n",
    "import numpy as np\n",
    "\n",
    "coordinates = np.reshape(cities, (int(len(cities)/2), 2))\n",
    "coordinates.tolist()\n",
    "x = coordinates[:,0]\n",
    "y = coordinates[:,1]\n",
    "\n",
    "cost_matrix = np.empty([len(x),len(y)])\n",
    "for i in range(len(x)):\n",
    "    for j in range(len(x)):\n",
    "        if i == j:\n",
    "            cost_matrix[i][j] = int(999999999)\n",
    "            \n",
    "        else:\n",
    "            cost_matrix[i][j] = int(sqrt((x[i]-x[j])**2 + (y[i]-y[j])**2))\n",
    "\n",
    "cost_matrix = cost_matrix.tolist()\n",
    "\n",
    "n = len(cost_matrix)"
   ]
  },
  {
   "cell_type": "code",
   "execution_count": 89,
   "metadata": {
    "scrolled": true
   },
   "outputs": [
    {
     "name": "stdout",
     "output_type": "stream",
     "text": [
      "Objective: 6645 miles\n",
      "Route for vehicle 0:\n",
      " 0 -> 1 -> 3 -> 2 -> 4 -> 5 -> 6 -> 7 -> 8 -> 10 -> 11 -> 15 -> 16 -> 17 -> 18 -> 12 -> 14 -> 19 -> 22 -> 25 -> 24 -> 21 -> 23 -> 27 -> 26 -> 30 -> 35 -> 33 -> 32 -> 37 -> 36 -> 34 -> 31 -> 29 -> 28 -> 20 -> 13 -> 9 -> 0\n",
      "\n"
     ]
    }
   ],
   "source": [
    "\"\"\"Simple travelling salesman problem between cities.\"\"\"\n",
    "\n",
    "from __future__ import print_function\n",
    "from ortools.constraint_solver import routing_enums_pb2\n",
    "from ortools.constraint_solver import pywrapcp\n",
    "\n",
    "\n",
    "\n",
    "def create_data_model(cost_matrix):\n",
    "    \"\"\"Stores the data for the problem.\"\"\"\n",
    "    data = {}\n",
    "    data['distance_matrix'] = cost_matrix # yapf: disable\n",
    "    data['num_vehicles'] = 1\n",
    "    data['depot'] = 0\n",
    "    return data\n",
    "\n",
    "\n",
    "def print_solution(manager, routing, solution):\n",
    "    \"\"\"Prints solution on console.\"\"\"\n",
    "    print('Objective: {} miles'.format(solution.ObjectiveValue()))\n",
    "    index = routing.Start(0)\n",
    "    plan_output = 'Route for vehicle 0:\\n'\n",
    "    trajectory = []\n",
    "    route_distance = 0\n",
    "    while not routing.IsEnd(index):\n",
    "        plan_output += ' {} ->'.format(manager.IndexToNode(index))\n",
    "        trajectory.append(manager.IndexToNode(index))\n",
    "        previous_index = index\n",
    "        index = solution.Value(routing.NextVar(index))\n",
    "        route_distance += routing.GetArcCostForVehicle(previous_index, index, 0)\n",
    "    plan_output += ' {}\\n'.format(manager.IndexToNode(index))\n",
    "    print(plan_output)\n",
    "    plan_output += 'Route distance: {}miles\\n'.format(route_distance)\n",
    "    return trajectory\n",
    "\n",
    "\n",
    "\n",
    "\"\"\"Entry point of the program.\"\"\"\n",
    "# Instantiate the data problem.\n",
    "data = create_data_model(cost_matrix)\n",
    "\n",
    "# Create the routing index manager.\n",
    "manager = pywrapcp.RoutingIndexManager(len(data['distance_matrix']),\n",
    "                                       data['num_vehicles'], data['depot'])\n",
    "\n",
    "# Create Routing Model.\n",
    "routing = pywrapcp.RoutingModel(manager)\n",
    "\n",
    "\n",
    "def distance_callback(from_index, to_index):\n",
    "    \"\"\"Returns the distance between the two nodes.\"\"\"\n",
    "    # Convert from routing variable Index to distance matrix NodeIndex.\n",
    "    from_node = manager.IndexToNode(from_index)\n",
    "    to_node = manager.IndexToNode(to_index)\n",
    "    return data['distance_matrix'][from_node][to_node]\n",
    "\n",
    "transit_callback_index = routing.RegisterTransitCallback(distance_callback)\n",
    "\n",
    "# Define cost of each arc.\n",
    "routing.SetArcCostEvaluatorOfAllVehicles(transit_callback_index)\n",
    "\n",
    "# Setting first solution heuristic.\n",
    "search_parameters = pywrapcp.DefaultRoutingSearchParameters()\n",
    "search_parameters.first_solution_strategy = (\n",
    "    routing_enums_pb2.FirstSolutionStrategy.PATH_CHEAPEST_ARC)\n",
    "\n",
    "# Solve the problem.\n",
    "solution = routing.SolveWithParameters(search_parameters)\n",
    "\n",
    "# Print solution on console.\n",
    "trajectory =  print_solution(manager, routing, solution)\n",
    "\n"
   ]
  },
  {
   "cell_type": "code",
   "execution_count": 93,
   "metadata": {},
   "outputs": [],
   "source": [
    "trajectory.append(trajectory[0])\n",
    "distance = solution.ObjectiveValue()\n",
    "\n",
    "xlist=[]\n",
    "ylist=[]\n",
    "for i in range(len(trajectory)):\n",
    "    ref_ = trajectory[i]\n",
    "    xlist.append(x[ref_])\n",
    "    ylist.append(y[ref_])\n",
    "\n",
    "    \n",
    "z = []\n",
    "for i in range(len(x)):\n",
    "    z.append(i)"
   ]
  },
  {
   "cell_type": "code",
   "execution_count": 94,
   "metadata": {},
   "outputs": [
    {
     "data": {
      "image/png": "[encoded data removed]",
      "text/plain": [
       "<Figure size 432x288 with 1 Axes>"
      ]
     },
     "metadata": {
      "needs_background": "light"
     },
     "output_type": "display_data"
    }
   ],
   "source": [
    "fig, ax = plt.subplots()\n",
    "ax.scatter(x, y, s=2, c= 'red', marker='.')\n",
    "\n",
    "for i, txt in enumerate(z):\n",
    "    ax.annotate(txt, (x[i], y[i]))\n",
    "\n",
    "plt.plot(xlist, ylist, linestyle='-')\n",
    "plt.axis('equal')\n",
    "    \n",
    "fig.savefig('hophop.png')"
   ]
  }
 ],
 "metadata": {
  "kernelspec": {
   "display_name": "Python 3",
   "language": "python",
   "name": "python3"
  },
  "language_info": {
   "codemirror_mode": {
    "name": "ipython",
    "version": 3
   },
   "file_extension": ".py",
   "mimetype": "text/x-python",
   "name": "python",
   "nbconvert_exporter": "python",
   "pygments_lexer": "ipython3",
   "version": "3.7.4"
  }
 },
 "nbformat": 4,
 "nbformat_minor": 4
}
