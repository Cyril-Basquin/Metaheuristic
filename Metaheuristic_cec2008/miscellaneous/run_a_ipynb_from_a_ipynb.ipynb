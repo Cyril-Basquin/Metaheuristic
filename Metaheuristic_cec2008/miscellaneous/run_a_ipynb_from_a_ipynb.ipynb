{
  "nbformat": 4,
  "nbformat_minor": 0,
  "metadata": {
    "colab": {
      "name": "launch_another_ipynb.ipynb",
      "provenance": [],
      "collapsed_sections": []
    },
    "kernelspec": {
      "name": "python3",
      "display_name": "Python 3"
    }
  },
  "cells": [
    {
      "cell_type": "markdown",
      "metadata": {
        "id": "mX6xhgDIjfsG",
        "colab_type": "text"
      },
      "source": [
        "# **Basic instruction to run a python if you don't directly open it**\n",
        "\n",
        "\n"
      ]
    },
    {
      "cell_type": "markdown",
      "metadata": {
        "id": "OQrDryu0h785",
        "colab_type": "text"
      },
      "source": [
        "#### Clone the Github Repository where the .ipynb / .py is located"
      ]
    },
    {
      "cell_type": "code",
      "metadata": {
        "id": "-JExgEpXANwm",
        "colab_type": "code",
        "outputId": "7744aeef-9708-40ab-ee96-d73cdd6a9d8a",
        "colab": {
          "base_uri": "https://localhost:8080/",
          "height": 119
        }
      },
      "source": [
        "! git clone https://github.com/Cyril-Basquin/Metaheuristic.git"
      ],
      "execution_count": 7,
      "outputs": [
        {
          "output_type": "stream",
          "text": [
            "Cloning into 'Metaheuristic'...\n",
            "remote: Enumerating objects: 65, done.\u001b[K\n",
            "remote: Counting objects: 100% (65/65), done.\u001b[K\n",
            "remote: Compressing objects: 100% (65/65), done.\u001b[K\n",
            "remote: Total 65 (delta 24), reused 0 (delta 0), pack-reused 0\u001b[K\n",
            "Unpacking objects: 100% (65/65), done.\n"
          ],
          "name": "stdout"
        }
      ]
    },
    {
      "cell_type": "markdown",
      "metadata": {
        "id": "pTjdGeiPiJB0",
        "colab_type": "text"
      },
      "source": [
        "#### If local path are used in the code, go to the adapted folder"
      ]
    },
    {
      "cell_type": "code",
      "metadata": {
        "id": "PkdYEJTljkCu",
        "colab_type": "code",
        "outputId": "627dc498-205b-4a05-dce2-dbea15b3dd64",
        "colab": {
          "base_uri": "https://localhost:8080/",
          "height": 34
        }
      },
      "source": [
        "cd /content/Metaheuristic/Metaheuristic_cec2008/framework_computation_time"
      ],
      "execution_count": 8,
      "outputs": [
        {
          "output_type": "stream",
          "text": [
            "/content/Metaheuristic/Metaheuristic_cec2008/framework_computation_time\n"
          ],
          "name": "stdout"
        }
      ]
    },
    {
      "cell_type": "markdown",
      "metadata": {
        "id": "MJtPkfwMiUXT",
        "colab_type": "text"
      },
      "source": [
        "#### Run the .ipynb / .py"
      ]
    },
    {
      "cell_type": "code",
      "metadata": {
        "id": "dNnskvRsBOhM",
        "colab_type": "code",
        "outputId": "a895df3d-ab58-4e22-b202-35c8f0a3c471",
        "colab": {
          "base_uri": "https://localhost:8080/",
          "height": 85
        }
      },
      "source": [
        "%run /content/Metaheuristic/Metaheuristic_cec2008/framework_computation_time/inspyred_pygmo_jmetalpy_comparison.ipynb"
      ],
      "execution_count": 21,
      "outputs": [
        {
          "output_type": "stream",
          "text": [
            "Inspyred computational time: 507.4232428073883\n",
            "JmetalPy computational time: 1428.9396245479584\n",
            "Inspyred best fitness: 6843.371402819485\n",
            "Jmetalpy best fitness: 246.75585231072603\n"
          ],
          "name": "stdout"
        }
      ]
    },
    {
      "cell_type": "markdown",
      "metadata": {
        "id": "ZZJhbO2tipvO",
        "colab_type": "text"
      },
      "source": [
        "**Often, all the packages are not installed on google colab... Install them**"
      ]
    },
    {
      "cell_type": "code",
      "metadata": {
        "id": "BfmM3sggXS8U",
        "colab_type": "code",
        "colab": {
          "base_uri": "https://localhost:8080/",
          "height": 442
        },
        "outputId": "ca94e8a8-9654-494e-e5d1-45af7d171432"
      },
      "source": [
        "pip install jmetalpy"
      ],
      "execution_count": 20,
      "outputs": [
        {
          "output_type": "stream",
          "text": [
            "Collecting jmetalpy\n",
            "\u001b[?25l  Downloading https://files.pythonhosted.org/packages/5e/92/731b647afa389619c0e6ae340f196e14d75f7307b3e867e7db7f91c85d18/jmetalpy-1.5.5.tar.gz (110kB)\n",
            "\r\u001b[K     |███                             | 10kB 14.2MB/s eta 0:00:01\r\u001b[K     |██████                          | 20kB 1.5MB/s eta 0:00:01\r\u001b[K     |█████████                       | 30kB 2.0MB/s eta 0:00:01\r\u001b[K     |████████████                    | 40kB 1.6MB/s eta 0:00:01\r\u001b[K     |██████████████▉                 | 51kB 1.9MB/s eta 0:00:01\r\u001b[K     |█████████████████▉              | 61kB 2.1MB/s eta 0:00:01\r\u001b[K     |████████████████████▉           | 71kB 2.3MB/s eta 0:00:01\r\u001b[K     |███████████████████████▉        | 81kB 2.5MB/s eta 0:00:01\r\u001b[K     |██████████████████████████▉     | 92kB 2.7MB/s eta 0:00:01\r\u001b[K     |█████████████████████████████▊  | 102kB 2.6MB/s eta 0:00:01\r\u001b[K     |████████████████████████████████| 112kB 2.6MB/s \n",
            "\u001b[?25hRequirement already satisfied: tqdm in /usr/local/lib/python3.6/dist-packages (from jmetalpy) (4.41.1)\n",
            "Requirement already satisfied: numpy>=1.16.0 in /usr/local/lib/python3.6/dist-packages (from jmetalpy) (1.18.4)\n",
            "Requirement already satisfied: pandas>=0.24.2 in /usr/local/lib/python3.6/dist-packages (from jmetalpy) (1.0.3)\n",
            "Requirement already satisfied: plotly>=3.3.0 in /usr/local/lib/python3.6/dist-packages (from jmetalpy) (4.4.1)\n",
            "Requirement already satisfied: matplotlib>=3.0.2 in /usr/local/lib/python3.6/dist-packages (from jmetalpy) (3.2.1)\n",
            "Requirement already satisfied: scipy>=1.3.0 in /usr/local/lib/python3.6/dist-packages (from jmetalpy) (1.4.1)\n",
            "Requirement already satisfied: statsmodels>=0.9.0 in /usr/local/lib/python3.6/dist-packages (from jmetalpy) (0.10.2)\n",
            "Requirement already satisfied: python-dateutil>=2.6.1 in /usr/local/lib/python3.6/dist-packages (from pandas>=0.24.2->jmetalpy) (2.8.1)\n",
            "Requirement already satisfied: pytz>=2017.2 in /usr/local/lib/python3.6/dist-packages (from pandas>=0.24.2->jmetalpy) (2018.9)\n",
            "Requirement already satisfied: retrying>=1.3.3 in /usr/local/lib/python3.6/dist-packages (from plotly>=3.3.0->jmetalpy) (1.3.3)\n",
            "Requirement already satisfied: six in /usr/local/lib/python3.6/dist-packages (from plotly>=3.3.0->jmetalpy) (1.12.0)\n",
            "Requirement already satisfied: cycler>=0.10 in /usr/local/lib/python3.6/dist-packages (from matplotlib>=3.0.2->jmetalpy) (0.10.0)\n",
            "Requirement already satisfied: pyparsing!=2.0.4,!=2.1.2,!=2.1.6,>=2.0.1 in /usr/local/lib/python3.6/dist-packages (from matplotlib>=3.0.2->jmetalpy) (2.4.7)\n",
            "Requirement already satisfied: kiwisolver>=1.0.1 in /usr/local/lib/python3.6/dist-packages (from matplotlib>=3.0.2->jmetalpy) (1.2.0)\n",
            "Requirement already satisfied: patsy>=0.4.0 in /usr/local/lib/python3.6/dist-packages (from statsmodels>=0.9.0->jmetalpy) (0.5.1)\n",
            "Building wheels for collected packages: jmetalpy\n",
            "  Building wheel for jmetalpy (setup.py) ... \u001b[?25l\u001b[?25hdone\n",
            "  Created wheel for jmetalpy: filename=jmetalpy-1.5.5-cp36-none-any.whl size=196211 sha256=5db4dbec5ab848250b280e5e5e585667d9f3d3f6180f9e30eca2940c951a2606\n",
            "  Stored in directory: /root/.cache/pip/wheels/d0/ae/f5/6493b2f72d1311cf8f97e283039fb225f4743879bd04345a9e\n",
            "Successfully built jmetalpy\n",
            "Installing collected packages: jmetalpy\n",
            "Successfully installed jmetalpy-1.5.5\n"
          ],
          "name": "stdout"
        }
      ]
    },
    {
      "cell_type": "markdown",
      "metadata": {
        "id": "K3MWG_Ymix_S",
        "colab_type": "text"
      },
      "source": [
        "**Linux command to get the content of the current directory**\n"
      ]
    },
    {
      "cell_type": "code",
      "metadata": {
        "id": "j8ET5WOV7snA",
        "colab_type": "code",
        "colab": {
          "base_uri": "https://localhost:8080/",
          "height": 68
        },
        "outputId": "35d8f768-10a9-459f-b248-f9b21a34c4fb"
      },
      "source": [
        "%ls"
      ],
      "execution_count": 17,
      "outputs": [
        {
          "output_type": "stream",
          "text": [
            "inspyred_pygmo_jmetalpy_comparison.ipynb  Rastrigin_50_GA.ipynb\n",
            "Rastrigin_500_GA.ipynb                    Rastrigin-50_GA.ipynb\n",
            "Rastrigin-500_GA.ipynb                    Speed_test.ipynb\n"
          ],
          "name": "stdout"
        }
      ]
    },
    {
      "cell_type": "markdown",
      "metadata": {
        "id": "CWoMcx_zjB1K",
        "colab_type": "text"
      },
      "source": [
        "**Path to the initial folder (if you don't move)**"
      ]
    },
    {
      "cell_type": "code",
      "metadata": {
        "id": "MDeZn6kEZARY",
        "colab_type": "code",
        "outputId": "db2fef9c-8275-40ce-9ecf-e702663c5099",
        "colab": {
          "base_uri": "https://localhost:8080/",
          "height": 34
        }
      },
      "source": [
        "cd /content"
      ],
      "execution_count": 5,
      "outputs": [
        {
          "output_type": "stream",
          "text": [
            "/content\n"
          ],
          "name": "stdout"
        }
      ]
    },
    {
      "cell_type": "markdown",
      "metadata": {
        "id": "rz824RKmjNk1",
        "colab_type": "text"
      },
      "source": [
        "**Command to remove the cloned GitHub (you need to be in the folder where you clone it)**"
      ]
    },
    {
      "cell_type": "code",
      "metadata": {
        "id": "4NGKYU37Zwwk",
        "colab_type": "code",
        "colab": {}
      },
      "source": [
        "rm -r Metaheuristic"
      ],
      "execution_count": 0,
      "outputs": []
    }
  ]
}