{
 "cells": [
  {
   "cell_type": "markdown",
   "metadata": {},
   "source": [
    "# Rastrigin_GA_Inspyred_benchmark\n",
    "\n",
    "Use of the Genetic Algorithm implemented in Inspyred to solve the Rastrigin problem implemented in Inspyred\n",
    "\n",
    "WARNING! => The result is not the expected one, the problem might be poorly define in Inspyred"
   ]
  },
  {
   "cell_type": "code",
   "execution_count": 1,
   "metadata": {},
   "outputs": [],
   "source": [
    "def plot_best_fitness(population, num_generations, num_evaluations, args):    \n",
    "    \"\"\"   \n",
    "    .. Arguments:\n",
    "       population -- the population of Individuals\n",
    "       num_generations -- the number of elapsed generations\n",
    "       num_evaluations -- the number of candidate solution evaluations\n",
    "       args -- a dictionary of keyword arguments\n",
    "    \n",
    "    \"\"\"\n",
    "    import matplotlib.pyplot as plt\n",
    "    import numpy\n",
    "    \n",
    "    stats = inspyred.ec.analysis.fitness_statistics(population)\n",
    "    best_fitness = stats['best']\n",
    "    \n",
    "    data = []\n",
    "    if num_generations == 0:\n",
    "        plt.ion()\n",
    "        data = [[num_evaluations], [best_fitness]]\n",
    "        lines = []\n",
    "        for i in range(1):\n",
    "            line, = plt.plot(data[0], data[i+1], color='green', label='best')\n",
    "            lines.append(line)\n",
    "        # Add the legend when the first data is added.\n",
    "        plt.legend(loc='upper right')\n",
    "        args['plot_data'] = data\n",
    "        args['plot_lines'] = lines\n",
    "        plt.xlabel('Evaluations')\n",
    "        plt.ylabel('Fitness')\n",
    "    else:\n",
    "        data = args['plot_data']\n",
    "        data[0].append(num_evaluations)\n",
    "        data[1].append(best_fitness)\n",
    "        lines = args['plot_lines']\n",
    "        for i, line in enumerate(lines):\n",
    "            line.set_xdata(numpy.array(data[0]))\n",
    "            line.set_ydata(numpy.array(data[i+1]))\n",
    "        args['plot_data'] = data\n",
    "        args['plot_lines'] = lines\n",
    "    ymin = min([min(d) for d in data[1:]])\n",
    "    ymax = max([max(d) for d in data[1:]])\n",
    "    yrange = ymax - ymin\n",
    "    plt.xlim((0, num_evaluations))\n",
    "    plt.ylim((ymin - 0.1*yrange, ymax + 0.1*yrange))\n",
    "    plt.draw()"
   ]
  },
  {
   "cell_type": "code",
   "execution_count": 2,
   "metadata": {},
   "outputs": [
    {
     "name": "stderr",
     "output_type": "stream",
     "text": [
      "c:\\programdata\\miniconda3\\lib\\site-packages\\ipykernel_launcher.py:44: UserWarning: Attempting to set identical bottom == top == 724.3425213727354 results in singular transformations; automatically expanding.\n"
     ]
    },
    {
     "name": "stdout",
     "output_type": "stream",
     "text": [
      "[-1.8604101796974546, -0.9039186020688046, 1.0315584590955886, -1.8834700358388363, -0.047944461738092414, 0.18493898745595505, 0.9289222719522714, 1.1518858688714833, 0.8821329480851601, 0.35312314760299035, 0.14420704528528638, 1.9422550291009575, -1.1576866997880155, 0.8225511350528123, 0.9151301041053106, 3.9273506232665794, -0.9101105346329179, -5.046391784142286, -0.12696386504110446, -0.8527002597203577, 2.890801019071577, -1.0802273622944316, 1.092551266122702, -0.03135519317304425, -0.07735831394668047, 1.1399898342381665, -1.0529522863813137, -1.962183897287491, 0.07119302690714235, -1.0559455830001028, 0.9959235847961541, 0.894506200826072, 0.8522545127388366, 0.7937402361348909, -0.6106705852720857, -4.244318166911131, -2.0207826803068722, -2.9558538744279397, 1.6678773362580879, 0.16931070046110452, 0.05711714373450505, 1.9080209535844643, 1.1395342022434587, -1.258368914963222, -0.8323344935535815, 0.9178937032522292, -0.9724771080766672, -1.8198772508775232, 0.7931697798461634, 0.11018425325185] : 305.90989119494054\n"
     ]
    },
    {
     "data": {
      "image/png": "[encoded data removed]",
      "text/plain": [
       "<Figure size 432x288 with 1 Axes>"
      ]
     },
     "metadata": {
      "needs_background": "light"
     },
     "output_type": "display_data"
    }
   ],
   "source": [
    "import random\n",
    "import time\n",
    "import inspyred\n",
    "\n",
    "\n",
    "rand = random.Random()\n",
    "rand.seed(int(time.time()))\n",
    "\n",
    "problem = inspyred.benchmarks.Rastrigin(50)\n",
    "\n",
    "ga = inspyred.ec.GA(rand)\n",
    "ga.observer = plot_best_fitness\n",
    "ga.terminator = inspyred.ec.terminators.evaluation_termination\n",
    "final_pop = ga.evolve(evaluator=problem.evaluator,\n",
    "                      generator=problem.generator,\n",
    "                      \n",
    "                      crossover_rate = 0.9,\n",
    "                      mutation_rate = 0.02,\n",
    "                      \n",
    "                      max_evaluations=25000,\n",
    "                      num_elites=1,\n",
    "                      pop_size=100,\n",
    "                      num_bits=10,\n",
    "                      maximize= False)\n",
    "\n",
    "final_pop.sort(reverse=True)\n",
    "print(final_pop[0])"
   ]
  },
  {
   "cell_type": "code",
   "execution_count": 3,
   "metadata": {
    "scrolled": true
   },
   "outputs": [
    {
     "name": "stdout",
     "output_type": "stream",
     "text": [
      "['__call__', '__class__', '__delattr__', '__dict__', '__dir__', '__doc__', '__eq__', '__format__', '__ge__', '__getattribute__', '__gt__', '__hash__', '__init__', '__init_subclass__', '__le__', '__lt__', '__module__', '__ne__', '__new__', '__reduce__', '__reduce_ex__', '__repr__', '__setattr__', '__sizeof__', '__str__', '__subclasshook__', '__weakref__', 'bounder', 'dimensions', 'evaluator', 'generator', 'global_optimum', 'maximize', 'objectives']\n",
      "\n",
      "\n",
      "Dimension of the problem: 50\n",
      "Bounds of the problem: <inspyred.ec.ec.Bounder object at 0x000001B09DB0D748>\n",
      "Evaluator: <bound method Rastrigin.evaluator of Rastrigin>\n",
      "Generator: <bound method Rastrigin.generator of Rastrigin>\n",
      "Global optimum: [0, 0, 0, 0, 0, 0, 0, 0, 0, 0, 0, 0, 0, 0, 0, 0, 0, 0, 0, 0, 0, 0, 0, 0, 0, 0, 0, 0, 0, 0, 0, 0, 0, 0, 0, 0, 0, 0, 0, 0, 0, 0, 0, 0, 0, 0, 0, 0, 0, 0]\n",
      "Maximize: False\n",
      "Objectives: 1\n"
     ]
    }
   ],
   "source": [
    "print(dir(problem))\n",
    "print('\\n')\n",
    "print('Dimension of the problem: {}'.format(problem.dimensions))\n",
    "print('Bounds of the problem: {}'.format(problem.bounder))\n",
    "print('Evaluator: {}'.format(problem.evaluator))\n",
    "print('Generator: {}'.format(problem.generator))\n",
    "print('Global optimum: {}'.format(problem.global_optimum))\n",
    "print('Maximize: {}'.format(problem.maximize))\n",
    "print('Objectives: {}'.format(problem.objectives))"
   ]
  }
 ],
 "metadata": {
  "kernelspec": {
   "display_name": "Python 3",
   "language": "python",
   "name": "python3"
  },
  "language_info": {
   "codemirror_mode": {
    "name": "ipython",
    "version": 3
   },
   "file_extension": ".py",
   "mimetype": "text/x-python",
   "name": "python",
   "nbconvert_exporter": "python",
   "pygments_lexer": "ipython3",
   "version": "3.7.4"
  }
 },
 "nbformat": 4,
 "nbformat_minor": 4
}
