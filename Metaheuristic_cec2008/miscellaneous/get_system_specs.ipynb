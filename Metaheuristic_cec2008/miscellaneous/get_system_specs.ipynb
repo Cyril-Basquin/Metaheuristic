{
  "nbformat": 4,
  "nbformat_minor": 0,
  "metadata": {
    "colab": {
      "name": "system_specs.ipynb",
      "provenance": [],
      "collapsed_sections": []
    },
    "kernelspec": {
      "name": "python3",
      "display_name": "Python 3"
    }
  },
  "cells": [
    {
      "cell_type": "code",
      "metadata": {
        "id": "XDhisaPqtk9U",
        "colab_type": "code",
        "colab": {}
      },
      "source": [
        "from psutil import *"
      ],
      "execution_count": 0,
      "outputs": []
    },
    {
      "cell_type": "code",
      "metadata": {
        "id": "LjT0HqiKtpJg",
        "colab_type": "code",
        "colab": {}
      },
      "source": [
        "system = !cat /etc/*release \n",
        "string = system[3]\n",
        "system = string.split('\"',2)[1]\n",
        "\n",
        "specs = !cat /proc/cpuinfo\n",
        "string = specs[4]\n",
        "CPU = string.split(\": \",1)[1]\n",
        "\n",
        "CPU_count = cpu_count()\n",
        "\n",
        "memory = virtual_memory()\n",
        "\n",
        "storage = !df -h"
      ],
      "execution_count": 0,
      "outputs": []
    },
    {
      "cell_type": "code",
      "metadata": {
        "id": "YMn_uSaFuo3l",
        "colab_type": "code",
        "outputId": "5da4eac2-f867-4dfe-86cf-c7e2c9a0e560",
        "colab": {
          "base_uri": "https://localhost:8080/",
          "height": 102
        }
      },
      "source": [
        "print('Operating System : {}\\n'.format(system))\n",
        "print('CPU              : {}, {} core(s)\\n'.format(CPU, CPU_count))\n",
        "print('Memory           : {:.1f}Gb'.format(memory.total/1000000000))\n"
      ],
      "execution_count": 54,
      "outputs": [
        {
          "output_type": "stream",
          "text": [
            "Operating System : Ubuntu 18.04.3 LTS\n",
            "\n",
            "CPU              : Intel(R) Xeon(R) CPU @ 2.00GHz, 2 core(s)\n",
            "\n",
            "Memory           : 13.7Gb\n"
          ],
          "name": "stdout"
        }
      ]
    }
  ]
}