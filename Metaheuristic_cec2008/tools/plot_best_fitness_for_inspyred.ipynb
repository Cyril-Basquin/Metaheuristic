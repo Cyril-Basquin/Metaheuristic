{
 "cells": [
  {
   "cell_type": "code",
   "execution_count": 1,
   "metadata": {},
   "outputs": [],
   "source": [
    "def plot_best_fitness_for_inspyred(population, num_generations, num_evaluations, args):\n",
    "    import inspyred\n",
    "    \n",
    "    \"\"\"   \n",
    "    .. Arguments:\n",
    "       population -- the population of Individuals\n",
    "       num_generations -- the number of elapsed generations\n",
    "       num_evaluations -- the number of candidate solution evaluations\n",
    "       args -- a dictionary of keyword arguments\n",
    "    \n",
    "    \"\"\"\n",
    "    import matplotlib.pyplot as plt\n",
    "    import numpy\n",
    "    \n",
    "    stats = inspyred.ec.analysis.fitness_statistics(population)\n",
    "    best_fitness = stats['best']\n",
    "    \n",
    "    data = []\n",
    "    if num_generations == 0:\n",
    "        plt.ion()\n",
    "        data = [[num_evaluations], [best_fitness]]\n",
    "        lines = []\n",
    "        for i in range(1):\n",
    "            line, = plt.plot(data[0], data[i+1], color='green', label='best')\n",
    "            lines.append(line)\n",
    "        # Add the legend when the first data is added.\n",
    "        plt.legend(loc='upper right')\n",
    "        args['plot_data'] = data\n",
    "        args['plot_lines'] = lines\n",
    "        plt.xlabel('Evaluations')\n",
    "        plt.ylabel('Fitness')\n",
    "    else:\n",
    "        data = args['plot_data']\n",
    "        data[0].append(num_evaluations)\n",
    "        data[1].append(best_fitness)\n",
    "        lines = args['plot_lines']\n",
    "        for i, line in enumerate(lines):\n",
    "            line.set_xdata(numpy.array(data[0]))\n",
    "            line.set_ydata(numpy.array(data[i+1]))\n",
    "        args['plot_data'] = data\n",
    "        args['plot_lines'] = lines\n",
    "    ymin = min([min(d) for d in data[1:]])\n",
    "    ymax = max([max(d) for d in data[1:]])\n",
    "    yrange = ymax - ymin\n",
    "    plt.xlim((0, num_evaluations))\n",
    "    plt.ylim((ymin - 0.1*yrange, ymax + 0.1*yrange))\n",
    "    plt.draw()"
   ]
  }
 ],
 "metadata": {
  "kernelspec": {
   "display_name": "Python 3",
   "language": "python",
   "name": "python3"
  },
  "language_info": {
   "codemirror_mode": {
    "name": "ipython",
    "version": 3
   },
   "file_extension": ".py",
   "mimetype": "text/x-python",
   "name": "python",
   "nbconvert_exporter": "python",
   "pygments_lexer": "ipython3",
   "version": "3.7.4"
  }
 },
 "nbformat": 4,
 "nbformat_minor": 4
}
