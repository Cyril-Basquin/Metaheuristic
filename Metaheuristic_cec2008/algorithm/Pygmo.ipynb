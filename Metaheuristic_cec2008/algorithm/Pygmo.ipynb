{
 "cells": [
  {
   "cell_type": "markdown",
   "metadata": {},
   "source": [
    "# Pygmo 2.16 website\n",
    "\n",
    "https://esa.github.io/pygmo2/install.html"
   ]
  },
  {
   "cell_type": "markdown",
   "metadata": {},
   "source": [
    "# Requirement"
   ]
  },
  {
   "cell_type": "markdown",
   "metadata": {},
   "source": [
    "In the requirement to make pygmo work, the installation cloupickle and pybind11 is supposed to be required, but on google colab, pybind11 (nor pybind, i don't know if there is a difference) is not installed and it workd (cloudpickle is installed)\n",
    "\n",
    "pip install pygmo  \n",
    "pip install cloudpickle  \n",
    "pip install pybind11  "
   ]
  },
  {
   "cell_type": "markdown",
   "metadata": {},
   "source": [
    "# Test pygmo installation"
   ]
  },
  {
   "cell_type": "markdown",
   "metadata": {},
   "source": [
    "#### If you want to test the pygmo installation, run this cell\n",
    "import pygmo  \n",
    "pygmo.test.run_test_suite()"
   ]
  },
  {
   "cell_type": "raw",
   "metadata": {},
   "source": [
    "## Principle of pygmo:\n",
    "\n",
    "import pygmo as pg\n",
    "# Initialization of the problem (and its dimension)\n",
    "prob = pg.problem(pg.rastrigin(dim = 50)) \n",
    "\n",
    "# Initialization of a population for the problem\n",
    "pop = pg.population(prob, size = 100)\n",
    "\n",
    "# Initialization of a algorithm to solve the problem\n",
    "algo = pg.algorithm(pg.cmaes(gen = 1000, sigma0=0.3))\n",
    "\n",
    "# Optimization of the pop\n",
    "pop = algo.evolve(pop)\n",
    "\n",
    "# Getting the best individual in the population\n",
    "best_fitness = pop.get_f()[pop.best_idx()]\n",
    "print(best_fitness) "
   ]
  },
  {
   "cell_type": "code",
   "execution_count": null,
   "metadata": {},
   "outputs": [],
   "source": [
    "from time import time\n",
    "import pygmo as pg\n",
    "\n",
    "prob = pg.problem(pg.rosenbrock(dim = 5)) \n",
    "pop = pg.population(prob, size = 10)\n",
    "\n",
    "algo = pg.algorithm(pg.sga(gen=100, \n",
    "                           crossover='binomial',\n",
    "                           cr=0.9, \n",
    "                           eta_c=2, \n",
    "                           mutation='gaussian',\n",
    "                           m=0.02, \n",
    "                           param_m=1, \n",
    "                           selection='truncated',\n",
    "                           param_s=1, \n",
    "                           ))\n",
    "algo.set_verbosity(50)\n",
    "                    \n",
    "pop = algo.evolve(pop)\n",
    "\n",
    "# Getting the best individual in the population\n",
    "best_fitness = pop.get_f()[pop.best_idx()]\n",
    "print(best_fitness) "
   ]
  },
  {
   "cell_type": "code",
   "execution_count": null,
   "metadata": {},
   "outputs": [],
   "source": [
    "from time import time\n",
    "import pygmo as pg\n",
    "\n",
    "prob = pg.problem(pg.rastrigin(dim = 50)) \n",
    "pop = pg.population(prob, size = 500)\n",
    "\n",
    "#algo = pg.algorithm(pg.cmaes(gen = 10000, sigma0=0.3))\n",
    "#algo = pg.algorithm(pg.gwo(gen=1000))\n",
    "#algo = pg.algorithm(pg.de(gen = 500))\n",
    "#algo = pg.algorithm(pg.sga(gen= 500))\n",
    "algo = pg.algorithm(pg.gaco(gen= 500))\n",
    "\n",
    "algo.set_verbosity(50)\n",
    "    \n",
    "t1 = time()\n",
    "pop = algo.evolve(pop)\n",
    "t2 = time()\n",
    "\n",
    "print(\"Computational Time: {}\".format(t2-t1))\n",
    "\n",
    "# Getting the best individual in the population\n",
    "best_fitness = pop.get_f()[pop.best_idx()]\n",
    "print(best_fitness) \n"
   ]
  }
 ],
 "metadata": {
  "kernelspec": {
   "display_name": "Python 3",
   "language": "python",
   "name": "python3"
  },
  "language_info": {
   "codemirror_mode": {
    "name": "ipython",
    "version": 3
   },
   "file_extension": ".py",
   "mimetype": "text/x-python",
   "name": "python",
   "nbconvert_exporter": "python",
   "pygments_lexer": "ipython3",
   "version": "3.7.4"
  }
 },
 "nbformat": 4,
 "nbformat_minor": 4
}
