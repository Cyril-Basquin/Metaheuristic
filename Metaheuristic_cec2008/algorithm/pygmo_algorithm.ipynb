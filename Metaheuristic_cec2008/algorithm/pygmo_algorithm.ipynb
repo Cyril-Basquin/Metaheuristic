{
 "cells": [
  {
   "cell_type": "code",
   "execution_count": 6,
   "metadata": {
    "scrolled": false
   },
   "outputs": [
    {
     "data": {
      "text/plain": [
       "'2.13.0'"
      ]
     },
     "execution_count": 6,
     "metadata": {},
     "output_type": "execute_result"
    }
   ],
   "source": [
    "import pygmo as pg\n",
    "pygmo.__version__"
   ]
  },
  {
   "cell_type": "markdown",
   "metadata": {},
   "source": [
    "### For all algorithm:\n",
    "\n",
    "A parameter seed can be add (seed = )\n",
    "\n",
    "#### Often use parameters:\n",
    "xtol : Number of function maximum.  \n",
    "ftol : Stop if this fitness is reach.\n",
    "F : \n",
    "CR"
   ]
  },
  {
   "cell_type": "markdown",
   "metadata": {},
   "source": [
    "\n",
    "## Extended Ant Colony:\n",
    "### NOT CLEAN\n",
    " https://esa.github.io/pagmo2/docs/cpp/algorithms/gaco.html#_CPPv4N5pagmo4gacoE\n",
    " "
   ]
  },
  {
   "cell_type": "code",
   "execution_count": null,
   "metadata": {},
   "outputs": [],
   "source": [
    "#### Too many parameters:\n",
    "generation = 1000\n",
    "   gaco(gen = generation\n",
    "         , ker = 63 # Number of solutio stored in the solution archive\n",
    "         , q = 1.0 # Convergence speed parameter: this parameter is useful for managing the convergence speed towards the found minima (the smaller the faster). \n",
    "         , oracle = 0. # This is the oracle parameter used in the penalty method. \n",
    "         , acc = 0.01 # Accuracy parameter: for maintaining a minimum penalty function’s values distances. \n",
    "         , threshold = 1 # when the generations reach the threshold then q is set to 0.01 automatically. \n",
    "         , n_gen_mark = 7 # Standard deviations convergence speed parameter: this parameters determines the convergence speed of the standard deviations values. \n",
    "         , impstop = 100000\n",
    "         , evalstop = 100000u\n",
    "         , focus = 0.\n",
    "         , memory = False)"
   ]
  },
  {
   "cell_type": "markdown",
   "metadata": {},
   "source": [
    "## Artificial Bee Colony (BEE)\n",
    "\n",
    "https://esa.github.io/pagmo2/docs/cpp/algorithms/bee_colony.html\n",
    "\n",
    "**limit:** maximum number of trial for abandonning resource"
   ]
  },
  {
   "cell_type": "code",
   "execution_count": null,
   "metadata": {},
   "outputs": [],
   "source": [
    "algo = pg.algorithm(pg.bee_colony(gen= nb_generation, \n",
    "                                  limit= 1\n",
    "                                 ))"
   ]
  },
  {
   "cell_type": "markdown",
   "metadata": {},
   "source": [
    "## Grey Wolf Optimizer (GWO)\n",
    "https://esa.github.io/pagmo2/docs/cpp/algorithms/gwo.html"
   ]
  },
  {
   "cell_type": "code",
   "execution_count": 8,
   "metadata": {},
   "outputs": [
    {
     "ename": "AttributeError",
     "evalue": "module 'pygmo' has no attribute 'algorithme'",
     "output_type": "error",
     "traceback": [
      "\u001b[1;31m---------------------------------------------------------------------------\u001b[0m",
      "\u001b[1;31mAttributeError\u001b[0m                            Traceback (most recent call last)",
      "\u001b[1;32m<ipython-input-8-8bc6df9cda80>\u001b[0m in \u001b[0;36m<module>\u001b[1;34m\u001b[0m\n\u001b[1;32m----> 1\u001b[1;33m \u001b[0malgo\u001b[0m \u001b[1;33m=\u001b[0m \u001b[0mpg\u001b[0m\u001b[1;33m.\u001b[0m\u001b[0malgorithme\u001b[0m\u001b[1;33m(\u001b[0m\u001b[0mpg\u001b[0m\u001b[1;33m.\u001b[0m\u001b[0mgwo\u001b[0m\u001b[1;33m(\u001b[0m\u001b[0mgen\u001b[0m \u001b[1;33m=\u001b[0m \u001b[0mnb_generation\u001b[0m\u001b[1;33m)\u001b[0m\u001b[1;33m)\u001b[0m\u001b[1;33m\u001b[0m\u001b[1;33m\u001b[0m\u001b[0m\n\u001b[0m",
      "\u001b[1;31mAttributeError\u001b[0m: module 'pygmo' has no attribute 'algorithme'"
     ]
    }
   ],
   "source": [
    "algo = pg.algorithme(pg.gwo(gen = nb_generation))"
   ]
  },
  {
   "cell_type": "markdown",
   "metadata": {},
   "source": []
  },
  {
   "cell_type": "code",
   "execution_count": null,
   "metadata": {},
   "outputs": [],
   "source": []
  },
  {
   "cell_type": "markdown",
   "metadata": {},
   "source": [
    "# ----------------------------------------------------------------\n",
    "# Diferential Evolution\n",
    "##  &ensp;&ensp; - Classic (DE)\n",
    "\n",
    "https://esa.github.io/pagmo2/docs/cpp/algorithms/de.html  \n",
    "\n",
    "\n",
    "|   |   | **Variant**    |   |   |\n",
    "|:--|:--|:---|:---|:---|\n",
    "| 1 - best/1/exp &nbsp;&nbsp;&nbsp;&nbsp;   | 2 - rand/1/exp &nbsp;&nbsp;&nbsp;&nbsp;   | 3 - rand-to-best/1/exp &nbsp;&nbsp;&nbsp;&nbsp;   | 4 - best/2/exp &nbsp;&nbsp;&nbsp;&nbsp;   | 5 - rand/2/exp &nbsp;&nbsp;&nbsp;&nbsp;   |\n",
    "| 6 - best/1/bin  | 7 - rand/1/bin  | 8 - rand-to-best/1/bin  | 9 - best/2/bin  | 10 - rand/2/bin    |\n"
   ]
  },
  {
   "cell_type": "code",
   "execution_count": null,
   "metadata": {},
   "outputs": [],
   "source": [
    "algo = pg.algorithm(pg.de(gen = nb_generation,\n",
    "                           F = 0.8,\n",
    "                           CR = 0.9,\n",
    "                           variant = 2,\n",
    "                           ftol = 1e-6,\n",
    "                           xtol = 1e-6\n",
    "                           ))"
   ]
  },
  {
   "cell_type": "markdown",
   "metadata": {},
   "source": [
    "##  &ensp;&ensp; - Self-adaptive Differential Evolution\n",
    "\n",
    "Allowed Variants have to be put as a list [2, 4, 6], to allow variants 2, 4 and 6\n",
    "\n",
    "|    | **Allowed Variants** |   | \n",
    "|:--|:--|:---|\n",
    "| 1 - best/1/exp    | 7 - rand/1/bin      |  13 - best/3/exp     | \n",
    "|  2 - rand/1/exp |   8 - rand-to-best/1/bin &nbsp;&nbsp;&nbsp;&nbsp;&nbsp;&nbsp;&nbsp;&nbsp; |  14 - best/3/bin |   \n",
    "| 3 - rand-to-best/1/exp  &nbsp;&nbsp;&nbsp;&nbsp;&nbsp;&nbsp;&nbsp;&nbsp;  |  9 - best/2/bin     |   15 - rand-to-current/2/exp     |\n",
    "| 4. - best/2/exp  |  10 - rand/2/bin |  16 - rand-to-current/2/bin   |\n",
    "|  5 - rand/2/exp     |11 - rand/3/exp    | 17 - rand-to-best-and-current/2/exp    |\n",
    "| 6 - best/1/bin  | 12 - rand/3/bin  |   18 - rand-to-best-and-current/2/bin  |\n",
    "\n",
    "\n",
    "Allowed Variants parameters serve to adapt CR and F parameters  \n",
    "\n",
    "|    | **Allowed Variants** |   | \n",
    "|:--|:--:|:---|\n",
    "|1 - jDE (Brest et al.)    | | 2 - iDE (Elsayed at al.)|\n",
    "\n",
    "\n",
    "###  &ensp;&ensp;&ensp;&ensp; *Self-adaptive Differential Evolution. jDE and iDE (SADE)\n",
    "https://esa.github.io/pagmo2/docs/cpp/algorithms/sade.html"
   ]
  },
  {
   "cell_type": "code",
   "execution_count": null,
   "metadata": {},
   "outputs": [],
   "source": [
    "algo = pg.algorithm(pg.sade(gen = nb_generation,\n",
    "                            variant = 2,\n",
    "                            variant_adptv = 1,\n",
    "                            ftol = 1e-6,\n",
    "                            xtol = 1e-6,\n",
    "                            memory = False\n",
    "                            ))"
   ]
  },
  {
   "cell_type": "markdown",
   "metadata": {},
   "source": [
    "###  &ensp;&ensp;&ensp;&ensp; *Self Adaptive Differential  Evolution '1220'\n",
    "\n",
    "https://esa.github.io/pagmo2/docs/cpp/algorithms/de1220.html"
   ]
  },
  {
   "cell_type": "code",
   "execution_count": 7,
   "metadata": {},
   "outputs": [
    {
     "ename": "NameError",
     "evalue": "name 'nb_generation' is not defined",
     "output_type": "error",
     "traceback": [
      "\u001b[1;31m---------------------------------------------------------------------------\u001b[0m",
      "\u001b[1;31mNameError\u001b[0m                                 Traceback (most recent call last)",
      "\u001b[1;32m<ipython-input-7-6f0a49e7e869>\u001b[0m in \u001b[0;36m<module>\u001b[1;34m\u001b[0m\n\u001b[1;32m----> 1\u001b[1;33m algo = pg.algorithm(pg.de(gen = nb_generation,\n\u001b[0m\u001b[0;32m      2\u001b[0m                            \u001b[0mallowed_variants\u001b[0m \u001b[1;33m=\u001b[0m \u001b[1;33m[\u001b[0m\u001b[1;36m1\u001b[0m\u001b[1;33m,\u001b[0m \u001b[1;36m2\u001b[0m\u001b[1;33m,\u001b[0m \u001b[1;36m3\u001b[0m\u001b[1;33m,\u001b[0m \u001b[1;36m4\u001b[0m\u001b[1;33m,\u001b[0m \u001b[1;36m5\u001b[0m\u001b[1;33m,\u001b[0m \u001b[1;36m6\u001b[0m\u001b[1;33m,\u001b[0m \u001b[1;36m7\u001b[0m\u001b[1;33m,\u001b[0m \u001b[1;36m8\u001b[0m\u001b[1;33m,\u001b[0m \u001b[1;36m9\u001b[0m\u001b[1;33m,\u001b[0m \u001b[1;36m10\u001b[0m\u001b[1;33m,\u001b[0m \u001b[1;36m11\u001b[0m\u001b[1;33m,\u001b[0m \u001b[1;36m12\u001b[0m\u001b[1;33m,\u001b[0m \u001b[1;36m13\u001b[0m\u001b[1;33m,\u001b[0m \u001b[1;36m14\u001b[0m\u001b[1;33m,\u001b[0m \u001b[1;36m15\u001b[0m\u001b[1;33m,\u001b[0m \u001b[1;36m16\u001b[0m\u001b[1;33m,\u001b[0m \u001b[1;36m17\u001b[0m\u001b[1;33m,\u001b[0m \u001b[1;36m18\u001b[0m\u001b[1;33m]\u001b[0m\u001b[1;33m,\u001b[0m\u001b[1;33m\u001b[0m\u001b[1;33m\u001b[0m\u001b[0m\n\u001b[0;32m      3\u001b[0m                            \u001b[0mvariant_adapt\u001b[0m \u001b[1;33m=\u001b[0m \u001b[1;36m1\u001b[0m\u001b[1;33m,\u001b[0m\u001b[1;33m\u001b[0m\u001b[1;33m\u001b[0m\u001b[0m\n\u001b[0;32m      4\u001b[0m                            \u001b[0mftol\u001b[0m \u001b[1;33m=\u001b[0m \u001b[1;36m1e-6\u001b[0m\u001b[1;33m,\u001b[0m\u001b[1;33m\u001b[0m\u001b[1;33m\u001b[0m\u001b[0m\n\u001b[0;32m      5\u001b[0m                            \u001b[0mxtol\u001b[0m \u001b[1;33m=\u001b[0m \u001b[1;36m1e-6\u001b[0m\u001b[1;33m,\u001b[0m\u001b[1;33m\u001b[0m\u001b[1;33m\u001b[0m\u001b[0m\n",
      "\u001b[1;31mNameError\u001b[0m: name 'nb_generation' is not defined"
     ]
    }
   ],
   "source": [
    "algo = pg.algorithm(pg.de1220(gen = nb_generation,\n",
    "                              allowed_variants = [1, 2, 3, 4, 5, 6, 7, 8, 9, 10, 11, 12, 13, 14, 15, 16, 17, 18],\n",
    "                              variant_adapt = 1,\n",
    "                              ftol = 1e-6,\n",
    "                              xtol = 1e-6,\n",
    "                              memory = False\n",
    "                              ))"
   ]
  },
  {
   "cell_type": "markdown",
   "metadata": {},
   "source": [
    "\n",
    "# --------------------------------------------------------------------\n",
    "# Simple Genetic Algorithm\n",
    "https://esa.github.io/pagmo2/docs/cpp/algorithms/sga.html"
   ]
  },
  {
   "cell_type": "code",
   "execution_count": null,
   "metadata": {},
   "outputs": [],
   "source": [
    "algo = pg.algorithm(pg.sga(gen= nb_generation, \n",
    "                           crossover='binomial', # “exponential”, “binomial”, “single” or “sbx” \n",
    "                           cr=0.9, \n",
    "                           eta_c=2, # Active for \"sbx\"\n",
    "                           mutation='gaussian',   # “gaussian”, “polynomial” or “uniform”. \n",
    "                           m=0.02, \n",
    "                           param_m=1, # Active for \"polynomial\" and gaussian\"\n",
    "                           selection='truncated', # “tournament”, “truncated”. \n",
    "                           param_s=1, # For \"truncated\": nb of best candidate, # For tournament: size of the tournament\n",
    "                           ))"
   ]
  },
  {
   "cell_type": "markdown",
   "metadata": {},
   "source": [
    "# ------------------------------------------------------------------------------\n",
    "# PARTICLE SWARM OPTIMIZATION  \n",
    "\n",
    "##  &ensp;&ensp; - Particle Swarm Optimization (PSO)\n",
    "\n",
    "https://esa.github.io/pagmo2/docs/cpp/algorithms/pso.html"
   ]
  },
  {
   "cell_type": "code",
   "execution_count": null,
   "metadata": {},
   "outputs": [],
   "source": [
    "algo = pg.algorithm(pg.pso(gen = nb_generation,\n",
    "                           omega = 0.7298,\n",
    "                           eta1 = 2.05,\n",
    "                           eta2 = 2.05,\n",
    "                           max_vel = 0.5,\n",
    "                           variant = 5,\n",
    "                           neighb_type = 2,\n",
    "                           neighb_param = 4,\n",
    "                           memory = False,\n",
    "                           ))"
   ]
  },
  {
   "cell_type": "markdown",
   "metadata": {},
   "source": [
    "##  &ensp;&ensp; - Particle Swarm Optimization Generational (GPSO)\n",
    "https://esa.github.io/pagmo2/docs/cpp/algorithms/pso_gen.html"
   ]
  },
  {
   "cell_type": "code",
   "execution_count": null,
   "metadata": {},
   "outputs": [],
   "source": [
    "algo = pg.algorithm(pg.pso_gen(gen = nb_generation,\n",
    "                               omega = 0.7298,\n",
    "                               eta1 = 2.05,\n",
    "                               eta2 = 2.05,\n",
    "                               max_vel = 0.5,\n",
    "                               variant = 5,\n",
    "                               neighb_type = 2,\n",
    "                               neighb_param = 4,\n",
    "                               memory = False\n",
    "                               ))"
   ]
  },
  {
   "cell_type": "markdown",
   "metadata": {},
   "source": [
    "## Covariance Matrix Adaptation Evolutionary Strategy (CMA-ES)\n",
    "\n",
    "https://esa.github.io/pagmo2/docs/cpp/algorithms/cmaes.html"
   ]
  },
  {
   "cell_type": "code",
   "execution_count": null,
   "metadata": {},
   "outputs": [],
   "source": [
    "algo = pg.algorithm(pg.cmaes(gen = nb_generation,\n",
    "                             cc = -1,\n",
    "                             cs = -1,\n",
    "                             c1 = -1,\n",
    "                             cmu = -1,\n",
    "                             sigma0 = 0.5,\n",
    "                             ftol = 1e-6,\n",
    "                             xtol = 1e-6,\n",
    "                             memory = False,\n",
    "                             force_bounds = false\n",
    "                             ))"
   ]
  }
 ],
 "metadata": {
  "kernelspec": {
   "display_name": "Python 3",
   "language": "python",
   "name": "python3"
  },
  "language_info": {
   "codemirror_mode": {
    "name": "ipython",
    "version": 3
   },
   "file_extension": ".py",
   "mimetype": "text/x-python",
   "name": "python",
   "nbconvert_exporter": "python",
   "pygments_lexer": "ipython3",
   "version": "3.7.4"
  }
 },
 "nbformat": 4,
 "nbformat_minor": 4
}
