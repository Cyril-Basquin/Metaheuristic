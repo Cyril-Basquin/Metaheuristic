{
 "cells": [
  {
   "cell_type": "code",
   "execution_count": 2,
   "metadata": {},
   "outputs": [
    {
     "ename": "TypeError",
     "evalue": "print_result() missing 1 required positional argument: 'best_current_f'",
     "output_type": "error",
     "traceback": [
      "\u001b[1;31m---------------------------------------------------------------------------\u001b[0m",
      "\u001b[1;31mTypeError\u001b[0m                                 Traceback (most recent call last)",
      "\u001b[1;32m<ipython-input-2-0ec2d3c0231b>\u001b[0m in \u001b[0;36m<module>\u001b[1;34m\u001b[0m\n\u001b[0;32m     16\u001b[0m     \u001b[0mplt\u001b[0m\u001b[1;33m.\u001b[0m\u001b[0mshow\u001b[0m\u001b[1;33m\u001b[0m\u001b[1;33m\u001b[0m\u001b[0m\n\u001b[0;32m     17\u001b[0m \u001b[1;33m\u001b[0m\u001b[0m\n\u001b[1;32m---> 18\u001b[1;33m \u001b[0mprint_result\u001b[0m\u001b[1;33m(\u001b[0m\u001b[0mdimension\u001b[0m\u001b[1;33m,\u001b[0m \u001b[0mbest_time\u001b[0m\u001b[1;33m)\u001b[0m\u001b[1;33m\u001b[0m\u001b[1;33m\u001b[0m\u001b[0m\n\u001b[0m",
      "\u001b[1;31mTypeError\u001b[0m: print_result() missing 1 required positional argument: 'best_current_f'"
     ]
    }
   ],
   "source": [
    "dimension = 50\n",
    "best_time = 45\n",
    "\n",
    "def print_result(dimension, best_time, best_current_f):\n",
    "    print(\"Function Name: {}.     Dimension: {}\".format(\"Shifted Rastrigin\", dimension))\n",
    "    print(\"Algorithm: {}\".format(\"SaDE, 1220 jDE\"))\n",
    "    print(\"Fitness: {}\".format(current_best_f.get_f()[current_best_f.best_idx()]))\n",
    "    print(\"Parameters: {}\".format(best_current_f.get_extra_info()))\n",
    "    print(\"Number of evaluated fct: {}\".format(current_best_f.problem.get_fevals()))\n",
    "    print(\"Running Time: {}\".format(best_time))\n",
    "    \n",
    "    plt.plot(current_best_f.get_log())\n",
    "    plt.xlabel(\"Number of evaluated functions\")\n",
    "    plt.ylabel(\"Fitness (log scale)\")\n",
    "    plt.yscale('log')\n",
    "    plt.show\n",
    "    \n",
    "print_result(dimension, best_time)"
   ]
  }
 ],
 "metadata": {
  "kernelspec": {
   "display_name": "Python 3",
   "language": "python",
   "name": "python3"
  },
  "language_info": {
   "codemirror_mode": {
    "name": "ipython",
    "version": 3
   },
   "file_extension": ".py",
   "mimetype": "text/x-python",
   "name": "python",
   "nbconvert_exporter": "python",
   "pygments_lexer": "ipython3",
   "version": "3.7.4"
  }
 },
 "nbformat": 4,
 "nbformat_minor": 4
}
