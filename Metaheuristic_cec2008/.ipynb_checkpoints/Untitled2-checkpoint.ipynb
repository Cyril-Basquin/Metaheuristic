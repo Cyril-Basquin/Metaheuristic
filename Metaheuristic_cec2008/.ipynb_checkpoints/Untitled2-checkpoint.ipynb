{
 "cells": [
  {
   "cell_type": "code",
   "execution_count": 1,
   "metadata": {},
   "outputs": [],
   "source": [
    "import math\n",
    "\n",
    "def objective_function(pop, target, bias):\n",
    "  fitness = []\n",
    "  for j in range(pop.shape[0]):\n",
    "    f = 0\n",
    "    z = pop[i]-target[i]\n",
    "    for i in range(pop.shape[1]):\n",
    "      f += f + z**2-10*math.cos(2*math.pi*z)\n",
    "    fitness.append(f + 10 * len(data) + bias)\n",
    "  return fitness"
   ]
  },
  {
   "cell_type": "code",
   "execution_count": 4,
   "metadata": {},
   "outputs": [],
   "source": [
    "import random\n",
    "import numpy as np\n",
    "\n",
    "def initialize_pop(pop_size, dimension, low_bound, up_bound):\n",
    "  pop = np.empty([pop_size, dimension])\n",
    "  for j in range(pop_size):\n",
    "    for i in range(dimension):\n",
    "      pop[j][i]= random.uniform(low_bound, up_bound)\n",
    "  return pop"
   ]
  },
  {
   "cell_type": "code",
   "execution_count": 7,
   "metadata": {},
   "outputs": [],
   "source": [
    "st_pop = initialize_pop(100, 50, -5, 5)\n",
    "target = initialize_pop(1, 50, -5, 5)\n",
    "\n",
    "objective_function = (st_pop, target, 200)"
   ]
  },
  {
   "cell_type": "code",
   "execution_count": 9,
   "metadata": {},
   "outputs": [
    {
     "ename": "NameError",
     "evalue": "name 'shape' is not defined",
     "output_type": "error",
     "traceback": [
      "\u001b[1;31m---------------------------------------------------------------------------\u001b[0m",
      "\u001b[1;31mNameError\u001b[0m                                 Traceback (most recent call last)",
      "\u001b[1;32m<ipython-input-9-ec41d27df61b>\u001b[0m in \u001b[0;36m<module>\u001b[1;34m\u001b[0m\n\u001b[1;32m----> 1\u001b[1;33m \u001b[0mshape\u001b[0m\u001b[1;33m.\u001b[0m\u001b[0mst_pop\u001b[0m\u001b[1;33m\u001b[0m\u001b[1;33m\u001b[0m\u001b[0m\n\u001b[0m",
      "\u001b[1;31mNameError\u001b[0m: name 'shape' is not defined"
     ]
    }
   ],
   "source": [
    "shape.st_pop"
   ]
  }
 ],
 "metadata": {
  "kernelspec": {
   "display_name": "Python 3",
   "language": "python",
   "name": "python3"
  },
  "language_info": {
   "codemirror_mode": {
    "name": "ipython",
    "version": 3
   },
   "file_extension": ".py",
   "mimetype": "text/x-python",
   "name": "python",
   "nbconvert_exporter": "python",
   "pygments_lexer": "ipython3",
   "version": "3.7.4"
  }
 },
 "nbformat": 4,
 "nbformat_minor": 4
}
