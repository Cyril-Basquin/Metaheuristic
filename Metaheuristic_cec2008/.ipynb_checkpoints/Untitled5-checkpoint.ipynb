{
 "cells": [
  {
   "cell_type": "markdown",
   "metadata": {},
   "source": [
    "#### F1 : Shifted Sphere Function"
   ]
  },
  {
   "cell_type": "code",
   "execution_count": 39,
   "metadata": {},
   "outputs": [],
   "source": [
    "def objective_function(pop, target, bias, function = 'Sphere'):\n",
    "    if function == 'Sphere':\n",
    "        z = pop-target\n",
    "        result = abs(np.sum(f, axis = 1) + bias)\n",
    "        \n",
    "    elif function == 'Schewfel':\n",
    "        z = abs(pop-target)\n",
    "        \n",
    "        \n",
    "    elif function == 'Rosenbrock':\n",
    "        z = pop-target\n",
    "        f = 100*(np.delete(z,-1)**2-np.delete(z,0))**2+(np.delete(z,-1))**2\n",
    "        result = abs(np.sum(f, axis = 1) + bias)\n",
    "           \n",
    "    elif function == 'Rastrigin':\n",
    "        z = pop-target\n",
    "        f = z**2-10*np.cos(2*np.pi*z) + 10\n",
    "        result =  abs(np.sum(f, axis = 1) + bias)\n",
    "        \n",
    "    elif function == 'Griewank':\n",
    "        z = pop-target\n",
    "        result, addition = 0\n",
    "        produit = 1\n",
    "\n",
    "        for i in range(z.shape[1]):\n",
    "            Addition += (z[i] ** 2)/4000 \n",
    "            Produit *= np.cos(z[i]/((i+1)**0.5)) \n",
    "        result = Addition - Produit + 1 + bias\n",
    "    \n",
    "    else:\n",
    "        print('Function Name not recognize')\n",
    "        \n",
    "        "
   ]
  },
  {
   "cell_type": "code",
   "execution_count": 38,
   "metadata": {},
   "outputs": [
    {
     "data": {
      "text/plain": [
       "array([      0., 3628800.])"
      ]
     },
     "execution_count": 38,
     "metadata": {},
     "output_type": "execute_result"
    }
   ],
   "source": [
    "import numpy as np\n",
    "\n",
    "z = np.arange(0,10,1)\n",
    "b = np.delete(z,-1)\n",
    "c = np.delete(z,0)\n",
    "#f = np.sum((z**2)/4000 , axis = 1) \n",
    "z = np.empty([2,10])\n",
    "z[0] = np.arange(0,10,1)\n",
    "z[1] = np.arange(0,10,1) +1\n",
    "z[0]\n",
    "np.prod(np.cos(z/(i**0.5), axis = 1)"
   ]
  },
  {
   "cell_type": "markdown",
   "metadata": {},
   "source": [
    "#### F2: Schewfel"
   ]
  },
  {
   "cell_type": "code",
   "execution_count": null,
   "metadata": {},
   "outputs": [],
   "source": [
    "def evaluate(self, solution: FloatSolution):\n",
    "    result = 0\n",
    "    x = solution.variables\n",
    "    for i in range(solution.number_of_variables - 1):\n",
    "        if i+1 > result:\n",
    "            result =  i + 1\n",
    "    result = result + shift\n",
    "    solution.objectives[0] = result\n",
    "    return solution"
   ]
  },
  {
   "cell_type": "markdown",
   "metadata": {},
   "source": [
    "#### F3 Shifted Rosenbrock's function"
   ]
  },
  {
   "cell_type": "code",
   "execution_count": null,
   "metadata": {},
   "outputs": [],
   "source": [
    "def evaluate(self, solution: FloatSolution) -> FloatSolution:\n",
    "    result = 0\n",
    "    x = solution.variables\n",
    "    for i in range(solution.number_of_variables - 1):\n",
    "        result += 100 * (x[i] ** 2 - x[i + 1]) ** 2 + (x[i] - 1) ** 2\n",
    "    result = result + shift\n",
    "    solution.objectives[0] = result\n",
    "    return solution"
   ]
  },
  {
   "cell_type": "markdown",
   "metadata": {},
   "source": [
    "#### F4: Rastrigin "
   ]
  },
  {
   "cell_type": "code",
   "execution_count": null,
   "metadata": {},
   "outputs": [],
   "source": [
    "def objective_function(pop, target, bias, *args):\n",
    "    z = pop-target\n",
    "    f = z**2-10*np.cos(2*np.pi*z) + 10\n",
    "    return abs(np.sum(f, axis = 1) + bias)"
   ]
  },
  {
   "cell_type": "markdown",
   "metadata": {},
   "source": [
    "#### F5 Shifted Griewank's Function"
   ]
  },
  {
   "cell_type": "code",
   "execution_count": null,
   "metadata": {},
   "outputs": [],
   "source": [
    "def evaluate(pop, target, bias)\n",
    "    result = 0\n",
    "    Produit = 1\n",
    "    x = solution.variables\n",
    "    for i in range(solution.number_of_variables - 1):\n",
    "        Addition += (x[i] ** 2)/4000 \n",
    "        Produit *= math.cos(x[i]/((i+1)**0.5)) \n",
    "    result = Addition - Produit + 1 + shift\n",
    "    solution.objectives[0] = result\n",
    "    return solution"
   ]
  },
  {
   "cell_type": "code",
   "execution_count": null,
   "metadata": {},
   "outputs": [],
   "source": [
    "# F6 : Shifted Ackley's Function"
   ]
  }
 ],
 "metadata": {
  "kernelspec": {
   "display_name": "Python 3",
   "language": "python",
   "name": "python3"
  },
  "language_info": {
   "codemirror_mode": {
    "name": "ipython",
    "version": 3
   },
   "file_extension": ".py",
   "mimetype": "text/x-python",
   "name": "python",
   "nbconvert_exporter": "python",
   "pygments_lexer": "ipython3",
   "version": "3.7.4"
  }
 },
 "nbformat": 4,
 "nbformat_minor": 4
}
