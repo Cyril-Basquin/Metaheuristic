{
 "cells": [
  {
   "cell_type": "code",
   "execution_count": 14,
   "metadata": {},
   "outputs": [
    {
     "ename": "NameError",
     "evalue": "name 'size' is not defined",
     "output_type": "error",
     "traceback": [
      "\u001b[1;31m---------------------------------------------------------------------------\u001b[0m",
      "\u001b[1;31mNameError\u001b[0m                                 Traceback (most recent call last)",
      "\u001b[1;32m<ipython-input-14-ccc31147d84c>\u001b[0m in \u001b[0;36m<module>\u001b[1;34m\u001b[0m\n\u001b[0;32m      1\u001b[0m \u001b[0mlist_\u001b[0m \u001b[1;33m=\u001b[0m \u001b[1;33m[\u001b[0m\u001b[1;36m5\u001b[0m\u001b[1;33m,\u001b[0m \u001b[1;36m4\u001b[0m\u001b[1;33m]\u001b[0m\u001b[1;33m\u001b[0m\u001b[1;33m\u001b[0m\u001b[0m\n\u001b[1;32m----> 2\u001b[1;33m \u001b[0msize\u001b[0m\u001b[1;33m(\u001b[0m\u001b[0mlist_\u001b[0m\u001b[1;33m)\u001b[0m\u001b[1;33m\u001b[0m\u001b[1;33m\u001b[0m\u001b[0m\n\u001b[0m",
      "\u001b[1;31mNameError\u001b[0m: name 'size' is not defined"
     ]
    }
   ],
   "source": [
    "list_ = [5, 4]\n",
    "size(list_)"
   ]
  },
  {
   "cell_type": "code",
   "execution_count": 6,
   "metadata": {},
   "outputs": [],
   "source": [
    "def Best_Fitness(population, num_generations, num_evaluations, args):    \n",
    "    \"\"\"Plot the output of the evolutionary computation as a graph.\n",
    "    \"\"\"\n",
    "    import matplotlib.pyplot as plt\n",
    "    import numpy\n",
    "    \n",
    "    stats = inspyred.ec.analysis.fitness_statistics(population)\n",
    "    best_fitness = stats['best']\n",
    "    worst_fitness = stats['worst']\n",
    "    median_fitness = stats['median']\n",
    "    average_fitness = stats['mean']\n",
    "    \n",
    "    if num_generations == 0:\n",
    "        plt.ion()\n",
    "        data = [[num_evaluations], [best_fitness]]\n",
    "    \n",
    "    \n",
    "    print(len(best_fit_list))"
   ]
  },
  {
   "cell_type": "code",
   "execution_count": 8,
   "metadata": {},
   "outputs": [],
   "source": [
    "def plot_best_fitness(population, num_generations, num_evaluations, args):    \n",
    "    \"\"\"Plot the output of the evolutionary computation as a graph.\n",
    "    \n",
    "    This function plots the performance of the EC as a line graph \n",
    "    using matplotlib and numpy. The graph consists of a blue line \n",
    "    representing the best fitness, a green line representing the \n",
    "    average fitness, and a red line representing the median fitness.\n",
    "    It modifies the keyword arguments variable 'args' by including an\n",
    "    entry called 'plot_data'.\n",
    "    \n",
    "    If this observer is used, the calling script should also import\n",
    "    the matplotlib library and should end the script with::\n",
    "    \n",
    "        matplotlib.pyplot.show()\n",
    "    \n",
    "    Otherwise, the program may generate a runtime error.\n",
    "    \n",
    "    .. note::\n",
    "    \n",
    "       This function makes use of the matplotlib and numpy libraries.\n",
    "    \n",
    "    .. Arguments:\n",
    "       population -- the population of Individuals\n",
    "       num_generations -- the number of elapsed generations\n",
    "       num_evaluations -- the number of candidate solution evaluations\n",
    "       args -- a dictionary of keyword arguments\n",
    "    \n",
    "    \"\"\"\n",
    "    import matplotlib.pyplot as plt\n",
    "    import numpy\n",
    "    \n",
    "    stats = inspyred.ec.analysis.fitness_statistics(population)\n",
    "    best_fitness = stats['best']\n",
    "    \n",
    "    colors = ['green']\n",
    "    labels = ['best']\n",
    "    data = []\n",
    "    if num_generations == 0:\n",
    "        plt.ion()\n",
    "        data = [[num_evaluations], [best_fitness]]\n",
    "        lines = []\n",
    "        for i in range(1):\n",
    "            line, = plt.plot(data[0], data[i+1], color=colors[i], label=labels[i])\n",
    "            lines.append(line)\n",
    "        # Add the legend when the first data is added.\n",
    "        plt.legend(loc='lower right')\n",
    "        args['plot_data'] = data\n",
    "        args['plot_lines'] = lines\n",
    "        plt.xlabel('Evaluations')\n",
    "        plt.ylabel('Fitness')\n",
    "    else:\n",
    "        data = args['plot_data']\n",
    "        data[0].append(num_evaluations)\n",
    "        data[1].append(best_fitness)\n",
    "        lines = args['plot_lines']\n",
    "        for i, line in enumerate(lines):\n",
    "            line.set_xdata(numpy.array(data[0]))\n",
    "            line.set_ydata(numpy.array(data[i+1]))\n",
    "        args['plot_data'] = data\n",
    "        args['plot_lines'] = lines\n",
    "    ymin = min([min(d) for d in data[1:]])\n",
    "    ymax = max([max(d) for d in data[1:]])\n",
    "    yrange = ymax - ymin\n",
    "    plt.xlim((0, num_evaluations))\n",
    "    plt.ylim((ymin - 0.1*yrange, ymax + 0.1*yrange))\n",
    "    plt.draw()"
   ]
  },
  {
   "cell_type": "code",
   "execution_count": 9,
   "metadata": {},
   "outputs": [
    {
     "name": "stderr",
     "output_type": "stream",
     "text": [
      "c:\\programdata\\miniconda3\\lib\\site-packages\\ipykernel_launcher.py:68: UserWarning: Attempting to set identical bottom == top == 743.8744921708268 results in singular transformations; automatically expanding.\n"
     ]
    },
    {
     "data": {
      "image/png": "[encoded data removed]",
      "text/plain": [
       "<Figure size 432x288 with 1 Axes>"
      ]
     },
     "metadata": {
      "needs_background": "light"
     },
     "output_type": "display_data"
    }
   ],
   "source": [
    "from random import Random\n",
    "from time import time\n",
    "import inspyred\n",
    "\n",
    "if __name__ == '__main__':\n",
    "    prng = Random()\n",
    "    prng.seed(time()) \n",
    "    \n",
    "    problem = inspyred.benchmarks.Rastrigin(50)\n",
    "    ea = inspyred.ec.ES(prng)\n",
    "    ea.observer = plot_observer_2\n",
    "  #  ea.observer = Best_Fitness\n",
    "    ea.terminator = inspyred.ec.terminators.evaluation_termination\n",
    "    final_pop = ea.evolve(generator=problem.generator, \n",
    "                          evaluator=problem.evaluator, \n",
    "                          pop_size=100, \n",
    "                          bounder=problem.bounder,\n",
    "                          maximize=False,\n",
    "                          max_evaluations=5000)\n",
    "    #best = max(final_pop)\n",
    "    #print('Best Solution: \\n{0}'.format(str(best)))"
   ]
  },
  {
   "cell_type": "markdown",
   "metadata": {},
   "source": [
    "# plot_observer unmodified function"
   ]
  },
  {
   "cell_type": "code",
   "execution_count": 6,
   "metadata": {},
   "outputs": [
    {
     "data": {
      "text/plain": [
       "['__annotations__',\n",
       " '__call__',\n",
       " '__class__',\n",
       " '__closure__',\n",
       " '__code__',\n",
       " '__defaults__',\n",
       " '__delattr__',\n",
       " '__dict__',\n",
       " '__dir__',\n",
       " '__doc__',\n",
       " '__eq__',\n",
       " '__format__',\n",
       " '__ge__',\n",
       " '__get__',\n",
       " '__getattribute__',\n",
       " '__globals__',\n",
       " '__gt__',\n",
       " '__hash__',\n",
       " '__init__',\n",
       " '__init_subclass__',\n",
       " '__kwdefaults__',\n",
       " '__le__',\n",
       " '__lt__',\n",
       " '__module__',\n",
       " '__name__',\n",
       " '__ne__',\n",
       " '__new__',\n",
       " '__qualname__',\n",
       " '__reduce__',\n",
       " '__reduce_ex__',\n",
       " '__repr__',\n",
       " '__setattr__',\n",
       " '__sizeof__',\n",
       " '__str__',\n",
       " '__subclasshook__']"
      ]
     },
     "execution_count": 6,
     "metadata": {},
     "output_type": "execute_result"
    }
   ],
   "source": [
    "def plot_observer(population, num_generations, num_evaluations, args):    \n",
    "    \"\"\"Plot the output of the evolutionary computation as a graph.\n",
    "    \n",
    "    This function plots the performance of the EC as a line graph \n",
    "    using matplotlib and numpy. The graph consists of a blue line \n",
    "    representing the best fitness, a green line representing the \n",
    "    average fitness, and a red line representing the median fitness.\n",
    "    It modifies the keyword arguments variable 'args' by including an\n",
    "    entry called 'plot_data'.\n",
    "    \n",
    "    If this observer is used, the calling script should also import\n",
    "    the matplotlib library and should end the script with::\n",
    "    \n",
    "        matplotlib.pyplot.show()\n",
    "    \n",
    "    Otherwise, the program may generate a runtime error.\n",
    "    \n",
    "    .. note::\n",
    "    \n",
    "       This function makes use of the matplotlib and numpy libraries.\n",
    "    \n",
    "    .. Arguments:\n",
    "       population -- the population of Individuals\n",
    "       num_generations -- the number of elapsed generations\n",
    "       num_evaluations -- the number of candidate solution evaluations\n",
    "       args -- a dictionary of keyword arguments\n",
    "    \n",
    "    \"\"\"\n",
    "    import matplotlib.pyplot as plt\n",
    "    import numpy\n",
    "    \n",
    "    stats = inspyred.ec.analysis.fitness_statistics(population)\n",
    "    best_fitness = stats['best']\n",
    "    worst_fitness = stats['worst']\n",
    "    median_fitness = stats['median']\n",
    "    average_fitness = stats['mean']\n",
    "    colors = ['black', 'blue', 'green', 'red']\n",
    "    labels = ['average', 'median', 'best', 'worst']\n",
    "    data = []\n",
    "    if num_generations == 0:\n",
    "        plt.ion()\n",
    "        data = [[num_evaluations], [average_fitness], [median_fitness], [best_fitness], [worst_fitness]]\n",
    "        lines = []\n",
    "        for i in range(4):\n",
    "            line, = plt.plot(data[0], data[i+1], color=colors[i], label=labels[i])\n",
    "            lines.append(line)\n",
    "        # Add the legend when the first data is added.\n",
    "        plt.legend(loc='lower right')\n",
    "        args['plot_data'] = data\n",
    "        args['plot_lines'] = lines\n",
    "        plt.xlabel('Evaluations')\n",
    "        plt.ylabel('Fitness')\n",
    "    else:\n",
    "        data = args['plot_data']\n",
    "        data[0].append(num_evaluations)\n",
    "        data[1].append(average_fitness)\n",
    "        data[2].append(median_fitness)\n",
    "        data[3].append(best_fitness)\n",
    "        data[4].append(worst_fitness)\n",
    "        lines = args['plot_lines']\n",
    "        for i, line in enumerate(lines):\n",
    "            line.set_xdata(numpy.array(data[0]))\n",
    "            line.set_ydata(numpy.array(data[i+1]))\n",
    "        args['plot_data'] = data\n",
    "        args['plot_lines'] = lines\n",
    "    ymin = min([min(d) for d in data[1:]])\n",
    "    ymax = max([max(d) for d in data[1:]])\n",
    "    yrange = ymax - ymin\n",
    "    plt.xlim((0, num_evaluations))\n",
    "    plt.ylim((ymin - 0.1*yrange, ymax + 0.1*yrange))\n",
    "    plt.draw()"
   ]
  }
 ],
 "metadata": {
  "kernelspec": {
   "display_name": "Python 3",
   "language": "python",
   "name": "python3"
  },
  "language_info": {
   "codemirror_mode": {
    "name": "ipython",
    "version": 3
   },
   "file_extension": ".py",
   "mimetype": "text/x-python",
   "name": "python",
   "nbconvert_exporter": "python",
   "pygments_lexer": "ipython3",
   "version": "3.7.4"
  }
 },
 "nbformat": 4,
 "nbformat_minor": 4
}
