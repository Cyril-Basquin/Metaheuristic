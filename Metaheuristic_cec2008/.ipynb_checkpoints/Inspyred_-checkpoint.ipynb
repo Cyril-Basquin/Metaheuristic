{
 "cells": [
  {
   "cell_type": "code",
   "execution_count": null,
   "metadata": {},
   "outputs": [],
   "source": [
    "from random import Random\n",
    "from time import time\n",
    "from math import cos\n",
    "from math import pi\n",
    "from inspyred import ec\n",
    "from inspyred.ec import terminators"
   ]
  },
  {
   "cell_type": "code",
   "execution_count": null,
   "metadata": {},
   "outputs": [],
   "source": [
    "Def generate_rastrigin(random, args):\n",
    "    size = args.get('num_inputs', 10)\n",
    "    return [random.uniform(-5.12, 5.12) for i in range(size)]"
   ]
  },
  {
   "cell_type": "code",
   "execution_count": null,
   "metadata": {},
   "outputs": [],
   "source": [
    "The Evaluator¶\n",
    "\n"
   ]
  },
  {
   "cell_type": "code",
   "execution_count": null,
   "metadata": {},
   "outputs": [],
   "source": [
    "def evaluate_rastrigin(candidates, args):\n",
    "    fitness = []\n",
    "    for cs in candidates:\n",
    "        fit = 10 * len(cs) + sum([((x - 1)**2 - 10 * cos(2 * pi * (x - 1))) for x in cs])\n",
    "        fitness.append(fit)\n",
    "    return fitness"
   ]
  }
 ],
 "metadata": {
  "kernelspec": {
   "display_name": "Python 3",
   "language": "python",
   "name": "python3"
  },
  "language_info": {
   "codemirror_mode": {
    "name": "ipython",
    "version": 3
   },
   "file_extension": ".py",
   "mimetype": "text/x-python",
   "name": "python",
   "nbconvert_exporter": "python",
   "pygments_lexer": "ipython3",
   "version": "3.7.4"
  }
 },
 "nbformat": 4,
 "nbformat_minor": 4
}
