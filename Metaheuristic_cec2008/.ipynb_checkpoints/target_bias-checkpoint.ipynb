{
 "cells": [
  {
   "cell_type": "code",
   "execution_count": 1,
   "metadata": {},
   "outputs": [],
   "source": [
    "try:\n",
    "    from jmetal.core.problem import FloatProblem, FloatSolution\n",
    "except ImportError as e:\n",
    "    print(\"# jmetalpy is not install, deal with it. Trying 'pip install jmetalpy' might be a good move\")\n",
    "    pass"
   ]
  },
  {
   "cell_type": "code",
   "execution_count": 8,
   "metadata": {},
   "outputs": [],
   "source": [
    "class MySphere(FloatProblem):\n",
    "    def __init__(self, number_of_variables: int = 10, low_bound: int = -100, up_bound: int = 100):\n",
    "        super(MySphere, self).__init__()\n",
    "        self.number_of_objectives = 1\n",
    "        self.number_of_variables = number_of_variables\n",
    "        self.number_of_constraints = 0\n",
    "        \n",
    "        self.low_bound = low_bound\n",
    "        self.up_bound = up_bound\n",
    "        \n",
    "        self.obj_directions = [self.MINIMIZE]\n",
    "        self.obj_labels = ['f(x)']\n",
    "\n",
    "        self.lower_bound = [low_bound for _ in range(number_of_variables)]\n",
    "        self.upper_bound = [up_bound for _ in range(number_of_variables)]\n",
    "\n",
    "        FloatSolution.lower_bound = self.lower_bound\n",
    "        FloatSolution.upper_bound = self.upper_bound\n",
    "\n",
    "    def evaluate(self, solution: FloatSolution) -> FloatSolution:\n",
    "        result = 0\n",
    "        x = solution.variables\n",
    "        for i in range(solution.number_of_variables - 1):\n",
    "            result += x[i]**2\n",
    "        result = result -450\n",
    "        solution.objectives[0] = result\n",
    "        return solution\n",
    "\n",
    "    def get_name(self) -> str:\n",
    "        return 'MySphere'"
   ]
  },
  {
   "cell_type": "code",
   "execution_count": 9,
   "metadata": {},
   "outputs": [],
   "source": [
    "problem = MySphere()"
   ]
  },
  {
   "cell_type": "code",
   "execution_count": 10,
   "metadata": {},
   "outputs": [],
   "source": [
    "from jmetal.algorithm.multiobjective.gde3 import GDE3\n",
    "from jmetal.util.termination_criterion import StoppingByEvaluations\n",
    "\n",
    "max_evaluations = 25000\n",
    "Population_Size = 100\n",
    "cr = 0.5\n",
    "f = 0.5\n",
    "\n",
    "algorithm = GDE3(\n",
    "    problem=problem,\n",
    "    population_size=Population_Size,\n",
    "    cr=cr,\n",
    "    f=f,\n",
    "    termination_criterion=StoppingByEvaluations(max_evaluations)\n",
    ")"
   ]
  },
  {
   "cell_type": "code",
   "execution_count": 11,
   "metadata": {},
   "outputs": [],
   "source": [
    "algorithm.run()\n",
    "solutions = algorithm.get_result()"
   ]
  },
  {
   "cell_type": "code",
   "execution_count": 14,
   "metadata": {},
   "outputs": [
    {
     "name": "stderr",
     "output_type": "stream",
     "text": [
      "c:\\programdata\\miniconda3\\lib\\site-packages\\pandas\\plotting\\_matplotlib\\misc.py:380: UserWarning:\n",
      "\n",
      "Attempting to set identical left == right == 0 results in singular transformations; automatically expanding.\n",
      "\n"
     ]
    },
    {
     "data": {
      "image/png": "[encoded data removed]",
      "text/plain": [
       "<Figure size 432x288 with 1 Axes>"
      ]
     },
     "metadata": {
      "needs_background": "light"
     },
     "output_type": "display_data"
    }
   ],
   "source": [
    "from jmetal.lab.visualization.plotting import Plot\n",
    "from jmetal.util.solution import get_non_dominated_solutions\n",
    "\n",
    "front = get_non_dominated_solutions(solutions)\n",
    "\n",
    "plot_front = Plot('Pareto front approximation', axis_labels=['x', 'y'])\n",
    "plot_front.plot(front, label='GDE3-MySphere')"
   ]
  },
  {
   "cell_type": "code",
   "execution_count": 15,
   "metadata": {},
   "outputs": [
    {
     "name": "stdout",
     "output_type": "stream",
     "text": [
      "Algorithm: GDE3\n",
      "Problem: MySphere\n"
     ]
    },
    {
     "ename": "NameError",
     "evalue": "name 'result' is not defined",
     "output_type": "error",
     "traceback": [
      "\u001b[1;31m---------------------------------------------------------------------------\u001b[0m",
      "\u001b[1;31mNameError\u001b[0m                                 Traceback (most recent call last)",
      "\u001b[1;32m<ipython-input-15-ca76fac27c9b>\u001b[0m in \u001b[0;36m<module>\u001b[1;34m\u001b[0m\n\u001b[0;32m      1\u001b[0m \u001b[0mprint\u001b[0m\u001b[1;33m(\u001b[0m\u001b[1;34m'Algorithm: {}'\u001b[0m\u001b[1;33m.\u001b[0m\u001b[0mformat\u001b[0m\u001b[1;33m(\u001b[0m\u001b[0malgorithm\u001b[0m\u001b[1;33m.\u001b[0m\u001b[0mget_name\u001b[0m\u001b[1;33m(\u001b[0m\u001b[1;33m)\u001b[0m\u001b[1;33m)\u001b[0m\u001b[1;33m)\u001b[0m\u001b[1;33m\u001b[0m\u001b[1;33m\u001b[0m\u001b[0m\n\u001b[0;32m      2\u001b[0m \u001b[0mprint\u001b[0m\u001b[1;33m(\u001b[0m\u001b[1;34m'Problem: {}'\u001b[0m\u001b[1;33m.\u001b[0m\u001b[0mformat\u001b[0m\u001b[1;33m(\u001b[0m\u001b[0mproblem\u001b[0m\u001b[1;33m.\u001b[0m\u001b[0mget_name\u001b[0m\u001b[1;33m(\u001b[0m\u001b[1;33m)\u001b[0m\u001b[1;33m)\u001b[0m\u001b[1;33m)\u001b[0m\u001b[1;33m\u001b[0m\u001b[1;33m\u001b[0m\u001b[0m\n\u001b[1;32m----> 3\u001b[1;33m \u001b[0mprint\u001b[0m\u001b[1;33m(\u001b[0m\u001b[1;34m'Solution: {}'\u001b[0m\u001b[1;33m.\u001b[0m\u001b[0mformat\u001b[0m\u001b[1;33m(\u001b[0m\u001b[0mresult\u001b[0m\u001b[1;33m.\u001b[0m\u001b[0mvariables\u001b[0m\u001b[1;33m)\u001b[0m\u001b[1;33m)\u001b[0m\u001b[1;33m\u001b[0m\u001b[1;33m\u001b[0m\u001b[0m\n\u001b[0m\u001b[0;32m      4\u001b[0m \u001b[0mprint\u001b[0m\u001b[1;33m(\u001b[0m\u001b[1;34m'Fitness: {}'\u001b[0m\u001b[1;33m.\u001b[0m\u001b[0mformat\u001b[0m\u001b[1;33m(\u001b[0m\u001b[0mresult\u001b[0m\u001b[1;33m.\u001b[0m\u001b[0mobjectives\u001b[0m\u001b[1;33m[\u001b[0m\u001b[1;36m0\u001b[0m\u001b[1;33m]\u001b[0m\u001b[1;33m)\u001b[0m\u001b[1;33m)\u001b[0m\u001b[1;33m\u001b[0m\u001b[1;33m\u001b[0m\u001b[0m\n\u001b[0;32m      5\u001b[0m \u001b[0mprint\u001b[0m\u001b[1;33m(\u001b[0m\u001b[1;34m'Computing time: {}'\u001b[0m\u001b[1;33m.\u001b[0m\u001b[0mformat\u001b[0m\u001b[1;33m(\u001b[0m\u001b[0malgorithm\u001b[0m\u001b[1;33m.\u001b[0m\u001b[0mtotal_computing_time\u001b[0m\u001b[1;33m)\u001b[0m\u001b[1;33m)\u001b[0m\u001b[1;33m\u001b[0m\u001b[1;33m\u001b[0m\u001b[0m\n",
      "\u001b[1;31mNameError\u001b[0m: name 'result' is not defined"
     ]
    }
   ],
   "source": [
    "print('Algorithm: {}'.format(algorithm.get_name()))\n",
    "print('Problem: {}'.format(problem.get_name()))\n",
    "print('Solution: {}'.format(result.variables))\n",
    "print('Fitness: {}'.format(result.objectives[0]))\n",
    "print('Computing time: {}'.format(algorithm.total_computing_time))"
   ]
  }
 ],
 "metadata": {
  "kernelspec": {
   "display_name": "Python 3",
   "language": "python",
   "name": "python3"
  },
  "language_info": {
   "codemirror_mode": {
    "name": "ipython",
    "version": 3
   },
   "file_extension": ".py",
   "mimetype": "text/x-python",
   "name": "python",
   "nbconvert_exporter": "python",
   "pygments_lexer": "ipython3",
   "version": "3.7.4"
  }
 },
 "nbformat": 4,
 "nbformat_minor": 4
}
