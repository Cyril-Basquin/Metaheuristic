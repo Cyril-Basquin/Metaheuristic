{
 "cells": [
  {
   "cell_type": "code",
   "execution_count": 1,
   "metadata": {},
   "outputs": [],
   "source": [
    "try:\n",
    "    from jmetal.core.problem import FloatProblem, FloatSolution\n",
    "    from jmetal.util.termination_criterion import StoppingByEvaluations\n",
    "except ImportError as e:\n",
    "    print(\"# jmetalpy is not install, deal with it. Trying 'pip install jmetalpy' might be a good move\")\n",
    "    pass"
   ]
  },
  {
   "cell_type": "code",
   "execution_count": 2,
   "metadata": {},
   "outputs": [],
   "source": [
    "class MySphere(FloatProblem):\n",
    "    def __init__(self, number_of_variables: int = 10, low_bound: int = -100, up_bound: int = 100):\n",
    "        super(MySphere, self).__init__()\n",
    "        self.number_of_objectives = 1\n",
    "        self.number_of_variables = number_of_variables\n",
    "        self.number_of_constraints = 0\n",
    "        \n",
    "        self.low_bound = low_bound\n",
    "        self.up_bound = up_bound\n",
    "        \n",
    "        self.obj_directions = [self.MINIMIZE]\n",
    "        self.obj_labels = ['f(x)']\n",
    "\n",
    "        self.lower_bound = [low_bound for _ in range(number_of_variables)]\n",
    "        self.upper_bound = [up_bound for _ in range(number_of_variables)]\n",
    "\n",
    "        FloatSolution.lower_bound = self.lower_bound\n",
    "        FloatSolution.upper_bound = self.upper_bound\n",
    "\n",
    "    def evaluate(self, solution: FloatSolution) -> FloatSolution:\n",
    "        result = 0\n",
    "        x = solution.variables\n",
    "        for i in range(solution.number_of_variables - 1):\n",
    "            result += x[i]**2\n",
    "        result = result - 450\n",
    "        solution.objectives[0] = result\n",
    "        return solution\n",
    "\n",
    "    def get_name(self) -> str:\n",
    "        return 'MySphere'"
   ]
  },
  {
   "cell_type": "code",
   "execution_count": 3,
   "metadata": {},
   "outputs": [],
   "source": [
    "problem = MySphere(50)"
   ]
  },
  {
   "cell_type": "code",
   "execution_count": 4,
   "metadata": {},
   "outputs": [],
   "source": [
    "from jmetal.algorithm.singleobjective.genetic_algorithm import GeneticAlgorithm\n",
    "from jmetal.operator import BestSolutionSelection, SimpleRandomMutation, SBXCrossover\n",
    "\n",
    "algorithm = GeneticAlgorithm(\n",
    "    problem=problem,\n",
    "    population_size=100,\n",
    "    offspring_population_size=50,\n",
    "    mutation=SimpleRandomMutation(0.4),\n",
    "    crossover=SBXCrossover(0.9, 20.0),\n",
    "    selection=BestSolutionSelection(),\n",
    "    termination_criterion=StoppingByEvaluations(5000)\n",
    ")"
   ]
  },
  {
   "cell_type": "code",
   "execution_count": 5,
   "metadata": {},
   "outputs": [],
   "source": [
    "algorithm.run()\n",
    "result= algorithm.get_result()"
   ]
  },
  {
   "cell_type": "code",
   "execution_count": 6,
   "metadata": {},
   "outputs": [
    {
     "ename": "TypeError",
     "evalue": "'FloatSolution' object is not iterable",
     "output_type": "error",
     "traceback": [
      "\u001b[1;31m---------------------------------------------------------------------------\u001b[0m",
      "\u001b[1;31mTypeError\u001b[0m                                 Traceback (most recent call last)",
      "\u001b[1;32m<ipython-input-6-ca4299e6809c>\u001b[0m in \u001b[0;36m<module>\u001b[1;34m\u001b[0m\n\u001b[0;32m      2\u001b[0m \u001b[1;32mfrom\u001b[0m \u001b[0mjmetal\u001b[0m\u001b[1;33m.\u001b[0m\u001b[0mutil\u001b[0m\u001b[1;33m.\u001b[0m\u001b[0msolution\u001b[0m \u001b[1;32mimport\u001b[0m \u001b[0mget_non_dominated_solutions\u001b[0m\u001b[1;33m\u001b[0m\u001b[1;33m\u001b[0m\u001b[0m\n\u001b[0;32m      3\u001b[0m \u001b[1;33m\u001b[0m\u001b[0m\n\u001b[1;32m----> 4\u001b[1;33m \u001b[0mfront\u001b[0m \u001b[1;33m=\u001b[0m \u001b[0mget_non_dominated_solutions\u001b[0m\u001b[1;33m(\u001b[0m\u001b[0mresult\u001b[0m\u001b[1;33m)\u001b[0m\u001b[1;33m\u001b[0m\u001b[1;33m\u001b[0m\u001b[0m\n\u001b[0m\u001b[0;32m      5\u001b[0m \u001b[1;33m\u001b[0m\u001b[0m\n\u001b[0;32m      6\u001b[0m \u001b[0mplot_front\u001b[0m \u001b[1;33m=\u001b[0m \u001b[0mPlot\u001b[0m\u001b[1;33m(\u001b[0m\u001b[1;34m'Pareto front approximation'\u001b[0m\u001b[1;33m,\u001b[0m \u001b[0maxis_labels\u001b[0m\u001b[1;33m=\u001b[0m\u001b[1;33m[\u001b[0m\u001b[1;34m'x'\u001b[0m\u001b[1;33m,\u001b[0m \u001b[1;34m'y'\u001b[0m\u001b[1;33m]\u001b[0m\u001b[1;33m)\u001b[0m\u001b[1;33m\u001b[0m\u001b[1;33m\u001b[0m\u001b[0m\n",
      "\u001b[1;32mc:\\programdata\\miniconda3\\lib\\site-packages\\jmetal\\util\\solution.py\u001b[0m in \u001b[0;36mget_non_dominated_solutions\u001b[1;34m(solutions)\u001b[0m\n\u001b[0;32m     22\u001b[0m     \u001b[0marchive\u001b[0m\u001b[1;33m:\u001b[0m \u001b[0mArchive\u001b[0m \u001b[1;33m=\u001b[0m \u001b[0mNonDominatedSolutionsArchive\u001b[0m\u001b[1;33m(\u001b[0m\u001b[1;33m)\u001b[0m\u001b[1;33m\u001b[0m\u001b[1;33m\u001b[0m\u001b[0m\n\u001b[0;32m     23\u001b[0m \u001b[1;33m\u001b[0m\u001b[0m\n\u001b[1;32m---> 24\u001b[1;33m     \u001b[1;32mfor\u001b[0m \u001b[0msolution\u001b[0m \u001b[1;32min\u001b[0m \u001b[0msolutions\u001b[0m\u001b[1;33m:\u001b[0m\u001b[1;33m\u001b[0m\u001b[1;33m\u001b[0m\u001b[0m\n\u001b[0m\u001b[0;32m     25\u001b[0m         \u001b[0marchive\u001b[0m\u001b[1;33m.\u001b[0m\u001b[0madd\u001b[0m\u001b[1;33m(\u001b[0m\u001b[0msolution\u001b[0m\u001b[1;33m)\u001b[0m\u001b[1;33m\u001b[0m\u001b[1;33m\u001b[0m\u001b[0m\n\u001b[0;32m     26\u001b[0m \u001b[1;33m\u001b[0m\u001b[0m\n",
      "\u001b[1;31mTypeError\u001b[0m: 'FloatSolution' object is not iterable"
     ]
    }
   ],
   "source": [
    "from jmetal.lab.visualization.plotting import Plot\n",
    "from jmetal.util.solution import get_non_dominated_solutions\n",
    "\n",
    "front = get_non_dominated_solutions(result)\n",
    "\n",
    "plot_front = Plot('Pareto front approximation', axis_labels=['x', 'y'])\n",
    "plot_front.plot(front, label='GDE3-MySphere')"
   ]
  },
  {
   "cell_type": "code",
   "execution_count": null,
   "metadata": {
    "scrolled": true
   },
   "outputs": [],
   "source": [
    "print('Algorithm: {}'.format(algorithm.get_name()))\n",
    "print('Problem: {}'.format(problem.get_name()))\n",
    "print('Solution: {}'.format(result.variables))\n",
    "print('Fitness: {}'.format(result.objectives[0]))\n",
    "print('Computing time: {}'.format(algorithm.total_computing_time))"
   ]
  }
 ],
 "metadata": {
  "kernelspec": {
   "display_name": "Python 3",
   "language": "python",
   "name": "python3"
  },
  "language_info": {
   "codemirror_mode": {
    "name": "ipython",
    "version": 3
   },
   "file_extension": ".py",
   "mimetype": "text/x-python",
   "name": "python",
   "nbconvert_exporter": "python",
   "pygments_lexer": "ipython3",
   "version": "3.7.4"
  }
 },
 "nbformat": 4,
 "nbformat_minor": 4
}
