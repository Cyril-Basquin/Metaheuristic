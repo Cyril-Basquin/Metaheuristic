{
 "cells": [
  {
   "cell_type": "markdown",
   "metadata": {},
   "source": [
    "# Rastrigin GA"
   ]
  },
  {
   "cell_type": "code",
   "execution_count": 1,
   "metadata": {},
   "outputs": [],
   "source": [
    "def plot_best_fitness(population, num_generations, num_evaluations, args):    \n",
    "    \"\"\"   \n",
    "    .. Arguments:\n",
    "       population -- the population of Individuals\n",
    "       num_generations -- the number of elapsed generations\n",
    "       num_evaluations -- the number of candidate solution evaluations\n",
    "       args -- a dictionary of keyword arguments\n",
    "    \n",
    "    \"\"\"\n",
    "    import matplotlib.pyplot as plt\n",
    "    import numpy\n",
    "    \n",
    "    stats = inspyred.ec.analysis.fitness_statistics(population)\n",
    "    best_fitness = stats['best']\n",
    "    \n",
    "    data = []\n",
    "    if num_generations == 0:\n",
    "        plt.ion()\n",
    "        data = [[num_evaluations], [best_fitness]]\n",
    "        lines = []\n",
    "        for i in range(1):\n",
    "            line, = plt.plot(data[0], data[i+1], color='green', label='best')\n",
    "            lines.append(line)\n",
    "        # Add the legend when the first data is added.\n",
    "        plt.legend(loc='upper right')\n",
    "        args['plot_data'] = data\n",
    "        args['plot_lines'] = lines\n",
    "        plt.xlabel('Evaluations')\n",
    "        plt.ylabel('Fitness')\n",
    "    else:\n",
    "        data = args['plot_data']\n",
    "        data[0].append(num_evaluations)\n",
    "        data[1].append(best_fitness)\n",
    "        lines = args['plot_lines']\n",
    "        for i, line in enumerate(lines):\n",
    "            line.set_xdata(numpy.array(data[0]))\n",
    "            line.set_ydata(numpy.array(data[i+1]))\n",
    "        args['plot_data'] = data\n",
    "        args['plot_lines'] = lines\n",
    "    ymin = min([min(d) for d in data[1:]])\n",
    "    ymax = max([max(d) for d in data[1:]])\n",
    "    yrange = ymax - ymin\n",
    "    plt.xlim((0, num_evaluations))\n",
    "    plt.ylim((ymin - 0.1*yrange, ymax + 0.1*yrange))\n",
    "    plt.draw()"
   ]
  },
  {
   "cell_type": "code",
   "execution_count": 17,
   "metadata": {},
   "outputs": [
    {
     "name": "stderr",
     "output_type": "stream",
     "text": [
      "c:\\programdata\\miniconda3\\lib\\site-packages\\ipykernel_launcher.py:44: UserWarning: Attempting to set identical bottom == top == 741.7441649402945 results in singular transformations; automatically expanding.\n"
     ]
    },
    {
     "name": "stdout",
     "output_type": "stream",
     "text": [
      "[-0.04409257847949899, -0.11914477558473813, 0.24414380000965252, -1.0704543674792442, -1.8100070562538715, -0.6221577587757388, -0.8271986375674967, 2.1139228730498756, -0.059311204032372444, 0.08145283214304744, -1.9040764218932305, 1.1515637864951476, 1.9279143512096093, -4.010150064135157, 0.09864293456980278, 1.0197966454659344, 0.9115387742543133, -1.2200433554579218, -1.4662957719185838, -0.8042432284063876, -2.1126585529115265, -1.9975234741996348, 0.01003551204686115, -1.0050083753357493, 2.984968375332225, -2.823783102832507, 0.8103442049172189, 0.9760104379898333, -1.2354607471103565, 1.7343326035291682, -1.227107066039109, 0.9444908943567905, -0.2090565171145986, -0.8870528549856234, -0.20058358690053524, 1.8797999985993874, -1.858271702121224, 0.028755185041470455, -2.081717805377672, -1.0351792969530882, -0.07286487281838916, 0.10634883454989463, -1.160726186405285, -3.0060033821980356, 2.165690083415962, 0.07128203242700604, 3.960255212833469, -3.759156259989678, 0.8881641462717855, -2.139601142859858] : 329.4190161062064\n"
     ]
    },
    {
     "data": {
      "image/png": "[encoded data removed]",
      "text/plain": [
       "<Figure size 432x288 with 1 Axes>"
      ]
     },
     "metadata": {
      "needs_background": "light"
     },
     "output_type": "display_data"
    }
   ],
   "source": [
    "import random\n",
    "import time\n",
    "import inspyred\n",
    "\n",
    "\n",
    "rand = random.Random()\n",
    "rand.seed(int(time.time()))\n",
    "\n",
    "problem = inspyred.benchmarks.Rastrigin(50)\n",
    "\n",
    "ga = inspyred.ec.GA(rand)\n",
    "ga.observer = plot_best_fitness\n",
    "ga.terminator = inspyred.ec.terminators.evaluation_termination\n",
    "final_pop = ga.evolve(evaluator=problem.evaluator,\n",
    "                      generator=problem.generator,\n",
    "                      max_evaluations=25000,\n",
    "                      num_elites=1,\n",
    "                      pop_size=100,\n",
    "                      num_bits=10,\n",
    "                      maximize= False)\n",
    "\n",
    "final_pop.sort(reverse=True)\n",
    "print(final_pop[0])"
   ]
  },
  {
   "cell_type": "code",
   "execution_count": 14,
   "metadata": {
    "scrolled": true
   },
   "outputs": [
    {
     "name": "stdout",
     "output_type": "stream",
     "text": [
      "['__call__', '__class__', '__delattr__', '__dict__', '__dir__', '__doc__', '__eq__', '__format__', '__ge__', '__getattribute__', '__gt__', '__hash__', '__init__', '__init_subclass__', '__le__', '__lt__', '__module__', '__ne__', '__new__', '__reduce__', '__reduce_ex__', '__repr__', '__setattr__', '__sizeof__', '__str__', '__subclasshook__', '__weakref__', 'bounder', 'dimensions', 'evaluator', 'generator', 'global_optimum', 'maximize', 'objectives']\n",
      "\n",
      "\n",
      "Dimension of the problem: 100\n",
      "Bounds of the problem: <inspyred.ec.ec.Bounder object at 0x0000026B9BD41D48>\n",
      "Evaluator: <bound method Rastrigin.evaluator of Rastrigin>\n",
      "Generator: <bound method Rastrigin.generator of Rastrigin>\n",
      "Global optimum: [0, 0, 0, 0, 0, 0, 0, 0, 0, 0, 0, 0, 0, 0, 0, 0, 0, 0, 0, 0, 0, 0, 0, 0, 0, 0, 0, 0, 0, 0, 0, 0, 0, 0, 0, 0, 0, 0, 0, 0, 0, 0, 0, 0, 0, 0, 0, 0, 0, 0, 0, 0, 0, 0, 0, 0, 0, 0, 0, 0, 0, 0, 0, 0, 0, 0, 0, 0, 0, 0, 0, 0, 0, 0, 0, 0, 0, 0, 0, 0, 0, 0, 0, 0, 0, 0, 0, 0, 0, 0, 0, 0, 0, 0, 0, 0, 0, 0, 0, 0]\n",
      "Maximize: False\n",
      "Objectives: 1\n"
     ]
    }
   ],
   "source": [
    "print(dir(problem))\n",
    "print('\\n')\n",
    "print('Dimension of the problem: {}'.format(problem.dimensions))\n",
    "print('Bounds of the problem: {}'.format(problem.bounder))\n",
    "print('Evaluator: {}'.format(problem.evaluator))\n",
    "print('Generator: {}'.format(problem.generator))\n",
    "print('Global optimum: {}'.format(problem.global_optimum))\n",
    "print('Maximize: {}'.format(problem.maximize))\n",
    "print('Objectives: {}'.format(problem.objectives))"
   ]
  },
  {
   "cell_type": "code",
   "execution_count": 15,
   "metadata": {},
   "outputs": [
    {
     "data": {
      "text/plain": [
       "100"
      ]
     },
     "execution_count": 15,
     "metadata": {},
     "output_type": "execute_result"
    }
   ],
   "source": [
    "test = (final_pop[0].candidate)\n",
    "len(test)"
   ]
  }
 ],
 "metadata": {
  "kernelspec": {
   "display_name": "Python 3",
   "language": "python",
   "name": "python3"
  },
  "language_info": {
   "codemirror_mode": {
    "name": "ipython",
    "version": 3
   },
   "file_extension": ".py",
   "mimetype": "text/x-python",
   "name": "python",
   "nbconvert_exporter": "python",
   "pygments_lexer": "ipython3",
   "version": "3.7.4"
  }
 },
 "nbformat": 4,
 "nbformat_minor": 4
}
